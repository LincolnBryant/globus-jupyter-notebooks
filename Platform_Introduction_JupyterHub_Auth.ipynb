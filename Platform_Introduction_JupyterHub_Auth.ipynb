{
 "cells": [
  {
   "cell_type": "markdown",
   "metadata": {},
   "source": [
    "<img src=\"img/platform_introduction_jupyterhub_header.png\">\n",
    "\n",
    "# Globus SDK\n",
    "- Source code: https://github.com/globus/globus-sdk-python\n",
    "- Documenation: https://globus-sdk-python.readthedocs.io/en/stable/\n",
    "\n",
    "\n",
    "# Requirements\n",
    "- Membership in the [Tutorial Users Group](https://app.globus.org/groups/50b6a29c-63ac-11e4-8062-22000ab68755) for sharing.\n",
    "- Installed Globus Python SDK"
   ]
  },
  {
   "cell_type": "code",
   "execution_count": null,
   "metadata": {},
   "outputs": [],
   "source": [
    "import json  # just so we can pretty-print response data\n",
    "\n",
    "# Feel free to replace the endpoint UUIDs below with those of your own endpoints\n",
    "tutorial_endpoint_1 = \"ddb59aef-6d04-11e5-ba46-22000b92c6ec\"  # endpoint \"Globus Tutorial Endpoint 1\"\n",
    "tutorial_endpoint_2 = \"ddb59af0-6d04-11e5-ba46-22000b92c6ec\"  # endpoint \"Globus Tutorial Endpoint 2\"\n",
    "tutorial_users_group = \"50b6a29c-63ac-11e4-8062-22000ab68755\"  # group \"Tutorial Users\"\n",
    "\n",
    "# These are to get the tokens\n",
    "import os\n",
    "import pickle\n",
    "import base64"
   ]
  },
  {
   "cell_type": "markdown",
   "metadata": {},
   "source": [
    "# Authentication and Transfer Client Configuration\n",
    "\n",
    "The Globus Python SDK makes transfer functionality available via a TransferClient class.\n",
    "\n",
    "We want to configure a TransferClient with an OAuth2 access token, to authenticate its connections with Globus.\n",
    "\n",
    "In order to do this, we will:\n",
    "1. Pull Globus Auth tokens from the JupyterHub Notebook Server environment\n",
    "2. Create a TransferClient object using the Transfer Access Token as its authorization method"
   ]
  },
  {
   "cell_type": "code",
   "execution_count": null,
   "metadata": {},
   "outputs": [],
   "source": [
    "import globus_sdk\n",
    "\n",
    "CLIENT_ID = \"3b1925c0-a87b-452b-a492-2c9921d3bd14\"  # client ID of the Jupyter Demo App in Globus Auth\n",
    "\n",
    "# The tokens are passed into the environment base64 encoded pickled Python dictionary \n",
    "# assigned to the GLOBUS_DATA variable. We'll grab the variable and unpack it.\n",
    "globus_env_data = os.getenv('GLOBUS_DATA')  # get the raw base64 encoded data\n",
    "pickled_tokens = base64.b64decode(globus_env_data)  # get the pickled tokens\n",
    "\n",
    "# Unpickle and get the dictionary\n",
    "tokens = pickle.loads(pickled_tokens)\n",
    "isinstance(tokens, dict)\n",
    "\n",
    "# print(json.dumps(tokens, indent=4, sort_keys=True))  # look inside the tokens\n",
    "\n",
    "# Extract the Access Token for Globus Transfer using the service name \"transfer.api.globus.org\"\n",
    "transfer_access_token = tokens['tokens']['transfer.api.globus.org']['access_token']\n",
    "\n",
    "# print(transfer_access_token)  # confirm that we got the token we expected\n",
    "\n",
    "# Wrap the token in an object that implements the globus_sdk.GlobusAuthorizer interface\n",
    "# in this case, an AccessTokenAuthorizer, which takes an access token and produces Bearer Auth headers\n",
    "transfer_authorizer = globus_sdk.AccessTokenAuthorizer(transfer_access_token)\n",
    "\n",
    "# Create a TransferClient object which Authorizes its calls using that GlobusAuthorizer\n",
    "tc = globus_sdk.TransferClient(authorizer=transfer_authorizer)"
   ]
  },
  {
   "cell_type": "markdown",
   "metadata": {},
   "source": [
    "## Help\n",
    "\n",
    "Test that our transfer client works by requesting help on the `get_endpoint` method. You can use this to get help on any method."
   ]
  },
  {
   "cell_type": "code",
   "execution_count": null,
   "metadata": {},
   "outputs": [],
   "source": [
    "help(tc.get_endpoint)"
   ]
  },
  {
   "cell_type": "markdown",
   "metadata": {},
   "source": [
    "## Using the client\n",
    "\n",
    "The transfer client makes REST resources available via easy to use methods. The response from these methods wraps the HTTP response status, content type, text and JSON response body. "
   ]
  },
  {
   "cell_type": "code",
   "execution_count": null,
   "metadata": {},
   "outputs": [],
   "source": [
    "response = tc.get_endpoint(tutorial_endpoint_1)\n",
    "print(f\"HTTP Status Code: {response.http_status}\")\n",
    "print(f\"Content Type: {response.content_type}\")\n",
    "print(f\"Endpoint Display Name: {response['display_name']}\")  # shortcut for response.data['display_name']\n",
    "print(f\"Data: {response}\")"
   ]
  },
  {
   "cell_type": "markdown",
   "metadata": {},
   "source": [
    "Helper methods for APIs that returns lists have iterable responses, and automatically take care of paging where required:"
   ]
  },
  {
   "cell_type": "code",
   "execution_count": null,
   "metadata": {},
   "outputs": [],
   "source": [
    "response = tc.endpoint_search(filter_scope=\"my-endpoints\")\n",
    "for ep in response:\n",
    "    print(f\"{ep['display_name'] or ep['canonical_name']} ({ep['id']})\")"
   ]
  },
  {
   "cell_type": "markdown",
   "metadata": {},
   "source": [
    "If a helper method is not yet available for the desired API call, or for more low level control, the low-level interface can be used. Note that the low level interface does not do automatic paging:"
   ]
  },
  {
   "cell_type": "code",
   "execution_count": null,
   "metadata": {},
   "outputs": [],
   "source": [
    "response = tc.get(\"/endpoint_search\", query_params=dict(filter_fulltext=\"Globus Tutorial Endpoint\", limit=1))\n",
    "if response['DATA']:\n",
    "    print(f\"Endpoint ID: {response['DATA'][0]['id']} (Owner: {response['DATA'][0]['owner_string']})\")\n",
    "    print(f\"More matches? {response['has_next_page']}\")\n",
    "else:\n",
    "    print(\"No results\")"
   ]
  },
  {
   "cell_type": "markdown",
   "metadata": {},
   "source": [
    "## Handling errors\n",
    "\n",
    "If the API returns an error response (HTTP status code 4xx or 5xx), it will be translated to a Python exception and raised:"
   ]
  },
  {
   "cell_type": "code",
   "execution_count": null,
   "metadata": {},
   "outputs": [],
   "source": [
    "try:\n",
    "    response = tc.get_endpoint(\"dcb2e10e-de27-4b99-8722-1a69aa3fc467\")\n",
    "except globus_sdk.GlobusAPIError as error:\n",
    "    print(f\"HTTP Status Code: {error.http_status}\")\n",
    "    print(f\"Error Code      : {error.code}\")\n",
    "    print(f\"Error Message   : {error.message}\")"
   ]
  },
  {
   "cell_type": "markdown",
   "metadata": {},
   "source": [
    "There are five basic classes of errors:\n",
    "\n",
    "1. Bad request - there is something wrong with the request from the client, like a mispelled parameter name or missing required data. These errors have a code that starts with ``BadRequest`` or ``ClientError.BadRequest``.\n",
    "2. State conflict - this is a very broad category, and covers all the errors that can happen during normal operation, and neither the client nor the server could have anticipated and avoided the error. Examples: local filesystem permissions not allowing the requested path on a remote GridFTP endpoint, endpoint not found (could have been deleted concurrently by another client). This also includes network errors communicating with GridFTP endpoints and other external services. These errors typically have a code containing ``PermissionDenied``, ``Conflict``, or ``ExternalError``.\n",
    "3. Network error - network failure between the REST client and the REST API server. These errors will result in a ``globus_sdk.NetworkError`` being raised by the SDK.\n",
    "4. Planned downtime - code ``ServiceUnavailable``.\n",
    "5. Server error - caused by a bug in the REST API server (code ``ServerError.InternalError``). We log such errors and incorperate fixes into our next release, but developers are still encouraged to submit details to the mailing list when they encounter these errors. Note that sometimes these errors are actually a sign of a bad request type error, i.e. the bug in the server is that it's not anticipating the exact type of bad data, so it's not reporting the correct error code, but the problem can still be resolved by a change to the client."
   ]
  },
  {
   "cell_type": "markdown",
   "metadata": {},
   "source": [
    "# Endpoint management"
   ]
  },
  {
   "cell_type": "markdown",
   "metadata": {},
   "source": [
    "## Endpoint search\n",
    "\n",
    "Globus has tens of thousands of registered endpoints. To find endpoints of interest you can access powerful search capabilities via the SDK. For example, to search for a given string across the descriptive fields of endpoints (names, description, keywords):"
   ]
  },
  {
   "cell_type": "code",
   "execution_count": null,
   "metadata": {
    "scrolled": true
   },
   "outputs": [],
   "source": [
    "search_str = \"Globus Tutorial Endpoint\"\n",
    "endpoints = tc.endpoint_search(search_str)\n",
    "print(f\"==== Displaying endpoints that match '{search_str}' ===\")\n",
    "for ep in endpoints:\n",
    "    print(f\"{ep['display_name'] or ep['canonical_name']} ({ep['id']})\")"
   ]
  },
  {
   "cell_type": "markdown",
   "metadata": {},
   "source": [
    "## Restricting search scope with filters\n",
    "\n",
    "There are also a number of default filters to restrict the search for 'my-endpoints', 'my-gcp-endpoints',     'recently-used', 'in-use', 'shared-by-me','shared-with-me') "
   ]
  },
  {
   "cell_type": "code",
   "execution_count": null,
   "metadata": {},
   "outputs": [],
   "source": [
    "search_str = None\n",
    "endpoints = tc.endpoint_search(filter_fulltext=search_str, filter_scope=\"recently-used\")\n",
    "for ep in endpoints:\n",
    "    print(f\"{ep['display_name'] or ep['canonical_name']} ({ep['id']})\")"
   ]
  },
  {
   "cell_type": "markdown",
   "metadata": {},
   "source": [
    "## Endpoint details\n",
    "\n",
    "You can also retrieve complete information about an endpoint, including name, owner, and configuration details. "
   ]
  },
  {
   "cell_type": "code",
   "execution_count": null,
   "metadata": {},
   "outputs": [],
   "source": [
    "endpoint = tc.get_endpoint(tutorial_endpoint_1)\n",
    "print(f\"Display Name: {endpoint['display_name']}\")\n",
    "print(f\"Owner       : {endpoint['owner_string']}\")\n",
    "print(f\"ID          : {endpoint['id']}\")\n",
    "print(f\"Network Use - Concurrency = {endpoint['preferred_concurrency']}\")\n",
    "print(f\"Network Use - Parallelism = {endpoint['preferred_parallelism']}\")"
   ]
  },
  {
   "cell_type": "markdown",
   "metadata": {},
   "source": [
    "# File operations"
   ]
  },
  {
   "cell_type": "markdown",
   "metadata": {},
   "source": [
    "## Autoactivate Endpoints\n",
    "Globus endpoints must be \"activated\" before they can be used, which means associating a credential with the endpoint that is used for login to that endpoint. Before performing operations against an endpoint, you should \"autoactivate\" the endpoint. On Globus Connect Personal endpoints and shared collections, autoactivation will automatically create the necessary credentials to access the endpoint. For endpoints that require activation (i.e., those with mapped collections) you can activate those endpoints via the Globus website. Here we autoactivate the Globus tutorial endpoints using their endpoint IDs."
   ]
  },
  {
   "cell_type": "code",
   "execution_count": null,
   "metadata": {},
   "outputs": [],
   "source": [
    "# help(tc.endpoint_activate)\n",
    "response = tc.endpoint_autoactivate(tutorial_endpoint_1)\n",
    "print(f\"Response: {response['code']}\\n{response['message']}\")"
   ]
  },
  {
   "cell_type": "markdown",
   "metadata": {},
   "source": [
    "## Get a directory listing\n",
    "\n",
    "Having activated an endpoint, you can now perform operations on it. For example, performing an ls command to retrieve directory contents. "
   ]
  },
  {
   "cell_type": "code",
   "execution_count": null,
   "metadata": {},
   "outputs": [],
   "source": [
    "# help(tc.operation_ls)\n",
    "endpoint_id = tutorial_endpoint_1\n",
    "endpoint_path = \"/share/godata/\"\n",
    "response = tc.operation_ls(endpoint_id, path=endpoint_path)\n",
    "print(f\"==== 'ls' for {endpoint_path} on endpoint {endpoint_id} ====\")\n",
    "for item in response:\n",
    "    print(f\"{item['type']}: {item['name']} [{item['size']}]\")"
   ]
  },
  {
   "cell_type": "markdown",
   "metadata": {},
   "source": [
    "## Make directory\n",
    "\n",
    "You can create a new directory."
   ]
  },
  {
   "cell_type": "code",
   "execution_count": null,
   "metadata": {},
   "outputs": [],
   "source": [
    "# help(tc.operation_mkdir)\n",
    "try:\n",
    "    new_path = \"/~/tutorial_dir\"\n",
    "    mkdir_result = tc.operation_mkdir(endpoint_id, path=new_path)\n",
    "    print(mkdir_result['message'])\n",
    "except globus_sdk.GlobusAPIError as error:\n",
    "    print(f\"Error code: {error.code}\\nError message: {error.message}\")"
   ]
  },
  {
   "cell_type": "markdown",
   "metadata": {},
   "source": [
    "## Rename\n",
    "\n",
    "You can rename files and directories on your endpoints. "
   ]
  },
  {
   "cell_type": "code",
   "execution_count": null,
   "metadata": {},
   "outputs": [],
   "source": [
    "# help(tc.operation_rename)\n",
    "try:\n",
    "    response = tc.operation_rename(endpoint_id, oldpath=\"/~/tutorial_dir\", newpath=\"/~/tutorial_dir_renamed\")\n",
    "    print(response['message'])\n",
    "except globus_sdk.GlobusAPIError as error:\n",
    "    print(f\"Error code: {error.code}\\nError message: {error.message}\")"
   ]
  },
  {
   "cell_type": "markdown",
   "metadata": {},
   "source": [
    "# Task submission and management\n",
    "\n",
    "The Globus task interface allows you to create and manage asynchronous file transfer and deletion tasks. "
   ]
  },
  {
   "cell_type": "markdown",
   "metadata": {},
   "source": [
    "## Transfer\n",
    "\n",
    "Creating a transfer is a two stage process. First you must create a description of the data you want to transfer (which also creates a unique submission_id), and then you can submit the request to Globus to transfer that data. \n",
    "\n",
    "If the submit_transfer fails, you can safely resubmit the same transfer_data again. The submission_id will ensure that this transfer request will be submitted once and only once."
   ]
  },
  {
   "cell_type": "code",
   "execution_count": null,
   "metadata": {},
   "outputs": [],
   "source": [
    "# help(tc.submit_transfer)\n",
    "source_endpoint_id = tutorial_endpoint_1\n",
    "source_path = \"/share/godata/\"\n",
    "\n",
    "dest_endpoint_id = tutorial_endpoint_2\n",
    "dest_path = \"/~/\"\n",
    "\n",
    "label = \"My tutorial transfer\"\n",
    "\n",
    "# TransferData() automatically gets a submission_id for once-and-only-once submission\n",
    "tdata = globus_sdk.TransferData(tc, source_endpoint_id, dest_endpoint_id, label=label)\n",
    "\n",
    "## Recursively transfer source path contents\n",
    "tdata.add_item(source_path, dest_path, recursive=True)\n",
    "\n",
    "## Alternatively, transfer a specific file\n",
    "# tdata.add_item(\"/source/path/file.txt\", \"/dest/path/file.txt\"))\n",
    "\n",
    "# Ensure endpoints are activated\n",
    "tc.endpoint_autoactivate(source_endpoint_id)\n",
    "tc.endpoint_autoactivate(dest_endpoint_id)\n",
    "\n",
    "submit_result = tc.submit_transfer(tdata)\n",
    "print(f\"Task ID: {submit_result['task_id']}\")"
   ]
  },
  {
   "cell_type": "markdown",
   "metadata": {},
   "source": [
    "## Get Task By ID\n",
    "\n",
    "While the task is running, or after completion, you can get information that describes the transfer task. "
   ]
  },
  {
   "cell_type": "code",
   "execution_count": null,
   "metadata": {},
   "outputs": [],
   "source": [
    "response = tc.get_task(submit_result['task_id'])\n",
    "print(f\"Label: {response['label']}\")\n",
    "print(f\"Status: {response['status']}\")\n",
    "print(f\"Transfer: {response['source_endpoint_display_name']} -> {response['destination_endpoint_display_name']}\")\n",
    "    \n",
    "if response.data[\"status\"] == \"SUCCEEDED\":\n",
    "    print(f\"Bytes transferred: {response['bytes_transferred']}\")\n",
    "    print(f\"Files transferred: {response['files_transferred']}\")\n",
    "    print(f\"Transfer rate: {response['effective_bytes_per_second']} Bps\")"
   ]
  },
  {
   "cell_type": "markdown",
   "metadata": {},
   "source": [
    "## Check destination endpoint\n",
    "\n",
    "After the transfer has finished you can list the contents of the destination endpoint"
   ]
  },
  {
   "cell_type": "code",
   "execution_count": null,
   "metadata": {},
   "outputs": [],
   "source": [
    "ls_iter = tc.operation_ls(dest_endpoint_id, path=dest_path)\n",
    "print(f\"==== 'ls' for {dest_path} on endpoint {dest_endpoint_id} ====\")\n",
    "for item in ls_iter:\n",
    "    print(f\"{item['type']}: {item['name']} [{item['size']}]\")"
   ]
  },
  {
   "cell_type": "markdown",
   "metadata": {},
   "source": [
    "## Get task list\n",
    "\n",
    "You can get a list of past or current tasks with the following call. Note that only `TRANSFER` tasks are returned by default - the type filter is necessary to get `DELETE` tasks as well. This is a remnant of a legacy backward compatibility concern, and will likely be changed in the future to both being included by default."
   ]
  },
  {
   "cell_type": "code",
   "execution_count": null,
   "metadata": {},
   "outputs": [],
   "source": [
    "# help(tc.task_list)\n",
    "response = tc.task_list(limit=10, filter=\"type:TRANSFER,DELETE\")\n",
    "for i, item in enumerate(response):\n",
    "    print(item['status'],\n",
    "          item['task_id'], \n",
    "          item['type'],\n",
    "          item['source_endpoint_display_name'],\n",
    "          item['destination_endpoint_display_name'],\n",
    "          item['label'])"
   ]
  },
  {
   "cell_type": "markdown",
   "metadata": {},
   "source": [
    "## Filter task list\n",
    "\n",
    "Retrieve only active tasks:"
   ]
  },
  {
   "cell_type": "code",
   "execution_count": null,
   "metadata": {},
   "outputs": [],
   "source": [
    "response = tc.task_list(limit=10, filter=\"type:TRANSFER,DELETE/status:ACTIVE\")\n",
    "for i, item in enumerate(response):\n",
    "    print(item['status'],\n",
    "          item['task_id'], \n",
    "          item['type'],\n",
    "          item['source_endpoint_display_name'],\n",
    "          item['destination_endpoint_display_name'],\n",
    "          item['label'])"
   ]
  },
  {
   "cell_type": "markdown",
   "metadata": {},
   "source": [
    "See [Common Query Parameters](https://docs.globus.org/api/transfer/task/#common_query_parameters) for a description of the `filter` parameter, and [Task List filters](https://docs.globus.org/api/transfer/task/#filter_and_order_by_options) for details of what is supported by task list."
   ]
  },
  {
   "cell_type": "markdown",
   "metadata": {},
   "source": [
    "## Cancel task\n",
    "\n",
    "You can also cancel a running task. "
   ]
  },
  {
   "cell_type": "code",
   "execution_count": null,
   "metadata": {},
   "outputs": [],
   "source": [
    "# help(tc.cancel_task)\n",
    "response = tc.cancel_task(submit_result['task_id'])\n",
    "print(f\"{response['code']}: {response['message']}\")"
   ]
  },
  {
   "cell_type": "markdown",
   "metadata": {},
   "source": [
    "## Get event list for task\n",
    "\n",
    "Every task stores periodic event markers (e.g., errors, performance markers, etc.). You can retrieve and filter this list as follows. "
   ]
  },
  {
   "cell_type": "code",
   "execution_count": null,
   "metadata": {},
   "outputs": [],
   "source": [
    "# help(tc.task_event_list)\n",
    "response = tc.task_event_list(submit_result['task_id'], limit=10)\n",
    "for event in response:\n",
    "    print(event['time'], event['code'], event['is_error'], event['details'])\n"
   ]
  },
  {
   "cell_type": "markdown",
   "metadata": {},
   "source": [
    "## Delete files task\n",
    "\n",
    "File deletion is also an asynchronous task, that is submitted and monitored similar to a transfer task."
   ]
  },
  {
   "cell_type": "code",
   "execution_count": null,
   "metadata": {},
   "outputs": [],
   "source": [
    "# help(tc.submit_delete)\n",
    "# Create a folder, delete it, wait for completion\n",
    "endpoint_id = tutorial_endpoint_1\n",
    "path = \"/~/tutorial_delete_example\"\n",
    "try:\n",
    "    tc.operation_mkdir(endpoint_id, path=path)\n",
    "except globus_sdk.GlobusAPIError as error:\n",
    "    if \"Exists\" in error.code:\n",
    "        print(\"Directory already exists, ignoring error\")\n",
    "    else:\n",
    "        raise\n",
    "\n",
    "label = \"My tutorial delete\"\n",
    "\n",
    "# DeleteData() automatically gets a submission_id for once-and-only-once submission\n",
    "# Note that recursive is a top level option for delete, not a per-path option like\n",
    "# it is for transfers.\n",
    "ddata = globus_sdk.DeleteData(tc, endpoint_id, label=label, recursive=True)\n",
    "\n",
    "## Recursively delete path contents (because of recursive flag set above)\n",
    "ddata.add_item(path)\n",
    "\n",
    "# Ensure endpoint is activated\n",
    "tc.endpoint_autoactivate(endpoint_id)\n",
    "\n",
    "submit_result = tc.submit_delete(ddata)\n",
    "print(f\"Task ID: {submit_result['task_id']}\")"
   ]
  },
  {
   "cell_type": "markdown",
   "metadata": {},
   "source": [
    "## Wait for task to complete\n",
    "\n",
    "Transfer and delete tasks are asynchronous operations, and depending on their size may take a long time to complete. If you wish to wait for a task to complete, the TransferClient provides a task_wait helper method:"
   ]
  },
  {
   "cell_type": "code",
   "execution_count": null,
   "metadata": {},
   "outputs": [],
   "source": [
    "# Wait for a task to finish for 10 minutes, polling every 15 seconds.\n",
    "completed = tc.task_wait(submit_result['task_id'], timeout=600, polling_interval=15)\n",
    "if completed:\n",
    "    print(\"Task finished!\")\n",
    "else:\n",
    "    print(\"Task still running after timeout reached.\")\n"
   ]
  },
  {
   "cell_type": "markdown",
   "metadata": {},
   "source": [
    "# Bookmarks\n",
    "\n",
    "Bookmarks allow you to keep a list of frequently used endpoints and paths. Full management capabilities (create, retrieve, update, delete) are supported on bookmarks. Note that the REST API itself does not directly support bookmarks when performing operations. It is the responsibility of the client to allow the users to choose bookmarks, and then translate them to endpoint ids to perform ls operations and submit transfers. In particular, the www.globus.org website has full support for bookmarks."
   ]
  },
  {
   "cell_type": "markdown",
   "metadata": {},
   "source": [
    "## Create a Bookmark"
   ]
  },
  {
   "cell_type": "code",
   "execution_count": null,
   "metadata": {},
   "outputs": [],
   "source": [
    "bookmark_name = \"My Tutorial Bookmark\"\n",
    "endpoint_id = tutorial_endpoint_1\n",
    "endpoint_path = \"/share/godata/\"\n",
    "response = tc.create_bookmark({\"endpoint_id\": endpoint_id, \"path\": endpoint_path,\"name\": bookmark_name})\n",
    "bookmark_id = response['id']\n",
    "print(response)"
   ]
  },
  {
   "cell_type": "markdown",
   "metadata": {},
   "source": [
    "## Get a list of bookmarks"
   ]
  },
  {
   "cell_type": "code",
   "execution_count": null,
   "metadata": {},
   "outputs": [],
   "source": [
    "response = tc.bookmark_list()\n",
    "for b in response:\n",
    "    print (b['name'], b['path'], b['id'])"
   ]
  },
  {
   "cell_type": "markdown",
   "metadata": {},
   "source": [
    "## Update a bookmark\n"
   ]
  },
  {
   "cell_type": "code",
   "execution_count": null,
   "metadata": {},
   "outputs": [],
   "source": [
    "bookmark_data = {\n",
    "    'name': 'My Updated Tutorial Bookmark'\n",
    "}\n",
    "response = tc.update_bookmark(bookmark_id, bookmark_data)\n",
    "print (response)"
   ]
  },
  {
   "cell_type": "markdown",
   "metadata": {},
   "source": [
    "## Delete a Bookmark"
   ]
  },
  {
   "cell_type": "code",
   "execution_count": null,
   "metadata": {},
   "outputs": [],
   "source": [
    "response = tc.delete_bookmark(bookmark_id)\n",
    "print (response)"
   ]
  },
  {
   "cell_type": "markdown",
   "metadata": {},
   "source": [
    "# Shared endpoints\n",
    "\n",
    "Shared endpoints are virtual endpoints that refer to a particular \"host endpoint\" and path, which allows Globus to manage access to that shared endpoint. Folders on the shared endpoint can be easily shared with other Globus users and groups via access control rules."
   ]
  },
  {
   "cell_type": "markdown",
   "metadata": {},
   "source": [
    "## Create a shared endpoint"
   ]
  },
  {
   "cell_type": "code",
   "execution_count": null,
   "metadata": {},
   "outputs": [],
   "source": [
    "# Create a dir to share\n",
    "host_endpoint_id = tutorial_endpoint_1\n",
    "host_endpoint_path = \"/~/shared_dir2\"\n",
    "try:\n",
    "    response = tc.operation_mkdir(host_endpoint_id, path=host_endpoint_path)\n",
    "except globus_sdk.GlobusAPIError as error:\n",
    "    # Ignore the error if the directory already exists, otherwise raise\n",
    "    if \"Exists\" not in error.code:\n",
    "        raise\n",
    "\n",
    "# Define the shared endpoint \n",
    "shared_ep = {\"DATA_TYPE\": \"shared_endpoint\",\n",
    "             \"host_endpoint\": host_endpoint_id,\n",
    "             \"host_path\": host_endpoint_path,\n",
    "             \"display_name\":\"My Tutorial Shared Endpoint2\",\n",
    "             # optionally specify additional endpoint fields\n",
    "             \"description\": \"Test creating a share from globus-jupyter-notebook\"\n",
    "             }\n",
    "\n",
    "response = tc.create_shared_endpoint(shared_ep)\n",
    "print(f\"{response['code']}: {response['message']}\")\n",
    "print(f\"Endpoint ID\", {response['id']})\n",
    "shared_endpoint_id = response['id']"
   ]
  },
  {
   "cell_type": "markdown",
   "metadata": {},
   "source": [
    "## Get endpoint information"
   ]
  },
  {
   "cell_type": "code",
   "execution_count": null,
   "metadata": {},
   "outputs": [],
   "source": [
    "response = tc.get_endpoint(shared_endpoint_id)\n",
    "print(f\"Display name: {response['display_name']}\")\n",
    "print(f\"Owner: {response['owner_string']}\")\n",
    "print(f\"Host Endpoint ID: {response['host_endpoint_id']}\")"
   ]
  },
  {
   "cell_type": "markdown",
   "metadata": {},
   "source": [
    "## Get a list of shared endpoints"
   ]
  },
  {
   "cell_type": "code",
   "execution_count": null,
   "metadata": {
    "scrolled": true
   },
   "outputs": [],
   "source": [
    "endpoints = tc.endpoint_search(filter_scope=\"shared-by-me\")\n",
    "print(\"==== Displaying shared endpoints ===\")\n",
    "for ep in endpoints:\n",
    "    print(f\"{ep['display_name']} ({ep['id']})\")\n"
   ]
  },
  {
   "cell_type": "markdown",
   "metadata": {},
   "source": [
    "## Add a new access control rule\n",
    "\n",
    "You can share access to different paths within your shared endpoint with users, groups, or publicly. The principal_type can be one of 'identity', 'group', 'all_authenticated_users', or 'anonymous'.  Each access rule is given a unique access_rule_id, which can be used to manage that access rule.\n",
    "\n",
    "Here is an example of sharing with the tutorial users group. "
   ]
  },
  {
   "cell_type": "code",
   "execution_count": null,
   "metadata": {},
   "outputs": [],
   "source": [
    "rule_data = {\n",
    "    'DATA_TYPE': 'access',\n",
    "    'permissions': 'rw',\n",
    "    'principal' : tutorial_users_group,  # use this if sharing with a group of users\n",
    "    'principal_type' : 'group',  # use this if sharing with a group of users\n",
    "    #'principal': 'IDENTITY_ID',  # use this if sharing with a single user (identity)\n",
    "    #'principal_type': 'identity',  # use this if sharing with a single user (identity)\n",
    "    'path': '/'\n",
    "}\n",
    "\n",
    "try:\n",
    "    response = tc.add_endpoint_acl_rule(shared_endpoint_id, rule_data)\n",
    "    access_rule_id = response['access_id']\n",
    "    print (response)\n",
    "except globus_sdk.GlobusAPIError as error:\n",
    "    if \"Exists\" in error.code:\n",
    "        print(\"ACL already exists, ignoring error\")\n",
    "    else:\n",
    "        raise"
   ]
  },
  {
   "cell_type": "markdown",
   "metadata": {},
   "source": [
    "## Get list of access rules"
   ]
  },
  {
   "cell_type": "code",
   "execution_count": null,
   "metadata": {},
   "outputs": [],
   "source": [
    "response = tc.endpoint_acl_list(shared_endpoint_id)\n",
    "for rule in response:\n",
    "    print (rule['id'], rule['principal_type'], rule['principal'], rule['permissions'], rule['path'])"
   ]
  },
  {
   "cell_type": "markdown",
   "metadata": {},
   "source": [
    "## Get access rule by id\n",
    "\n",
    "Get the access rule details using its access_rule_id"
   ]
  },
  {
   "cell_type": "code",
   "execution_count": null,
   "metadata": {},
   "outputs": [],
   "source": [
    "response = tc.get_endpoint_acl_rule(shared_endpoint_id, access_rule_id)\n",
    "print (response)"
   ]
  },
  {
   "cell_type": "markdown",
   "metadata": {},
   "source": [
    "## Update access rule\n",
    "\n",
    "Update an access rule using its access_rule_id."
   ]
  },
  {
   "cell_type": "code",
   "execution_count": null,
   "metadata": {},
   "outputs": [],
   "source": [
    "rule_update = {\n",
    "    'DATA_TYPE': 'access',\n",
    "    'permissions': 'r',\n",
    "}\n",
    "response = tc.update_endpoint_acl_rule(shared_endpoint_id, access_rule_id, rule_update)\n",
    "print (response)"
   ]
  },
  {
   "cell_type": "markdown",
   "metadata": {},
   "source": [
    "## Delete access rule\n",
    "\n",
    "Delete an access rule using its access_rule_id."
   ]
  },
  {
   "cell_type": "code",
   "execution_count": null,
   "metadata": {},
   "outputs": [],
   "source": [
    "response = tc.delete_endpoint_acl_rule(shared_endpoint_id, access_rule_id)\n",
    "print (response)"
   ]
  },
  {
   "cell_type": "markdown",
   "metadata": {},
   "source": [
    "# Low-level SDK interface\n",
    "\n",
    "The helper methods are all built on top of the low level interface. If a helper method is not yet available for the API resource you wish to use, the low level interface can be used directly.\n",
    "\n",
    "Note that the examples in this section use the endpoint management API resources, which DO have helper methods, but they still serve as good examples for how to use the low level interface."
   ]
  },
  {
   "cell_type": "markdown",
   "metadata": {},
   "source": [
    "## POST request\n",
    "\n",
    "Create an endpoint using the low level API:"
   ]
  },
  {
   "cell_type": "code",
   "execution_count": null,
   "metadata": {},
   "outputs": [],
   "source": [
    "endpoint_data = {\n",
    "    \"DATA_TYPE\": \"endpoint\",\n",
    "    \"display_name\": \"Tutorial Create Example\",\n",
    "    \"public\": False,\n",
    "    \"DATA\": [\n",
    "        {\n",
    "            \"DATA_TYPE\": \"server\",\n",
    "            \"hostname\": \"gridftp.example.org\",\n",
    "        }\n",
    "    ]\n",
    "}\n",
    "# help(tc.post)\n",
    "response = tc.post(\"/endpoint\", data=endpoint_data)\n",
    "endpoint_id = response['id']\n",
    "print(response)"
   ]
  },
  {
   "cell_type": "markdown",
   "metadata": {},
   "source": [
    "## GET request\n",
    "\n",
    "Do a GET on the newly create endpoint:"
   ]
  },
  {
   "cell_type": "code",
   "execution_count": null,
   "metadata": {},
   "outputs": [],
   "source": [
    "response = tc.get(f\"/endpoint/{endpoint_id}\",\n",
    "           query_params=dict(fields=\"id,display_name,description\"))\n",
    "print(response)"
   ]
  },
  {
   "cell_type": "markdown",
   "metadata": {},
   "source": [
    "## PUT request\n",
    "\n",
    "Update the description on the newly created endpoint:"
   ]
  },
  {
   "cell_type": "code",
   "execution_count": null,
   "metadata": {},
   "outputs": [],
   "source": [
    "endpoint_update = {\n",
    "    \"description\": \"Test updating description using low level API\"\n",
    "}\n",
    "response = tc.put(f\"/endpoint/{endpoint_id}\", data=endpoint_update)\n",
    "print(response)"
   ]
  },
  {
   "cell_type": "markdown",
   "metadata": {},
   "source": [
    "## DELETE request\n",
    "\n",
    "Now delete the endpoint:"
   ]
  },
  {
   "cell_type": "code",
   "execution_count": null,
   "metadata": {},
   "outputs": [],
   "source": [
    "response = tc.delete(f\"/endpoint/{endpoint_id}\")\n",
    "print(response)"
   ]
  },
  {
   "cell_type": "code",
   "execution_count": null,
   "metadata": {},
   "outputs": [],
   "source": []
  }
 ],
 "metadata": {
  "kernelspec": {
   "display_name": "Python 3 (ipykernel)",
   "language": "python",
   "name": "python3"
  },
  "language_info": {
   "codemirror_mode": {
    "name": "ipython",
    "version": 3
   },
   "file_extension": ".py",
   "mimetype": "text/x-python",
   "name": "python",
   "nbconvert_exporter": "python",
   "pygments_lexer": "ipython3",
   "version": "3.9.12"
  }
 },
 "nbformat": 4,
 "nbformat_minor": 1
}
