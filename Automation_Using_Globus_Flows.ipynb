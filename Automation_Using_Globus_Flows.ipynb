{
 "cells": [
  {
   "cell_type": "markdown",
   "metadata": {},
   "source": [
    "<img src=\"img/automation_using_flows.png\">\n",
    "\n",
    "In this notebook we demonstrate how the Globus Flows service can be used to automate data management at scale. We demonstrate a flow that automates a common design pattern: moving data from one system to another and making the data accessible to collaborators. This flow is often needed to manage data coming from instruments, e.g., image files can be moved from local storage attached to a microscope to a high-performance storage system where they may be accessed by all members of the research project.\n",
    "\n",
    "We will walk through the following tasks:\n",
    "1. Authenticate with Globus and get tokens for accessing various services\n",
    "1. Define and register a flow with Globus\n",
    "1. Execute a flow using configurable inputs for the endpoint and access permissions\n",
    "\n",
    "The Globus flow is illustrated below.\n",
    "\n",
    "<img src=\"img/transfer_set_permissions_flow.png\" alt=\"Transfer and set permissions flow\" align=\"CENTER\" style=\"width: 90%;\"/>"
   ]
  },
  {
   "cell_type": "code",
   "execution_count": null,
   "metadata": {},
   "outputs": [],
   "source": [
    "import sys\n",
    "import os\n",
    "import time\n",
    "import json\n",
    "import uuid\n",
    "import pickle\n",
    "import base64\n",
    "import pprint\n",
    "\n",
    "import globus_sdk\n",
    "from globus_automate_client import FlowsClient\n",
    "\n",
    "client_id = 'f794186b-f330-4595-b6c6-9c9d3e903e47'\n",
    "\n",
    "# Feel free to replace the endpoint UUIDs below with those of your own endpoints\n",
    "tutorial_endpoint = \"ddb59aef-6d04-11e5-ba46-22000b92c6ec\"  # endpoint \"Globus Tutorial Endpoint 1\"\n",
    "petrel_endpoint = \"e56c36e4-1063-11e6-a747-22000bf2d559\"  # endpoint \"Petrel Testbed\"\n",
    "tutorial_users_group = \"50b6a29c-63ac-11e4-8062-22000ab68755\"  # group \"Tutorial Users\""
   ]
  },
  {
   "cell_type": "markdown",
   "metadata": {},
   "source": [
    "## A. Authentication and Authorization\n",
    "\n",
    "All interactions between users and services on the Globus automation platform are governed by the Globus Auth service. In particular, this means that consent must be given by the user for each interaction taking place on their part, including in this Notebook.\n",
    "\n",
    "The first time you interact with each service such as the Flows service, or even a flow instance, you will be provided a link to perform the consent flow. You must click the link to complete the consent flow which will launch in a new tab. When complete, copy the code string, return to the notebook, and  paste the code into the input box that is presented below the link to begin the flow.\n",
    "\n",
    "We will encounter authorization steps in a couple of places:\n",
    "1. When deploying a new flow on the Globus Flows service; deplpoying a flow requires (a) an identity that is associated with a Globus subscription, and (b) access to the Flow service scope.\n",
    "1. When executing a flow.\n",
    "\n",
    "Access to the Flow service is already granted to you by virtue of authenticating to the JupyterHub running this notebook. Note: If you're running this notebook in your own environment you will need to manually log into Globus Auth and get tokens using a native app authorization flow (see the `Platform_Introduction_Native_App_Auth` notebook for an example of how to initiate this flow)."
   ]
  },
  {
   "cell_type": "code",
   "execution_count": null,
   "metadata": {},
   "outputs": [],
   "source": [
    "# Get Globus Auth token data from the JupyterHub environment\n",
    "tokens = pickle.loads(base64.b64decode(os.getenv('GLOBUS_DATA')))['tokens']\n",
    "\n",
    "# Create a variable for storing flow scope tokens. Each newly deployed scope needs to be authorized separately,\n",
    "# and will have its own set of tokens. Save each of these tokens by scope.\n",
    "saved_flow_scopes = {}\n",
    "\n",
    "# Add a callback to the flows client for fetching scopes. It will draw scopes from the `saved_flow_scopes` variable\n",
    "# above.\n",
    "def get_flow_authorizer(flow_url, flow_scope, client_id):\n",
    "    return globus_sdk.AccessTokenAuthorizer(access_token=saved_flow_scopes[flow_scope]['access_token'])\n",
    "\n",
    "# Setup the flows client, using tokens from our Jupyterhub login to access the flows service, and\n",
    "# setting the `get_flow_authorizer` callback for any new flows we authorize.\n",
    "flows_authorizer = globus_sdk.AccessTokenAuthorizer(access_token=tokens['flows.globus.org']['access_token'])\n",
    "flows_client = FlowsClient.new_client(\n",
    "    client_id, get_flow_authorizer, flows_authorizer\n",
    ")\n"
   ]
  },
  {
   "cell_type": "markdown",
   "metadata": {},
   "source": [
    "## Fetch User Identity for ACL Permissions\n",
    "\n",
    "After transferring files, the second part of the flow will add an ACL for a user. Below will fetch your user id so it can be granted read access."
   ]
  },
  {
   "cell_type": "code",
   "execution_count": null,
   "metadata": {},
   "outputs": [],
   "source": [
    "\n",
    "# Create an Auth client so we can look up identities\n",
    "auth_authorizer = globus_sdk.AccessTokenAuthorizer(access_token=tokens['auth.globus.org']['access_token'])\n",
    "ac = globus_sdk.AuthClient(authorizer=auth_authorizer)\n",
    "primary_identity = ac.oauth2_userinfo()\n",
    "identity_id = primary_identity['sub']\n",
    "\n",
    "print(f\"Setting permissions for user: {primary_identity['preferred_username']}\")\n",
    "print(f\"Notifications will be sent to: {primary_identity['email']}\")"
   ]
  },
  {
   "cell_type": "markdown",
   "metadata": {},
   "source": [
    "# B. Flow Registration\n",
    "\n",
    "## Define a flow\n",
    "\n",
    "* Flows are composed of *Action* invocations.\n",
    "* Each Action invocation reads from and contributes back to the *Flow State* which is referenced in Flow steps using the `InputPath` and `ResultPath` properties of an Action.\n",
    "* Actions specify the service endpoint that will be called using the `ActionUrl` property, and the Globus Auth scope that's required for the specified action using the `ActionScope` property.\n",
    "* Actions are linked via their `Next` property; the last action in a flow sets the `End` property to true.\n",
    "\n",
    "Our simple flow defines just two *Actions*, `MoveFiles` and `SetPermission`."
   ]
  },
  {
   "cell_type": "code",
   "execution_count": null,
   "metadata": {},
   "outputs": [],
   "source": [
    "\n",
    "\n",
    "flow_definition = {\n",
    "  \"Comment\": \"Move files to guest collection and set access permissions\",\n",
    "  \"StartAt\": \"MoveFiles\",\n",
    "  \"States\": {\n",
    "    \"MoveFiles\": {\n",
    "      \"Comment\": \"Transfer from Globus Tutorial Endpoint 1 to a guest collection on Petrel\",\n",
    "      \"Type\": \"Action\",\n",
    "      \"ActionUrl\": \"https://actions.automate.globus.org/transfer/transfer\",\n",
    "      \"ActionScope\": \"https://auth.globus.org/scopes/actions.globus.org/transfer/transfer\",\n",
    "      \"Parameters\": {\n",
    "        \"source_endpoint_id.$\": \"$.input.source_endpoint_id\", \n",
    "        \"destination_endpoint_id.$\": \"$.input.destination_endpoint_id\",\n",
    "        \"sync_level\": \"exists\",\n",
    "        \"transfer_items\": [\n",
    "              {\n",
    "                \"source_path.$\": \"$.input.source_path\",\n",
    "                \"destination_path.$\": \"$.input.destination_path\",\n",
    "                \"recursive\": True\n",
    "              }\n",
    "        ],\n",
    "      },\n",
    "      \"ResultPath\": \"$.MoveFiles\",\n",
    "      \"WaitTime\": 3600,\n",
    "      \"Next\": \"SetPermission\"\n",
    "    }, \n",
    "    \"SetPermission\": {\n",
    "      \"Comment\": \"Grant read permission on the data to the Tutorial users group\",\n",
    "      \"Type\": \"Action\",\n",
    "      \"ActionUrl\": \"https://actions.automate.globus.org/transfer/set_permission\",\n",
    "      \"ActionScope\": \"https://auth.globus.org/scopes/actions.globus.org/transfer/set_permission\",\n",
    "      \"Parameters\": {\n",
    "        \"endpoint_id.$\": \"$.input.destination_endpoint_id\",\n",
    "        \"path.$\": \"$.input.destination_path\",\n",
    "        \"permissions\": \"r\",  # read-only access\n",
    "        \"principal.$\": \"$.input.principal\",\n",
    "        \"principal_type.$\": \"$.input.principal_type\",\n",
    "        \"operation\": \"CREATE\",\n",
    "      },\n",
    "      \"ResultPath\": \"$.SetPermission\",\n",
    "      \"End\": True\n",
    "    }\n",
    "  }\n",
    "}\n"
   ]
  },
  {
   "cell_type": "markdown",
   "metadata": {},
   "source": [
    "## Deploy a flow\n",
    "\n",
    "Before running a flow it must be deployed on the Globus Flows service. In addition to the flow definition we created above, you must provide a unique title for your flow when you deploy it. If deployment succeeds Globus returns an ID as a handle to the flow resource."
   ]
  },
  {
   "cell_type": "code",
   "execution_count": null,
   "metadata": {},
   "outputs": [],
   "source": [
    "# Deploy the flow\n",
    "flow_title = f\"Tutorial-Flow-{str(uuid.uuid4())}\"   # generate a unique title\n",
    "# flow = flows_client.update_flow(flow_id, flow_definition)\n",
    "flow = flows_client.deploy_flow(flow_definition, title=flow_title)\n",
    "flow_id = flow['id']\n",
    "flow_scope = flow['globus_auth_scope']\n",
    "\n",
    "print(f\"Successfully deployed flow (ID: {flow_id})\")\n",
    "print(f\"Flow scope: {flow_scope}\")"
   ]
  },
  {
   "cell_type": "markdown",
   "metadata": {},
   "source": [
    "# C. Flow Execution\n",
    "\n",
    "## Define flow input(s)\n",
    "\n",
    "If your flow includes parameterized input properties you must provide values for those properties when running the flow. Like the flow definition, flow inputs are defined as a JSON document. You must provide a value for each input property in your flow (input properties are prefixed by `$.` (see flow definition above).\n",
    "\n",
    "For the `MoveFiles` action we must specify source and destination collection IDs and source and destination paths. For the `SetPermissions` action we must specify the collection ID, the type of entity to which we're granting permission, the entity's ID, and the permission (read or read/write)."
   ]
  },
  {
   "cell_type": "code",
   "execution_count": null,
   "metadata": {
    "scrolled": true
   },
   "outputs": [],
   "source": [
    "flow_input = {\n",
    "    \"input\": {\n",
    "        # Transfer input\n",
    "        \"source_path\": \"/share/godata\",\n",
    "        \"destination_path\": \"/disthome-automate/\",\n",
    "        \"source_endpoint_id\": tutorial_endpoint,\n",
    "        \"destination_endpoint_id\": petrel_endpoint,\n",
    "        \n",
    "        # Grant access to the following person\n",
    "        \"principal\": identity_id,\n",
    "        \"principal_type\": \"identity\",\n",
    "    }\n",
    "}"
   ]
  },
  {
   "cell_type": "markdown",
   "metadata": {},
   "source": [
    "## Authorize the newly deployed flow\n",
    "\n",
    "The new flow has been deployed, but it still needs to be authorized."
   ]
  },
  {
   "cell_type": "code",
   "execution_count": null,
   "metadata": {},
   "outputs": [],
   "source": [
    "# If the flow scope is already saved, we don't need a new one.\n",
    "if flow_scope not in saved_flow_scopes:\n",
    "    # Do a native auth flow to login with the newly deployed flow scope\n",
    "    native_auth_client = globus_sdk.NativeAppAuthClient(client_id)\n",
    "    native_auth_client.oauth2_start_flow(requested_scopes=flow_scope)\n",
    "    print(f\"Login Here:\\n\\n{native_auth_client.oauth2_get_authorize_url()}\")\n",
    "    auth_code = input('Auth Code> ')\n",
    "    token_response = native_auth_client.oauth2_exchange_code_for_tokens(auth_code)\n",
    "    \n",
    "    # Save the new token in a place where the flows client can retrieve it.\n",
    "    saved_flow_scopes[flow_scope] = token_response.by_scopes[flow_scope]"
   ]
  },
  {
   "cell_type": "markdown",
   "metadata": {},
   "source": [
    "## Run the flow\n",
    "\n",
    "We're finally ready to run the flow. Note that you will be required to consent again."
   ]
  },
  {
   "cell_type": "code",
   "execution_count": null,
   "metadata": {},
   "outputs": [],
   "source": [
    "flow_action = flows_client.run_flow(flow_id, flow_scope, flow_input)\n",
    "flow_action_id = flow_action['action_id']\n",
    "flow_status = flow_action['status']\n",
    "print(f'Flow action started with id: {flow_action_id}')\n",
    "while flow_status == 'ACTIVE':\n",
    "    time.sleep(2)\n",
    "    flow_action = flows_client.flow_action_status(flow_id, flow_scope, flow_action_id)\n",
    "    flow_status = flow_action['status']\n",
    "    print(f'Flow status: {flow_status}')\n",
    "pprint.pprint(flow_action.data)"
   ]
  },
  {
   "cell_type": "markdown",
   "metadata": {},
   "source": [
    "### Remove Access Rule\n",
    "\n",
    "You can remove the access rule the old way using the Globus SDK"
   ]
  },
  {
   "cell_type": "code",
   "execution_count": null,
   "metadata": {},
   "outputs": [],
   "source": [
    "access_rule_id = flow_action['details']['output']['SetPermission']['details']['access_id']\n",
    "\n",
    "transfer_authorizer = globus_sdk.AccessTokenAuthorizer(tokens['transfer.api.globus.org']['access_token'])\n",
    "tc = globus_sdk.TransferClient(authorizer=transfer_authorizer)\n",
    "\n",
    "response = tc.delete_endpoint_acl_rule(petrel_endpoint, access_rule_id)\n",
    "print (response)"
   ]
  }
 ],
 "metadata": {
  "celltoolbar": "Attachments",
  "kernelspec": {
   "display_name": "Python 3",
   "language": "python",
   "name": "python3"
  },
  "language_info": {
   "codemirror_mode": {
    "name": "ipython",
    "version": 3
   },
   "file_extension": ".py",
   "mimetype": "text/x-python",
   "name": "python",
   "nbconvert_exporter": "python",
   "pygments_lexer": "ipython3",
   "version": "3.7.5"
  }
 },
 "nbformat": 4,
 "nbformat_minor": 2
}
