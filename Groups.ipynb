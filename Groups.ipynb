{
 "cells": [
  {
   "cell_type": "markdown",
   "id": "67945eca-7bed-4253-b78f-6ad7dd4dd8e4",
   "metadata": {},
   "source": [
    "# Globus Groups API\n",
    "\n",
    "Let's see how to automate Globus groups using the Groups API.\n",
    "1. We'll first login as ourselves, so everything we do is owned by us.\n",
    "2. We'll check our own current group memberships.\n",
    "3. We'll create a group.\n",
    "4. We'll list membership of the group.\n",
    "5. We'll add someone to the group and again list membership.\n",
    "7. We'll remove someone from the group.\n",
    "8. We'll delete the group."
   ]
  },
  {
   "cell_type": "code",
   "execution_count": null,
   "id": "bd7c33fc-e502-4ac2-a00b-3efb9d299a8a",
   "metadata": {},
   "outputs": [],
   "source": [
    "import json  # just so we can pretty-print response data\n",
    "import globus_sdk\n",
    "\n",
    "# I first need to log in as a human so I can do things as myself. \n",
    "# Because this is a notebook, the LOGIN_CLIENT_ID doesn't get to have a secret.\n",
    "LOGIN_CLIENT_ID = \"...\"\n",
    "\n",
    "# Create a client object for user login flows (to allow us do things as the human user)\n",
    "myloginclient = globus_sdk.NativeAppAuthClient(LOGIN_CLIENT_ID)"
   ]
  },
  {
   "cell_type": "code",
   "execution_count": null,
   "id": "90073b65-0d82-446c-afd1-39ce118badd8",
   "metadata": {},
   "outputs": [],
   "source": [
    "# Now I need to gather up all the API scopes my application needs me to consent to. \n",
    "\n",
    "# Auth scopes for obtaining human identity info\n",
    "openid_scope = globus_sdk.scopes.data.AuthScopes.openid\n",
    "email_scope = globus_sdk.scopes.data.AuthScopes.email\n",
    "profile_scope = globus_sdk.scopes.data.AuthScopes.profile\n",
    "\n",
    "# Groups API scope\n",
    "group_scope = globus_sdk.scopes.data.GroupsScopes.all\n",
    "\n",
    "requested_scopes = [openid_scope, email_scope, profile_scope, group_scope]"
   ]
  },
  {
   "cell_type": "markdown",
   "id": "17b79f2d-004f-43a0-9f82-0ee9a59bb7a1",
   "metadata": {},
   "source": [
    "## Login time! \n",
    "\n",
    "Let's login the human using this notebook and get permission to manage groups for him/her."
   ]
  },
  {
   "cell_type": "code",
   "execution_count": null,
   "id": "b609af5e-ef7d-477f-b288-84ebd2534952",
   "metadata": {},
   "outputs": [],
   "source": [
    "# Now that we know what we're asking permission to do, log the human in!\n",
    "\n",
    "myloginclient.oauth2_start_flow(requested_scopes=requested_scopes, refresh_tokens=False)\n",
    "print(f\"Login Here:\\n\\n{myloginclient.oauth2_get_authorize_url()}\")\n",
    "print(\"\\nIMPORTANT NOTE: the link above can only be used once!\")\n",
    "print(\"If login or a later step in the flow fails, you must execute this cell again to generate a new link.\")\n",
    "auth_code = input(\"PASTE YOUR CODE HERE> \")\n",
    "tokens = myloginclient.oauth2_exchange_code_for_tokens(auth_code).by_resource_server\n",
    "print(\"Tokens Received!\")"
   ]
  },
  {
   "cell_type": "code",
   "execution_count": null,
   "id": "415fba39-3b50-40e6-bb82-54513ff70616",
   "metadata": {},
   "outputs": [],
   "source": [
    "# Let's take a look at the tokens we received for this human\n",
    "human_auth_data = tokens[\"auth.globus.org\"]\n",
    "human_groups_data = tokens[\"groups.api.globus.org\"]\n",
    "\n",
    "print(\"Here's how the Auth API token is delivered to us:\")\n",
    "print(json.dumps(human_auth_data, indent=2))\n",
    "print(\"\\nHere's how the Groups API token is delivered to us:\")\n",
    "print(json.dumps(human_groups_data, indent=2))"
   ]
  },
  {
   "cell_type": "code",
   "execution_count": null,
   "id": "c7d730d3-e9fb-4602-95b7-9a03cc01a679",
   "metadata": {},
   "outputs": [],
   "source": [
    "# Now let's use the Groups token to create a Groups Client that lets me use the Groups API.\n",
    "\n",
    "groups_tokens = tokens[\"groups.api.globus.org\"]\n",
    "\n",
    "# construct an AccessTokenAuthorizer and use it to construct the\n",
    "# TransferClient\n",
    "groups_client = globus_sdk.GroupsClient(\n",
    "    authorizer=globus_sdk.AccessTokenAuthorizer(groups_tokens[\"access_token\"])\n",
    ")\n",
    "\n",
    "# And let's get an AuthClient for use later in the exercises...\n",
    "human_auth_access_token = human_auth_data['access_token']\n",
    "human_auth_authorizer = globus_sdk.AccessTokenAuthorizer(human_auth_access_token)\n",
    "human_auth_client = globus_sdk.AuthClient(authorizer=human_auth_authorizer)"
   ]
  },
  {
   "cell_type": "markdown",
   "id": "5b62a8df-4777-4aa8-a8d7-af152a0eddd5",
   "metadata": {},
   "source": [
    "## List all groups I belong to\n",
    "\n",
    "The following code uses the Groups Client we created above to `get_my_groups()` and\n",
    "print a CSV with group UUID, Display Name, Group Type, Session Enforcement Type, and my Role in the group."
   ]
  },
  {
   "cell_type": "code",
   "execution_count": null,
   "id": "cba0b525-d2d8-437c-b3ef-1c12a39073da",
   "metadata": {},
   "outputs": [],
   "source": [
    "# print out in CSV format\n",
    "# note that 'name' could have a comma in it, so this is slightly unsafe\n",
    "print(\"ID,Name,Type,Session Enforcement,Roles\")\n",
    "for group in groups_client.get_my_groups():\n",
    "    # parse the group to get data for output\n",
    "    if group.get(\"enforce_session\"):\n",
    "        session_enforcement = \"strict\"\n",
    "    else:\n",
    "        session_enforcement = \"not strict\"\n",
    "    roles = \",\".join({m[\"role\"] for m in group[\"my_memberships\"]})\n",
    "\n",
    "    print(\n",
    "        \",\".join(\n",
    "            [\n",
    "                group[\"id\"],\n",
    "                group[\"name\"],\n",
    "                group[\"group_type\"],\n",
    "                session_enforcement,\n",
    "                roles,\n",
    "            ]\n",
    "        )\n",
    "    )"
   ]
  },
  {
   "cell_type": "markdown",
   "id": "e80075a6-5c31-451d-b1a0-8c2ff62b7c26",
   "metadata": {},
   "source": [
    "## Create a new group"
   ]
  },
  {
   "cell_type": "code",
   "execution_count": null,
   "id": "abcfbcc8-4cc6-4f56-86be-1cbe7ef87686",
   "metadata": {},
   "outputs": [],
   "source": [
    "# First, we build a group definition.\n",
    "\n",
    "# Replace YOURNAME with your name below!\n",
    "group_def = {\"name\": \"YOURNAME's Very First API-created Group\"}"
   ]
  },
  {
   "cell_type": "code",
   "execution_count": null,
   "id": "d55337a1-36ea-441f-91de-e73fd2895ad4",
   "metadata": {},
   "outputs": [],
   "source": [
    "# Now, create the group.\n",
    "result = groups_client.create_group(group_def)\n",
    "\n",
    "# And print the group that got created!\n",
    "print(json.dumps(result.data, indent=2))"
   ]
  },
  {
   "cell_type": "code",
   "execution_count": null,
   "id": "d23c1329-0f90-4aa8-9e32-ac99152cb0e2",
   "metadata": {},
   "outputs": [],
   "source": [
    "# We're going to grab the group's UUID and use it for subsequent exercises.\n",
    "\n",
    "my_group_uuid = result.data[\"id\"]"
   ]
  },
  {
   "cell_type": "code",
   "execution_count": null,
   "id": "59c0ed56-023c-44fd-9888-dc89845dfc4c",
   "metadata": {},
   "outputs": [],
   "source": [
    "# The group's members are listed in the response above. But if we want to get them\n",
    "# later, here's how to do it. \n",
    "\n",
    "result = groups_client.get_group(my_group_uuid,include=\"memberships\")\n",
    "print(json.dumps(result.data, indent=2))"
   ]
  },
  {
   "cell_type": "markdown",
   "id": "fdc2496d-bddf-4788-8d0d-329bcaa60c31",
   "metadata": {},
   "source": [
    "## Add a new member to your group\n",
    "\n",
    "For managing a group's membership, we use the Globus SDK's `GroupManager` high-level client wrapper.\n",
    "\n",
    "You can invite people to groups, and that's preferred because it gives them the\n",
    "opportunity to decline membership. But if you really want to add without asking, or\n",
    "if it's an application identity you're adding, you can do it this way. \n",
    "\n",
    "**Note: You're adding a Globus ID that's rarely used and isn't linked to any other IDs.**"
   ]
  },
  {
   "cell_type": "code",
   "execution_count": null,
   "id": "87043314-dba1-449d-8628-3566597a3601",
   "metadata": {},
   "outputs": [],
   "source": [
    "from globus_sdk import GroupsManager\n",
    "\n",
    "mymanager = GroupsManager(groups_client)\n",
    "\n",
    "# Get the UUID of the identity I want to add to the group\n",
    "result = human_auth_client.get_identities(usernames=\"awesome@globusid.org\")\n",
    "for identity in result:\n",
    "    awesome_id = identity[\"id\"]\n",
    "print(\"We're going to add {}.\".format(awesome_id))"
   ]
  },
  {
   "cell_type": "code",
   "execution_count": null,
   "id": "a16552a1-0876-4dcc-bf05-eed43175b9b5",
   "metadata": {},
   "outputs": [],
   "source": [
    "# Now let's actually add it to the group.\n",
    "\n",
    "result = mymanager.add_member(my_group_uuid,awesome_id,role='member')\n",
    "print(\"Adding awesome@globusid.org to the group...\")\n",
    "print(json.dumps(result.data, indent=2))\n",
    "print(\"\\nHere's the new group membership:\")\n",
    "result = groups_client.get_group(my_group_uuid,include=\"memberships\")\n",
    "print(json.dumps(result.data, indent=2))"
   ]
  },
  {
   "cell_type": "markdown",
   "id": "d8191488-b9b8-4659-b3bf-6fd144c4d3e4",
   "metadata": {},
   "source": [
    "## Remove a member from the group\n",
    "\n",
    "Again, we'll use the GroupManager wrapper.\n",
    "\n",
    "**Notice that the group still lists the former member with the `\"removed\"` status!**\n",
    "\n",
    "When checking group memberships, you must be careful to check the `status` field."
   ]
  },
  {
   "cell_type": "code",
   "execution_count": null,
   "id": "fcc58964-b0c0-4bd8-b7a8-bfa2209eac7d",
   "metadata": {},
   "outputs": [],
   "source": [
    "result = mymanager.remove_member(my_group_uuid,awesome_id)\n",
    "print(\"Removing awesome@globusid.org from the group...\")\n",
    "print(json.dumps(result.data, indent=2))\n",
    "print(\"\\nHere's the new group membership:\")\n",
    "result = groups_client.get_group(my_group_uuid,include=\"memberships\")\n",
    "print(json.dumps(result.data, indent=2))"
   ]
  },
  {
   "cell_type": "markdown",
   "id": "b366fbbc-1230-4131-834c-10c5d98f1e28",
   "metadata": {},
   "source": [
    "## Delete the group\n",
    "\n",
    "Ok, we've had our fun. Now let's delete this group so it doesn't create any\n",
    "surprises for us later."
   ]
  },
  {
   "cell_type": "code",
   "execution_count": null,
   "id": "58157a99-30b6-42b6-b864-dac0c426bf78",
   "metadata": {},
   "outputs": [],
   "source": [
    "result = groups_client.delete_group(my_group_uuid)\n",
    "print(\"Deleting the group...\")\n",
    "print(json.dumps(result.data, indent=2))"
   ]
  },
  {
   "cell_type": "code",
   "execution_count": null,
   "id": "b4780410-db29-4aef-bc83-62751eb7ff60",
   "metadata": {},
   "outputs": [],
   "source": []
  }
 ],
 "metadata": {
  "kernelspec": {
   "display_name": "Python 3 (ipykernel)",
   "language": "python",
   "name": "python3"
  },
  "language_info": {
   "codemirror_mode": {
    "name": "ipython",
    "version": 3
   },
   "file_extension": ".py",
   "mimetype": "text/x-python",
   "name": "python",
   "nbconvert_exporter": "python",
   "pygments_lexer": "ipython3",
   "version": "3.11.8"
  }
 },
 "nbformat": 4,
 "nbformat_minor": 5
}
