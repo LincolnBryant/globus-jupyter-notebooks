{
 "cells": [
  {
   "cell_type": "markdown",
   "metadata": {},
   "source": [
    "# JupyterHub Integration Demonstration\n",
    "----\n",
    "\n",
    "This tutorial demonstrates how to (A) pull Globus Auth tokens from the Jupyter Notebook Server environment and use those tokens to (B) interact with different REST APIs secured with Globus Auth, including (C) a simple workflow. Our code here is pedantic, for clarity; much could be encapsulated in Python packages to simplify the notebook.\n",
    "\n",
    "Since you used the Globus-enabled JupyterHub environment to launch this notebook, the following have already happened:\n",
    "1. You have established your identity by authenticating, with an institutional credential or ORCID or similar\n",
    "1. You have granted consent to the issuance of tokens with certain scopes\n",
    "1. A notebook has been created, with access to those tokens\n",
    "\n",
    "<img src=\"img/jupyterhub_tokens.png\" alt=\"Steps followed prior to starting this notebook\" align=\"CENTER\" style=\"width: 85%;\"/>"
   ]
  },
  {
   "cell_type": "markdown",
   "metadata": {},
   "source": [
    "<em>Note 1: Tokens are issued and stored in the JupyterHub database at login. They typically expire in 24 hours. As we do not provide a mechanism to handle refresh tokens, the simplest way to get new ones is to:\n",
    "\n",
    "* Stop your server (see the Control Panel)\n",
    "* Log out\n",
    "* Log back in\n",
    "* Start your server\n",
    "* Launch the notebook\n",
    "\n",
    "Note 2: You need to join the tutorial group at https://www.globus.org/app/groups/50b6a29c-63ac-11e4-8062-22000ab68755/about to be able to access the shared endpoint at the end.</em>"
   ]
  },
  {
   "cell_type": "markdown",
   "metadata": {},
   "source": [
    "## Import Packages"
   ]
  },
  {
   "cell_type": "code",
   "execution_count": null,
   "metadata": {},
   "outputs": [],
   "source": [
    "# These are to get the tokens\n",
    "import os\n",
    "import pickle\n",
    "import base64\n",
    "\n",
    "# Much of what we're dealing with is JSON\n",
    "import json\n",
    "\n",
    "# We're going to be making explicit HTTPS calls\n",
    "import requests\n",
    "\n",
    "# This is to work with data for our example\n",
    "import csv\n",
    "import datetime\n",
    "import matplotlib.pyplot as plt\n",
    "from io import StringIO"
   ]
  },
  {
   "cell_type": "markdown",
   "metadata": {},
   "source": [
    "## A. Get Tokens\n",
    "\n",
    "The Globus-enabled JupyterhHub passes the tokens into the notebook environment `base64` encoded as a pickled Python dictionary assigned to the `GLOBUS_DATA` variable. We'll grab the variable and unpack it. "
   ]
  },
  {
   "cell_type": "code",
   "execution_count": null,
   "metadata": {},
   "outputs": [],
   "source": [
    "# Get the content\n",
    "globus_env_data = os.getenv('GLOBUS_DATA')"
   ]
  },
  {
   "cell_type": "code",
   "execution_count": null,
   "metadata": {},
   "outputs": [],
   "source": [
    "# Now we have the pickled tokens\n",
    "pickled_tokens = base64.b64decode(globus_env_data)\n",
    "\n",
    "# Unpickle and get the dictionary\n",
    "tokens = pickle.loads(pickled_tokens)\n",
    "\n",
    "# Minimal sanity check, did we get the data type we expected?\n",
    "isinstance(tokens, dict)"
   ]
  },
  {
   "cell_type": "markdown",
   "metadata": {},
   "source": [
    "### Look inside the tokens\n",
    "\n",
    "Depending on the JupyterHub configuration, there will be different numbers of tokens. For this tutorial, our identity token is a __[JSON Web Token (JWT)](https://tools.ietf.org/html/rfc7519)__. We also tokens for different Resource Servers and scopes, including for retrieving our profile from Globus Auth; accessing the Petrel HTTPS server, and accessing the Globus Transfer service."
   ]
  },
  {
   "cell_type": "code",
   "execution_count": null,
   "metadata": {},
   "outputs": [],
   "source": [
    "print(json.dumps(tokens, indent=4, sort_keys=True))"
   ]
  },
  {
   "cell_type": "markdown",
   "metadata": {},
   "source": [
    "## B. Use the tokens\n",
    "\n",
    "Now we can talk to different servers. In this tutorial, we show how tokens can be passed as HTTP headers. Much of this can also be done with the __[Globus Python SDK](http://globus-sdk-python.readthedocs.io/en/stable/)__."
   ]
  },
  {
   "cell_type": "markdown",
   "metadata": {},
   "source": [
    "### Acess user information\n",
    "\n",
    "First, let's use our `auth.globus.org` token to get our __[OAuth2 user information](https://docs.globus.org/api/auth/reference/#get_or_post_v2_oauth2_userinfo_resource)__. We assemble the header with the appropriate access token and do an HTTP `GET` on the resource."
   ]
  },
  {
   "cell_type": "code",
   "execution_count": null,
   "metadata": {},
   "outputs": [],
   "source": [
    "# Create the header\n",
    "headers = {'Authorization':'Bearer '+ tokens['tokens']['auth.globus.org']['access_token']}\n",
    "\n",
    "# Get the user info as JSON\n",
    "user_info = requests.get('https://auth.globus.org/v2/oauth2/userinfo',headers=headers).json()\n",
    "\n",
    "# Look at the response\n",
    "print(json.dumps(user_info, indent=4, sort_keys=True))"
   ]
  },
  {
   "cell_type": "markdown",
   "metadata": {},
   "source": [
    "### Identities\n",
    "\n",
    "Using the __[Globus Auth API resource for identities](https://docs.globus.org/api/auth/reference/#v2_api_identities_resources)__, we perform a `GET` on a specific identity, our own, to examine its properties:"
   ]
  },
  {
   "cell_type": "code",
   "execution_count": null,
   "metadata": {},
   "outputs": [],
   "source": [
    "identity = requests.get('https://auth.globus.org/v2/api/identities/' + user_info['sub'],headers=headers).json()\n",
    "print(json.dumps(identity, indent=4, sort_keys=True))"
   ]
  },
  {
   "cell_type": "markdown",
   "metadata": {},
   "source": [
    "----\n",
    "## C. Implement a Simple Workflow\n",
    "\n",
    "We next implemement a simple workflow by following these steps (and see figure):\n",
    "\n",
    "1. Fetch some data from a remote location, in this case the __[Petrel](http://petrel.alcf.anl.gov)__ data server at Argonne National Lab\n",
    "1. Plot the retrieved data\n",
    "1. Save the plot to a remote web server\n",
    "1. Share a link to data on the web server\n",
    "<img src=\"img/graph_plot_flow.png\" alt=\"Steps in the simple workflow\" align=\"LEFT\" style=\"width: 85%;\"/>"
   ]
  },
  {
   "cell_type": "markdown",
   "metadata": {},
   "source": [
    "### 1. Pull Down a CSV File\n",
    "\n",
    "We replicate here some of the flow from the __[Modern Research Data Portal](https://mrdp.globus.org)__ design pattern and tutorial. In particular, we retrieve the climate data for Las Vegas from 1952. This is a CSV file with column names in the first row."
   ]
  },
  {
   "cell_type": "code",
   "execution_count": null,
   "metadata": {},
   "outputs": [],
   "source": [
    "# GET the CSV from the publicly accessible HTTPS GCS endpoint\n",
    "vegas_climate_csv = requests.get('https://tutorial-https-endpoint.globus.org/portal/catalog/dataset_las/1952.csv').text\n",
    "\n",
    "vegas_rows = csv.DictReader(StringIO(vegas_climate_csv))\n",
    "\n",
    "# Look at the header line\n",
    "print(','.join(vegas_rows.fieldnames))"
   ]
  },
  {
   "cell_type": "code",
   "execution_count": null,
   "metadata": {},
   "outputs": [],
   "source": [
    "# Pull the data from the CSV text\n",
    "vegas_day = [] # DATE\n",
    "vegas_tmax = [] # TMAX\n",
    "vegas_tmin = [] # TMIN\n",
    "\n",
    "for row in vegas_rows:\n",
    "    day = datetime.date(int(row['DATE'][:4]), int(row['DATE'][4:6]), int(row['DATE'][6:]))\n",
    "    vegas_day.append(day)\n",
    "    vegas_tmin.append(int(row['TMIN']))\n",
    "    vegas_tmax.append(int(row['TMAX']))"
   ]
  },
  {
   "cell_type": "markdown",
   "metadata": {},
   "source": [
    "### 2. Plot the Data"
   ]
  },
  {
   "cell_type": "code",
   "execution_count": null,
   "metadata": {},
   "outputs": [],
   "source": [
    "# Plot the data\n",
    "plt.figure(figsize=(16,8))\n",
    "plt.plot(vegas_day, vegas_tmin, label = \"Min Temp\")\n",
    "plt.plot(vegas_day, vegas_tmax, label = \"Max Temp\")\n",
    "plt.xlabel('Date YYYY-MM')\n",
    "plt.ylabel('Temperature')\n",
    "plt.title('Las Vegas Airport Temperature Min & Max')\n",
    "plt.grid(True)\n",
    "plt.savefig(\"vegas.png\")\n",
    "plt.show()"
   ]
  },
  {
   "cell_type": "markdown",
   "metadata": {},
   "source": [
    "### Save the plot in our Jupyter environment"
   ]
  },
  {
   "cell_type": "markdown",
   "metadata": {},
   "source": [
    "For these Globus Transfer API interactions, we use the Globus Transfer token. As the Globus Transfer API does not support __[`application/x-www-form-urlencoded`](https://docs.globus.org/api/transfer/overview/#document_formats)__ data, we are explicit about the JSON we pass.\n",
    "\n",
    "At this point, we will:\n",
    "\n",
    "1. Activate the endpoint we're using for the tutorial\n",
    "1. Create a directory for our file\n",
    "1. `PUT` our plot there\n",
    "1. Generate a link to our plot and view it\n",
    "\n",
    "Note, the calls to Transfer can be made via the Globus SDK, with argument validation, etc. For this tutorial we're using a direct HTTP request for pedagogical purposes."
   ]
  },
  {
   "cell_type": "code",
   "execution_count": null,
   "metadata": {},
   "outputs": [],
   "source": [
    "# Base URL for the Globus Transfer API\n",
    "base_url = 'https://transfer.api.globus.org/v0.10'\n",
    "# ID of the endpoint that we're using for the tutorial\n",
    "endpoint_uuid = 'e56c36e4-1063-11e6-a747-22000bf2d559'\n",
    "\n",
    "# Create the header\n",
    "headers = {'Authorization':'Bearer '+ tokens['tokens']['transfer.api.globus.org']['access_token'],\n",
    "          \"Content-Type\" : \"application/json\"}"
   ]
  },
  {
   "cell_type": "code",
   "execution_count": null,
   "metadata": {},
   "outputs": [],
   "source": [
    "# Grab our username (which includes a hash to avoid collision)\n",
    "username = os.getenv('JUPYTERHUB_USER')\n",
    "print(\"My user name is \" + username)"
   ]
  },
  {
   "cell_type": "code",
   "execution_count": null,
   "metadata": {},
   "outputs": [],
   "source": [
    "# Autoactivate the endpoint\n",
    "resp = requests.post(base_url + '/endpoint/' + endpoint_uuid + '/autoactivate',\n",
    "                    headers=headers)\n",
    "print(resp.status_code)\n",
    "print(resp.text)"
   ]
  },
  {
   "cell_type": "code",
   "execution_count": null,
   "metadata": {
    "scrolled": true
   },
   "outputs": [],
   "source": [
    "# Call the Transfer API to make the directory\n",
    "# Note, this will throw a 502 if the directory already exists.\n",
    "# So don't panic if that happens when you rerun it.\n",
    "# Later this can be done directly via Collections\n",
    "mkdir_payload = { \"DATA_TYPE\": \"mkdir\",\n",
    "                  \"path\": \"/test/jhtutorial/users/\" + username }\n",
    "\n",
    "resp = requests.post(base_url + '/endpoint/' + endpoint_uuid + '/mkdir',\n",
    "                    headers=headers, json=mkdir_payload)\n",
    "print(resp.status_code)\n",
    "print(resp.text)"
   ]
  },
  {
   "cell_type": "markdown",
   "metadata": {},
   "source": [
    "### 3. Put the plot on a shared endpoint on the Petrel data server at Argonne\n",
    "This Globus Connect Server endpoint supports HTTPS and we can `PUT` the plot image file there directly. If this was a large file (or many files) we might want to use a Globus Transfer request instead."
   ]
  },
  {
   "cell_type": "code",
   "execution_count": null,
   "metadata": {},
   "outputs": [],
   "source": [
    "# Create the header\n",
    "headers = {'Authorization':'Bearer '+ tokens['tokens']['petrel_https_server']['access_token']}\n",
    "\n",
    "# Pass the file pointer reference to the requests library for the PUT\n",
    "image_data = open('vegas.png', 'rb')\n",
    "\n",
    "# Get the user info as JSON\n",
    "resp = requests.put('https://testbed.petrel.host/test/jhtutorial/users/' + username + '/vegas.png',\n",
    "                    headers=headers, data=image_data, allow_redirects=False)\n",
    "print(resp.status_code)"
   ]
  },
  {
   "cell_type": "markdown",
   "metadata": {},
   "source": [
    "### 4. Share a link to the plot file\n",
    "\n",
    "Let's look at a link to the file. This will require you to authenticate to the GCS endpoint since your browser is a different client than this notebook server."
   ]
  },
  {
   "cell_type": "code",
   "execution_count": null,
   "metadata": {},
   "outputs": [],
   "source": [
    "print('https://testbed.petrel.host/test/jhtutorial/users/' + username + '/vegas.png')"
   ]
  },
  {
   "cell_type": "markdown",
   "metadata": {},
   "source": [
    "We can also look at the folders and permissions on the __[shared endpoint](https://www.globus.org/app/transfer?origin_id=e56c36e4-1063-11e6-a747-22000bf2d559&origin_path=%2Ftest%2Fjhtutorial%2F)__."
   ]
  }
 ],
 "metadata": {
  "kernelspec": {
   "display_name": "Python 3",
   "language": "python",
   "name": "python3"
  },
  "language_info": {
   "codemirror_mode": {
    "name": "ipython",
    "version": 3
   },
   "file_extension": ".py",
   "mimetype": "text/x-python",
   "name": "python",
   "nbconvert_exporter": "python",
   "pygments_lexer": "ipython3",
   "version": "3.6.5"
  }
 },
 "nbformat": 4,
 "nbformat_minor": 2
}
