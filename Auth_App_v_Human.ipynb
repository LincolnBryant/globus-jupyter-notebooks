{
 "cells": [
  {
   "cell_type": "markdown",
   "id": "478ffe43-48b7-495a-a53a-a276eb3b05f5",
   "metadata": {},
   "source": [
    "# Globus Auth for Applications and Humans\n",
    "\n",
    "In this notebook, we'll show the difference between an application that can\n",
    "do things as itself and an application that can login humans and do things\n",
    "with their identity and permissions.\n",
    "\n",
    "## Requirements\n",
    "- Install the [Globus Python SDK](https://globus-sdk-python.readthedocs.io/en/stable/installation.html).\n",
    "- Join the [Tutorial Users Group](https://app.globus.org/groups/50b6a29c-63ac-11e4-8062-22000ab68755) in order to experiment with sharing/guest collections.\n",
    "\n",
    "## Globus SDK References\n",
    "- Source code: https://github.com/globus/globus-sdk-python\n",
    "- Documentation: https://globus-sdk-python.readthedocs.io/en/stable/"
   ]
  },
  {
   "cell_type": "code",
   "execution_count": 21,
   "id": "926eae2d-7e86-487a-a4dd-d6b2756e92f7",
   "metadata": {},
   "outputs": [],
   "source": [
    "import globus_sdk\n",
    "from globus_sdk import AuthClient, AccessTokenAuthorizer\n",
    "import json  # just so we can pretty-print response data"
   ]
  },
  {
   "cell_type": "markdown",
   "id": "31b189c6-ae1c-461b-b574-611566d6ae21",
   "metadata": {},
   "source": [
    "# Let's first do some things as the application itself.\n",
    "\n",
    "Applications can use Globus APIs with their own application identities. This is\n",
    "useful for automation, and also for things data repositories have to do without\n",
    "a human being driving the process.\n",
    "\n",
    "* We have to identify the application with an application identity.\n",
    "* We have to request tokens for the APIs we plan to use.\n",
    "* Authentication is 100% non-interactive!\n",
    "* We have to organize the tokens we get back\n",
    "\n",
    "Once we have tokens, we can then use Globus APIs to do things, but everything is\n",
    "done using the application's identity, so only permisions that have been granted\n",
    "to the application are available."
   ]
  },
  {
   "cell_type": "code",
   "execution_count": 5,
   "id": "f947a816-6238-4284-9e52-78c227b36de2",
   "metadata": {},
   "outputs": [],
   "source": [
    "# You'll need to register an application with Globus to get the Client ID and Secret below.\n",
    "# Go to https://app.globus.org/settings/developers and select \"Register a service account or \n",
    "# application credential for automation.\" Then copy-paste the Client ID and Client Secret here.\n",
    "\n",
    "APP_CLIENT_ID = \"...\"\n",
    "# the secret, loaded from wherever you store it\n",
    "APP_CLIENT_SECRET = \"...\"\n",
    "\n",
    "# Create a client object for things my app does as itself (application identity)\n",
    "myappclient = globus_sdk.ConfidentialAppAuthClient(\n",
    "    client_id=APP_CLIENT_ID, client_secret=APP_CLIENT_SECRET\n",
    ")"
   ]
  },
  {
   "cell_type": "code",
   "execution_count": 8,
   "id": "e91b507c-358d-430d-9ec5-7e971e2e53ac",
   "metadata": {},
   "outputs": [
    {
     "name": "stdout",
     "output_type": "stream",
     "text": [
      "Here's how the Auth API token is delivered to us:\n",
      "{\n",
      "  \"scope\": \"openid email profile\",\n",
      "  \"access_token\": \"AgxbeaJve1Jp4z96G9Pqm42wbGoeeelxvEeGo70zEw4r534wnvF8Cwd0ewkj0V6a9lKe8EwVMwpomasYxGwxeH02gEQCEvqNQF3PD2J\",\n",
      "  \"refresh_token\": null,\n",
      "  \"token_type\": \"Bearer\",\n",
      "  \"expires_at_seconds\": 1721594673,\n",
      "  \"resource_server\": \"auth.globus.org\"\n",
      "}\n",
      "\n",
      "Here's how the Transfer API token is delivered to us:\n",
      "{\n",
      "  \"scope\": \"urn:globus:auth:scope:transfer.api.globus.org:all\",\n",
      "  \"access_token\": \"Ag0qVedzb01KY7YN4D123pqnzy2XeP6owzy0gYQDPnkddkWnnof7CMGNk2pgYQeaWz3jMg69BbbbByU1gaJg9I42bn3\",\n",
      "  \"refresh_token\": null,\n",
      "  \"token_type\": \"Bearer\",\n",
      "  \"expires_at_seconds\": 1721594673,\n",
      "  \"resource_server\": \"transfer.api.globus.org\"\n",
      "}\n"
     ]
    }
   ],
   "source": [
    "# We can authenticate the app itself and get its tokens non-interactively\n",
    "\n",
    "token_response = myappclient.oauth2_client_credentials_tokens()\n",
    "\n",
    "# the useful values that you want at the end of this\n",
    "globus_auth_data = token_response.by_resource_server[\"auth.globus.org\"]\n",
    "globus_transfer_data = token_response.by_resource_server[\"transfer.api.globus.org\"]\n",
    "print(\"Here's how the Auth API token is delivered to us:\")\n",
    "print(json.dumps(globus_auth_data, indent=2))\n",
    "print(\"\\nHere's how the Transfer API token is delivered to us:\")\n",
    "print(json.dumps(globus_transfer_data, indent=2))"
   ]
  },
  {
   "cell_type": "code",
   "execution_count": 9,
   "id": "4664b6b1-adba-496f-a9bb-6cfe6e2b0bb2",
   "metadata": {},
   "outputs": [],
   "source": [
    "# Now that we've authenticated the application, we can\n",
    "# create a transfer client to let the app use the Transfer API as itself\n",
    "scopes = \"urn:globus:auth:scope:transfer.api.globus.org:all\"\n",
    "cc_authorizer = globus_sdk.ClientCredentialsAuthorizer(myappclient, scopes)\n",
    "# create a new client\n",
    "mytransferclient = globus_sdk.TransferClient(authorizer=cc_authorizer)"
   ]
  },
  {
   "cell_type": "code",
   "execution_count": 11,
   "id": "399e82a4-6c63-4ead-9a26-f73183cabe8a",
   "metadata": {},
   "outputs": [
    {
     "name": "stdout",
     "output_type": "stream",
     "text": [
      "Endpoints shared with a01b9ac9-1374-4576-89ed-86104deaebf8@clients.auth.globus.org:\n",
      "[e3a8fcf4-3f67-4625-a762-71438ab390cb] Sequencer Data from the Liming Lab\n"
     ]
    }
   ],
   "source": [
    "# Ok, let's see which collections have been shared with the app!\n",
    "\n",
    "print(\"Endpoints shared with {}@clients.auth.globus.org:\".format(APP_CLIENT_ID))\n",
    "for ep in mytransferclient.endpoint_search(filter_scope=\"shared-with-me\"):\n",
    "    print(\"[{}] {}\".format(ep[\"id\"], ep[\"display_name\"]))"
   ]
  },
  {
   "cell_type": "markdown",
   "id": "1649bf43-9e3c-41f5-b1d0-5c8e509c55ca",
   "metadata": {},
   "source": [
    "# Let's log someone in!\n",
    "\n",
    "Here, we're going to use Globus Auth to authenticate a human being.\n",
    "* We need to identity the application with an application ID.\n",
    "* We need to tell Globus which APIs we want to be able to use the human's identity with.\n",
    "* We need to gather up the access tokens Globus returns so we can use them with APIs.\n",
    "\n",
    "Once we've done all of the above, we will then use the tokens to do a few things as the human."
   ]
  },
  {
   "cell_type": "code",
   "execution_count": 12,
   "id": "9f2a8d8a-f6fd-4c5c-a997-dcec78f08cd4",
   "metadata": {},
   "outputs": [],
   "source": [
    "# Now, we're going to log in humans and do things as them. \n",
    "# Because this is a notebook, the LOGIN_CLIENT_ID doesn't get to have a secret.\n",
    "LOGIN_CLIENT_ID = \"...\"\n",
    "\n",
    "# Create a client object for user login flows (to allow us do things as the human user)\n",
    "myloginclient = globus_sdk.NativeAppAuthClient(LOGIN_CLIENT_ID)"
   ]
  },
  {
   "cell_type": "code",
   "execution_count": 13,
   "id": "dd547bac-0f33-436e-91ed-1cb70709a631",
   "metadata": {},
   "outputs": [],
   "source": [
    "# The first thing we have to do is gather up all the API scopes we want the user to\n",
    "# grant my application. \n",
    "\n",
    "# Auth scopes for obtaining human identity info\n",
    "openid_scope = globus_sdk.scopes.data.AuthScopes.openid\n",
    "email_scope = globus_sdk.scopes.data.AuthScopes.email\n",
    "profile_scope = globus_sdk.scopes.data.AuthScopes.profile\n",
    "\n",
    "# GCS Data Access scopes for tutorial collections.\n",
    "tutorial_collection_1 = \"6c54cade-bde5-45c1-bdea-f4bd71dba2cc\"  # collection \"Globus Tutorial Collection 1\"\n",
    "tutorial_collection_2 = \"31ce9ba0-176d-45a5-add3-f37d233ba47d\"  # collection \"Globus Tutorial Collection 2\"\n",
    "# This is the Tutorial GCS endpoint, which will be used for creating new Guest Collections\n",
    "tutorial_endpoint_1 = \"261692a4-7e49-4def-b59e-cbfc65e3907d\"\n",
    "tc1_data_access = globus_sdk.scopes.GCSCollectionScopeBuilder(tutorial_collection_1).data_access\n",
    "tc2_data_access = globus_sdk.scopes.GCSCollectionScopeBuilder(tutorial_collection_2).data_access\n",
    "\n",
    "# Add scopes as dependencies for the transfer scope, allowing transfer operations to access data\n",
    "# on both tutorial mapped collections.\n",
    "transfer_scope = globus_sdk.scopes.TransferScopes.make_mutable(\"all\")\n",
    "transfer_scope.add_dependency(tc1_data_access)\n",
    "transfer_scope.add_dependency(tc2_data_access)\n",
    "\n",
    "# This scope will be used to manage the Endpoint on Tutorial 1, allowing us to Create/Update/Delete\n",
    "# Guest Collections on this endpoint.\n",
    "tutorial_ep1_manage_collections = globus_sdk.scopes.GCSEndpointScopeBuilder(tutorial_endpoint_1).make_mutable(\"manage_collections\")\n",
    "tutorial_ep1_manage_collections.add_dependency(tc1_data_access)\n",
    "\n",
    "requested_scopes = [openid_scope, email_scope, profile_scope, transfer_scope, tutorial_ep1_manage_collections]"
   ]
  },
  {
   "cell_type": "code",
   "execution_count": 14,
   "id": "2cd3f93f-7f34-4865-a90e-45eaf7e94293",
   "metadata": {},
   "outputs": [
    {
     "name": "stdout",
     "output_type": "stream",
     "text": [
      "Login Here:\n",
      "\n",
      "https://auth.globus.org/v2/oauth2/authorize?client_id=1a58932e-3455-40ab-a410-633844a3c638&redirect_uri=https%3A%2F%2Fauth.globus.org%2Fv2%2Fweb%2Fauth-code&scope=openid+email+profile+urn%3Aglobus%3Aauth%3Ascope%3Atransfer.api.globus.org%3Aall%5Bhttps%3A%2F%2Fauth.globus.org%2Fscopes%2F6c54cade-bde5-45c1-bdea-f4bd71dba2cc%2Fdata_access+https%3A%2F%2Fauth.globus.org%2Fscopes%2F31ce9ba0-176d-45a5-add3-f37d233ba47d%2Fdata_access%5D+urn%3Aglobus%3Aauth%3Ascope%3A261692a4-7e49-4def-b59e-cbfc65e3907d%3Amanage_collections%5Bhttps%3A%2F%2Fauth.globus.org%2Fscopes%2F6c54cade-bde5-45c1-bdea-f4bd71dba2cc%2Fdata_access%5D&state=_default&response_type=code&code_challenge=NCyer3JEMiUyMYuu9AeivD2fHlMgxsxKKefuuRCEQ2I&code_challenge_method=S256&access_type=online\n",
      "\n",
      "IMPORTANT NOTE: the link above can only be used once!\n",
      "If login or a later step in the flow fails, you must execute this cell again to generate a new link.\n"
     ]
    },
    {
     "name": "stdin",
     "output_type": "stream",
     "text": [
      "PASTE YOUR CODE HERE>  2wBnLWzZ0KpchwLZ6kYI1Il6mZvGMz\n"
     ]
    },
    {
     "name": "stdout",
     "output_type": "stream",
     "text": [
      "Tokens Received!\n"
     ]
    }
   ],
   "source": [
    "# Now that we know what we're asking permission to do, log the human in!\n",
    "\n",
    "myloginclient.oauth2_start_flow(requested_scopes=requested_scopes, refresh_tokens=False)\n",
    "print(f\"Login Here:\\n\\n{myloginclient.oauth2_get_authorize_url()}\")\n",
    "print(\"\\nIMPORTANT NOTE: the link above can only be used once!\")\n",
    "print(\"If login or a later step in the flow fails, you must execute this cell again to generate a new link.\")\n",
    "auth_code = input(\"PASTE YOUR CODE HERE> \")\n",
    "tokens = myloginclient.oauth2_exchange_code_for_tokens(auth_code).by_resource_server\n",
    "print(\"Tokens Received!\")"
   ]
  },
  {
   "cell_type": "code",
   "execution_count": 17,
   "id": "5011c9b1-8f9b-4d6b-9543-00755cc74f97",
   "metadata": {},
   "outputs": [
    {
     "name": "stdout",
     "output_type": "stream",
     "text": [
      "Here's how the Auth API token is delivered to us:\n",
      "{\n",
      "  \"scope\": \"openid profile email\",\n",
      "  \"access_token\": \"Agm3lnqJ3omB4e5JEq5an41w7qa3lg3PG17Xpm21xrv71JED2js8CwNKaKmj7r4z5dyEe9GWVWxJJDU6XD9JkiQWJBqTj27V1T90KPb\",\n",
      "  \"refresh_token\": null,\n",
      "  \"token_type\": \"Bearer\",\n",
      "  \"expires_at_seconds\": 1721594852,\n",
      "  \"resource_server\": \"auth.globus.org\"\n",
      "}\n",
      "\n",
      "Here's how the Transfer API token is delivered to us:\n",
      "{\n",
      "  \"scope\": \"urn:globus:auth:scope:transfer.api.globus.org:all\",\n",
      "  \"access_token\": \"Agr7z7gMQMJr5EXqpkJ871OmBWbJevwgK1pq89dVngMpyGKao4SXCJ7gGQJBaEbVp9dQkrg7Ngopxxh0z7bKNcBVwvg\",\n",
      "  \"refresh_token\": null,\n",
      "  \"token_type\": \"Bearer\",\n",
      "  \"expires_at_seconds\": 1721594852,\n",
      "  \"resource_server\": \"transfer.api.globus.org\"\n",
      "}\n"
     ]
    }
   ],
   "source": [
    "# Let's take a look at the tokens we received for this human\n",
    "human_auth_data = tokens[\"auth.globus.org\"]\n",
    "human_transfer_data = tokens[\"transfer.api.globus.org\"]\n",
    "\n",
    "print(\"Here's how the Auth API token is delivered to us:\")\n",
    "print(json.dumps(human_auth_data, indent=2))\n",
    "print(\"\\nHere's how the Transfer API token is delivered to us:\")\n",
    "print(json.dumps(human_transfer_data, indent=2))"
   ]
  },
  {
   "cell_type": "code",
   "execution_count": 18,
   "id": "482d42dd-c4cf-479f-866f-4ea90042e325",
   "metadata": {},
   "outputs": [],
   "source": [
    "# Extract the access token for the Globus Transfer service, known as \"transfer.api.globus.org\"\n",
    "human_transfer_access_token = human_transfer_data['access_token']\n",
    "human_transfer_authorizer = globus_sdk.AccessTokenAuthorizer(human_transfer_access_token)\n",
    "human_transfer_client = globus_sdk.TransferClient(authorizer=human_transfer_authorizer)\n",
    "\n",
    "human_auth_access_token = human_auth_data['access_token']\n",
    "human_auth_authorizer = globus_sdk.AccessTokenAuthorizer(human_auth_access_token)\n",
    "human_auth_client = globus_sdk.AuthClient(authorizer=human_auth_authorizer)"
   ]
  },
  {
   "cell_type": "code",
   "execution_count": 19,
   "id": "27420b58-e3a3-4a0e-aae9-2187444b854d",
   "metadata": {
    "scrolled": true
   },
   "outputs": [
    {
     "name": "stdout",
     "output_type": "stream",
     "text": [
      "{\n",
      "  \"sub\": \"b16b12b6-d274-11e5-8e41-5fea585a1aa2\",\n",
      "  \"organization\": \"University of Chicago\",\n",
      "  \"name\": \"Ronald Liming\",\n",
      "  \"preferred_username\": \"lliming@uchicago.edu\",\n",
      "  \"identity_provider\": \"0dcf5063-bffd-40f7-b403-24f97e32fa47\",\n",
      "  \"identity_provider_display_name\": \"University of Chicago\",\n",
      "  \"email\": \"lliming@uchicago.edu\",\n",
      "  \"last_authentication\": 1721410388,\n",
      "  \"identity_set\": [\n",
      "    {\n",
      "      \"sub\": \"b16b12b6-d274-11e5-8e41-5fea585a1aa2\",\n",
      "      \"organization\": \"University of Chicago\",\n",
      "      \"name\": \"Ronald Liming\",\n",
      "      \"username\": \"lliming@uchicago.edu\",\n",
      "      \"identity_provider\": \"0dcf5063-bffd-40f7-b403-24f97e32fa47\",\n",
      "      \"identity_provider_display_name\": \"University of Chicago\",\n",
      "      \"email\": \"lliming@uchicago.edu\",\n",
      "      \"last_authentication\": 1721410388\n",
      "    },\n",
      "    {\n",
      "      \"sub\": \"b16ac48c-d274-11e5-8e40-3b85f20c1bc0\",\n",
      "      \"organization\": \"University of Chicago\",\n",
      "      \"name\": \"Lee Liming\",\n",
      "      \"username\": \"lliming@globusid.org\",\n",
      "      \"identity_provider\": \"41143743-f3c8-4d60-bbdb-eeecaba85bd9\",\n",
      "      \"identity_provider_display_name\": \"Globus ID\",\n",
      "      \"email\": \"lliming@uchicago.edu\",\n",
      "      \"last_authentication\": 1712155924\n",
      "    },\n",
      "    {\n",
      "      \"sub\": \"123a1576-7017-4d6d-8e29-15d203c18d88\",\n",
      "      \"name\": \"Lee Liming\",\n",
      "      \"username\": \"lliming@globus.org\",\n",
      "      \"identity_provider\": \"927d7238-f917-4eb2-9ace-c523fa9ba34e\",\n",
      "      \"identity_provider_display_name\": \"Globus Staff\",\n",
      "      \"email\": \"lliming@globus.org\",\n",
      "      \"last_authentication\": 1717002449\n",
      "    },\n",
      "    {\n",
      "      \"sub\": \"125dd438-3051-43ed-ba4d-1b9b5e965a5a\",\n",
      "      \"name\": \"Ronald Liming\",\n",
      "      \"username\": \"leeliming@era.nih.gov\",\n",
      "      \"identity_provider\": \"4756f815-3819-4204-9c61-64e19f9eeff5\",\n",
      "      \"identity_provider_display_name\": \"eRA Commons\",\n",
      "      \"email\": \"lliming@uchicago.edu\",\n",
      "      \"last_authentication\": 1657293213\n",
      "    },\n",
      "    {\n",
      "      \"sub\": \"829a5bf1-a8c5-4121-887b-32f03f719cd8\",\n",
      "      \"name\": \"Lee Liming\",\n",
      "      \"username\": \"rliming@anl.gov\",\n",
      "      \"identity_provider\": \"5c05e97d-eb43-4a2a-8eaa-eb8fb95cb444\",\n",
      "      \"identity_provider_display_name\": \"Argonne National Laboratory\",\n",
      "      \"email\": \"lliming@uchicago.edu\",\n",
      "      \"last_authentication\": 1698340534\n",
      "    },\n",
      "    {\n",
      "      \"sub\": \"7de9194c-d464-4ea7-aaff-0f3814c1e713\",\n",
      "      \"name\": \"Lee Liming\",\n",
      "      \"username\": \"0000-0002-4930-6145@orcid.org\",\n",
      "      \"identity_provider\": \"0519206d-f21c-4771-990a-282a12bb666b\",\n",
      "      \"identity_provider_display_name\": \"ORCID\",\n",
      "      \"email\": null,\n",
      "      \"last_authentication\": 1709828054\n",
      "    },\n",
      "    {\n",
      "      \"sub\": \"19397102-2200-4464-ac4d-e5a875300331\",\n",
      "      \"name\": \"Lee Liming\",\n",
      "      \"username\": \"liming@access-ci.org\",\n",
      "      \"identity_provider\": \"b7f64996-78f0-4c6d-9f2a-0f4b39b06432\",\n",
      "      \"identity_provider_display_name\": \"ACCESS CI (formerly XSEDE)\",\n",
      "      \"email\": \"lliming@uchicago.edu\",\n",
      "      \"last_authentication\": 1712280198\n",
      "    },\n",
      "    {\n",
      "      \"sub\": \"5e5adeaf-1878-4da6-84ed-150de20b1aa0\",\n",
      "      \"name\": \"leeliming@era.nih.gov@ras.nih.gov\",\n",
      "      \"username\": \"leeliming@era.nih.gov@ras.nih.gov\",\n",
      "      \"identity_provider\": \"35cef764-6d27-4cc9-97b4-43dbf97d4a41\",\n",
      "      \"identity_provider_display_name\": \"NIH Researcher Auth Service (RAS)\",\n",
      "      \"email\": \"lliming@uchicago.edu\",\n",
      "      \"last_authentication\": 1691600912\n",
      "    },\n",
      "    {\n",
      "      \"sub\": \"4d6208fa-f554-47b6-a07b-1acd797de5a2\",\n",
      "      \"name\": null,\n",
      "      \"username\": \"globususe@auth.9283ba.03c0.data.globus.org\",\n",
      "      \"identity_provider\": \"aa027778-0507-4c29-a817-716766a8bef4\",\n",
      "      \"identity_provider_display_name\": \"ACCESS Operations Usage OIDC\",\n",
      "      \"email\": null,\n",
      "      \"last_authentication\": 1699557845\n",
      "    },\n",
      "    {\n",
      "      \"sub\": \"b73aac59-80b1-43f8-89d8-35cb300ff150\",\n",
      "      \"name\": null,\n",
      "      \"username\": \"lliming@github.com\",\n",
      "      \"identity_provider\": \"0da09f41-1375-4615-8f3b-2da33689ce5d\",\n",
      "      \"identity_provider_display_name\": \"Github\",\n",
      "      \"email\": null,\n",
      "      \"last_authentication\": 1714416900\n",
      "    }\n",
      "  ]\n",
      "}\n"
     ]
    }
   ],
   "source": [
    "# Let's find out who this human is.\n",
    "\n",
    "human_userinfo = human_auth_client.oauth2_userinfo()\n",
    "print(json.dumps(human_userinfo.data, indent=2))"
   ]
  },
  {
   "cell_type": "code",
   "execution_count": 20,
   "id": "8f0195b7-0f43-4aa7-9c10-0daa72c2f38a",
   "metadata": {},
   "outputs": [
    {
     "name": "stdout",
     "output_type": "stream",
     "text": [
      "Endpoints shared with lliming@uchicago.edu:\n",
      "[84b65f34-bcaf-4c7f-87bf-accff5a3eeda] alcf#e3sm\n",
      "[527fe9c0-5782-4a2a-a097-ea2f06fe68ab] Alternate Serverless Image Repository\n",
      "[3923f7e7-3804-49f4-a9bd-416e89383f68] [Beta] USGS-ingestion\n",
      "[e8eca6c5-8bb0-4797-b2e8-76f0e2bd3e9c] brownu_pbaptist_gdrive\n",
      "[36530efa-a1e3-45dc-a6e7-9560a8e9ac49] CFDE Dev EP noHA\n",
      "[9e59165d-77e3-4430-a5e5-f153ab038d0f] CFDE FAIR Assessment Guest Collection\n",
      "[4674ef02-e1dc-4169-8303-f8ec1cbc3969] CFDE Prod EP\n",
      "[d4c89edc-a22c-4bc3-bfa2-bca5fd19b404] CFDE Prod EP noHA\n",
      "[922ee14d-49b7-4d69-8f1c-8e2ff8207542] CFDE Staging EP noHA\n",
      "[db235ff7-18fc-4943-89d7-f6b0f4ca09b7] Compute Scratch Collection\n",
      "[deb1f1b4-b1e5-4149-96f2-25113c1a6df7] Data-Enabled Workshop Collection\n",
      "[e6cc344e-91e5-4cc3-afda-3603d02b8a00] FasterData Mobility Framework - Argonne National Laboratory\n",
      "[651903ec-e892-460e-bfcf-f824d66509fb] FasterData Mobility Framework - NCAR\n",
      "[d5affa19-e218-48b8-8c39-0b1b05b9540e] Globus HTTPS Jupyter Examples\n",
      "[60a0c6af-3f73-453c-afbe-c8504fc428b6] Globus HTTPS Tutorial Collection\n",
      "[a6f165fa-aee2-4fe5-95f3-97429c28bf82] Globus Tutorials on ALCF Eagle\n",
      "[c0b773e5-7250-4ffd-88d8-da70215d6d35] Globus Usage Reports\n",
      "[c9912e1c-f42a-11e9-be92-02fcc9cdd752] Globus usage reports incoming on XSEDE XCI Metrics\n",
      "[6abaede0-c626-11e6-9c19-22000a1e3b52] GlobusWorld Tour NCAR Tutorial Videos\n",
      "[3170c043-f1ba-483e-adda-4f46202e31b5] GW24 Compute Endpoint Scratch on Midway 3\n",
      "[b81203e6-51e4-11eb-a4d2-0a53a3613b81] Haibo RNAseq24 data\n",
      "[eaa75d90-3509-4f6b-83cb-3f74cbe237cb] Incoming scan for viewing by colleagues\n",
      "[45f728a9-41a3-449f-81c9-3fba2bdc3af1] LADI Images on S3\n",
      "[c1f488bb-7882-49fa-aea2-97e45e5404a4] LFS-RNA-BAMs\n",
      "[d51149ec-aa92-4da9-b6bc-e6810cf62070] Midway Compute Scratch Collection\n"
     ]
    }
   ],
   "source": [
    "# Ok, let's see which collections have been shared with the human!\n",
    "\n",
    "print(\"Endpoints shared with {}:\".format(human_userinfo.data[\"preferred_username\"]))\n",
    "for ep in human_transfer_client.endpoint_search(filter_scope=\"shared-with-me\"):\n",
    "    print(\"[{}] {}\".format(ep[\"id\"], ep[\"display_name\"]))"
   ]
  },
  {
   "cell_type": "code",
   "execution_count": null,
   "id": "cfe6e8a7-0ccd-4977-bde6-adc48aa77736",
   "metadata": {},
   "outputs": [],
   "source": []
  }
 ],
 "metadata": {
  "kernelspec": {
   "display_name": "Python 3 (ipykernel)",
   "language": "python",
   "name": "python3"
  },
  "language_info": {
   "codemirror_mode": {
    "name": "ipython",
    "version": 3
   },
   "file_extension": ".py",
   "mimetype": "text/x-python",
   "name": "python",
   "nbconvert_exporter": "python",
   "pygments_lexer": "ipython3",
   "version": "3.11.8"
  }
 },
 "nbformat": 4,
 "nbformat_minor": 5
}
