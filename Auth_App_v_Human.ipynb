{
 "cells": [
  {
   "cell_type": "markdown",
   "id": "478ffe43-48b7-495a-a53a-a276eb3b05f5",
   "metadata": {},
   "source": [
    "# Globus Auth for Applications and Humans\n",
    "\n",
    "In this notebook, we'll show the difference between an application that can\n",
    "do things as itself and an application that can login humans and do things\n",
    "with their identity and permissions.\n",
    "\n",
    "## Requirements\n",
    "- Install the [Globus Python SDK](https://globus-sdk-python.readthedocs.io/en/stable/installation.html).\n",
    "- Join the [Tutorial Users Group](https://app.globus.org/groups/50b6a29c-63ac-11e4-8062-22000ab68755) in order to experiment with sharing/guest collections.\n",
    "\n",
    "## Globus SDK References\n",
    "- Source code: https://github.com/globus/globus-sdk-python\n",
    "- Documentation: https://globus-sdk-python.readthedocs.io/en/stable/"
   ]
  },
  {
   "cell_type": "code",
   "execution_count": null,
   "id": "926eae2d-7e86-487a-a4dd-d6b2756e92f7",
   "metadata": {},
   "outputs": [],
   "source": [
    "import globus_sdk\n",
    "from globus_sdk import AuthClient, AccessTokenAuthorizer\n",
    "import json  # just so we can pretty-print response data"
   ]
  },
  {
   "cell_type": "markdown",
   "id": "31b189c6-ae1c-461b-b574-611566d6ae21",
   "metadata": {},
   "source": [
    "# Let's first do some things as the application itself.\n",
    "\n",
    "Applications can use Globus APIs with their own application identities. This is\n",
    "useful for automation, and also for things data repositories have to do without\n",
    "a human being driving the process.\n",
    "\n",
    "* We have to identify the application with an application identity.\n",
    "* We have to request tokens for the APIs we plan to use.\n",
    "* Authentication is 100% non-interactive!\n",
    "* We have to organize the tokens we get back\n",
    "\n",
    "Once we have tokens, we can then use Globus APIs to do things, but everything is\n",
    "done using the application's identity, so only permisions that have been granted\n",
    "to the application are available."
   ]
  },
  {
   "cell_type": "code",
   "execution_count": null,
   "id": "f947a816-6238-4284-9e52-78c227b36de2",
   "metadata": {},
   "outputs": [],
   "source": [
    "# You'll need to register an application with Globus to get the Client ID and Secret below.\n",
    "# Go to https://app.globus.org/settings/developers and select \"Register a service account or \n",
    "# application credential for automation.\" Then copy-paste the Client ID and Client Secret here.\n",
    "\n",
    "APP_CLIENT_ID = \"...\"\n",
    "# the secret, loaded from wherever you store it\n",
    "APP_CLIENT_SECRET = \"...\"\n",
    "\n",
    "# Create a client object for things my app does as itself (application identity)\n",
    "myappclient = globus_sdk.ConfidentialAppAuthClient(\n",
    "    client_id=APP_CLIENT_ID, client_secret=APP_CLIENT_SECRET\n",
    ")"
   ]
  },
  {
   "cell_type": "code",
   "execution_count": null,
   "id": "e91b507c-358d-430d-9ec5-7e971e2e53ac",
   "metadata": {},
   "outputs": [],
   "source": [
    "# We can authenticate the app itself and get its tokens non-interactively\n",
    "\n",
    "token_response = myappclient.oauth2_client_credentials_tokens()\n",
    "\n",
    "# the useful values that you want at the end of this\n",
    "globus_auth_data = token_response.by_resource_server[\"auth.globus.org\"]\n",
    "globus_transfer_data = token_response.by_resource_server[\"transfer.api.globus.org\"]\n",
    "print(\"Here's how the Auth API token is delivered to us:\")\n",
    "print(json.dumps(globus_auth_data, indent=2))\n",
    "print(\"\\nHere's how the Transfer API token is delivered to us:\")\n",
    "print(json.dumps(globus_transfer_data, indent=2))"
   ]
  },
  {
   "cell_type": "code",
   "execution_count": null,
   "id": "4664b6b1-adba-496f-a9bb-6cfe6e2b0bb2",
   "metadata": {},
   "outputs": [],
   "source": [
    "# Now that we've authenticated the application, we can\n",
    "# create a transfer client to let the app use the Transfer API as itself\n",
    "scopes = \"urn:globus:auth:scope:transfer.api.globus.org:all\"\n",
    "cc_authorizer = globus_sdk.ClientCredentialsAuthorizer(myappclient, scopes)\n",
    "# create a new client\n",
    "mytransferclient = globus_sdk.TransferClient(authorizer=cc_authorizer)"
   ]
  },
  {
   "cell_type": "code",
   "execution_count": null,
   "id": "399e82a4-6c63-4ead-9a26-f73183cabe8a",
   "metadata": {},
   "outputs": [],
   "source": [
    "# Ok, let's see which collections have been shared with the app!\n",
    "\n",
    "print(\"Endpoints shared with {}@clients.auth.globus.org:\".format(APP_CLIENT_ID))\n",
    "for ep in mytransferclient.endpoint_search(filter_scope=\"shared-with-me\"):\n",
    "    print(\"[{}] {}\".format(ep[\"id\"], ep[\"display_name\"]))"
   ]
  },
  {
   "cell_type": "markdown",
   "id": "1649bf43-9e3c-41f5-b1d0-5c8e509c55ca",
   "metadata": {},
   "source": [
    "# Let's log someone in!\n",
    "\n",
    "Here, we're going to use Globus Auth to authenticate a human being.\n",
    "* We need to identity the application with an application ID.\n",
    "* We need to tell Globus which APIs we want to be able to use the human's identity with.\n",
    "* We need to gather up the access tokens Globus returns so we can use them with APIs.\n",
    "\n",
    "Once we've done all of the above, we will then use the tokens to do a few things as the human."
   ]
  },
  {
   "cell_type": "code",
   "execution_count": null,
   "id": "9f2a8d8a-f6fd-4c5c-a997-dcec78f08cd4",
   "metadata": {},
   "outputs": [],
   "source": [
    "# Now, we're going to log in humans and do things as them. \n",
    "# Because this is a notebook, the LOGIN_CLIENT_ID doesn't get to have a secret.\n",
    "LOGIN_CLIENT_ID = \"...\"\n",
    "\n",
    "# Create a client object for user login flows (to allow us do things as the human user)\n",
    "myloginclient = globus_sdk.NativeAppAuthClient(LOGIN_CLIENT_ID)"
   ]
  },
  {
   "cell_type": "code",
   "execution_count": null,
   "id": "dd547bac-0f33-436e-91ed-1cb70709a631",
   "metadata": {},
   "outputs": [],
   "source": [
    "# The first thing we have to do is gather up all the API scopes we want the user to\n",
    "# grant my application. \n",
    "\n",
    "# Auth scopes for obtaining human identity info\n",
    "openid_scope = globus_sdk.scopes.data.AuthScopes.openid\n",
    "email_scope = globus_sdk.scopes.data.AuthScopes.email\n",
    "profile_scope = globus_sdk.scopes.data.AuthScopes.profile\n",
    "\n",
    "# GCS Data Access scopes for tutorial collections.\n",
    "tutorial_collection_1 = \"6c54cade-bde5-45c1-bdea-f4bd71dba2cc\"  # collection \"Globus Tutorial Collection 1\"\n",
    "tutorial_collection_2 = \"31ce9ba0-176d-45a5-add3-f37d233ba47d\"  # collection \"Globus Tutorial Collection 2\"\n",
    "# This is the Tutorial GCS endpoint, which will be used for creating new Guest Collections\n",
    "tutorial_endpoint_1 = \"261692a4-7e49-4def-b59e-cbfc65e3907d\"\n",
    "tc1_data_access = globus_sdk.scopes.GCSCollectionScopeBuilder(tutorial_collection_1).data_access\n",
    "tc2_data_access = globus_sdk.scopes.GCSCollectionScopeBuilder(tutorial_collection_2).data_access\n",
    "\n",
    "# Add scopes as dependencies for the transfer scope, allowing transfer operations to access data\n",
    "# on both tutorial mapped collections.\n",
    "transfer_scope = globus_sdk.scopes.TransferScopes.make_mutable(\"all\")\n",
    "transfer_scope.add_dependency(tc1_data_access)\n",
    "transfer_scope.add_dependency(tc2_data_access)\n",
    "\n",
    "# This scope will be used to manage the Endpoint on Tutorial 1, allowing us to Create/Update/Delete\n",
    "# Guest Collections on this endpoint.\n",
    "tutorial_ep1_manage_collections = globus_sdk.scopes.GCSEndpointScopeBuilder(tutorial_endpoint_1).make_mutable(\"manage_collections\")\n",
    "tutorial_ep1_manage_collections.add_dependency(tc1_data_access)\n",
    "\n",
    "requested_scopes = [openid_scope, email_scope, profile_scope, transfer_scope, tutorial_ep1_manage_collections]"
   ]
  },
  {
   "cell_type": "code",
   "execution_count": null,
   "id": "2cd3f93f-7f34-4865-a90e-45eaf7e94293",
   "metadata": {},
   "outputs": [],
   "source": [
    "# Now that we know what we're asking permission to do, log the human in!\n",
    "\n",
    "myloginclient.oauth2_start_flow(requested_scopes=requested_scopes, refresh_tokens=False)\n",
    "print(f\"Login Here:\\n\\n{myloginclient.oauth2_get_authorize_url()}\")\n",
    "print(\"\\nIMPORTANT NOTE: the link above can only be used once!\")\n",
    "print(\"If login or a later step in the flow fails, you must execute this cell again to generate a new link.\")\n",
    "auth_code = input(\"PASTE YOUR CODE HERE> \")\n",
    "tokens = myloginclient.oauth2_exchange_code_for_tokens(auth_code).by_resource_server\n",
    "print(\"Tokens Received!\")"
   ]
  },
  {
   "cell_type": "code",
   "execution_count": null,
   "id": "5011c9b1-8f9b-4d6b-9543-00755cc74f97",
   "metadata": {},
   "outputs": [],
   "source": [
    "# Let's take a look at the tokens we received for this human\n",
    "human_auth_data = tokens[\"auth.globus.org\"]\n",
    "human_transfer_data = tokens[\"transfer.api.globus.org\"]\n",
    "\n",
    "print(\"Here's how the Auth API token is delivered to us:\")\n",
    "print(json.dumps(human_auth_data, indent=2))\n",
    "print(\"\\nHere's how the Transfer API token is delivered to us:\")\n",
    "print(json.dumps(human_transfer_data, indent=2))"
   ]
  },
  {
   "cell_type": "code",
   "execution_count": null,
   "id": "482d42dd-c4cf-479f-866f-4ea90042e325",
   "metadata": {},
   "outputs": [],
   "source": [
    "# Extract the access token for the Globus Transfer service, known as \"transfer.api.globus.org\"\n",
    "human_transfer_access_token = human_transfer_data['access_token']\n",
    "human_transfer_authorizer = globus_sdk.AccessTokenAuthorizer(human_transfer_access_token)\n",
    "human_transfer_client = globus_sdk.TransferClient(authorizer=human_transfer_authorizer)\n",
    "\n",
    "human_auth_access_token = human_auth_data['access_token']\n",
    "human_auth_authorizer = globus_sdk.AccessTokenAuthorizer(human_auth_access_token)\n",
    "human_auth_client = globus_sdk.AuthClient(authorizer=human_auth_authorizer)"
   ]
  },
  {
   "cell_type": "code",
   "execution_count": null,
   "id": "27420b58-e3a3-4a0e-aae9-2187444b854d",
   "metadata": {
    "scrolled": true
   },
   "outputs": [],
   "source": [
    "# Let's find out who this human is.\n",
    "\n",
    "human_userinfo = human_auth_client.oauth2_userinfo()\n",
    "print(json.dumps(human_userinfo.data, indent=2))"
   ]
  },
  {
   "cell_type": "code",
   "execution_count": null,
   "id": "8f0195b7-0f43-4aa7-9c10-0daa72c2f38a",
   "metadata": {},
   "outputs": [],
   "source": [
    "# Ok, let's see which collections have been shared with the human!\n",
    "\n",
    "print(\"Endpoints shared with {}:\".format(human_userinfo.data[\"preferred_username\"]))\n",
    "for ep in human_transfer_client.endpoint_search(filter_scope=\"shared-with-me\"):\n",
    "    print(\"[{}] {}\".format(ep[\"id\"], ep[\"display_name\"]))"
   ]
  },
  {
   "cell_type": "code",
   "execution_count": null,
   "id": "cfe6e8a7-0ccd-4977-bde6-adc48aa77736",
   "metadata": {},
   "outputs": [],
   "source": []
  }
 ],
 "metadata": {
  "kernelspec": {
   "display_name": "Python 3 (ipykernel)",
   "language": "python",
   "name": "python3"
  },
  "language_info": {
   "codemirror_mode": {
    "name": "ipython",
    "version": 3
   },
   "file_extension": ".py",
   "mimetype": "text/x-python",
   "name": "python",
   "nbconvert_exporter": "python",
   "pygments_lexer": "ipython3",
   "version": "3.11.8"
  }
 },
 "nbformat": 4,
 "nbformat_minor": 5
}
