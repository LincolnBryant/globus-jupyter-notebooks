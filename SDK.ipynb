{
 "cells": [
  {
   "cell_type": "markdown",
   "metadata": {},
   "source": [
    "<img src=\"./img/header.png\">\n",
    "# Globus SDK\n",
    "https://github.com/globusonline/globus-sdk-python\n",
    "\n",
    "\n",
    "# Globus SDK Docs\n",
    "http://globusonline.github.io/globus-sdk-python/\n",
    "\n",
    "\n",
    "# Globus CLI\n",
    "https://github.com/globusonline/globus-cli\n",
    "\n",
    "# Requirements\n",
    "- You need to be in the tutorial users group for sharing\n",
    "- Installed Globus Python SDK"
   ]
  },
  {
   "cell_type": "code",
   "execution_count": 21,
   "metadata": {
    "collapsed": true
   },
   "outputs": [],
   "source": [
    "from __future__ import print_function # for python 2\n",
    "from globus_sdk import TransferClient\n",
    "\n",
    "tutorial_endpoint1 = \"ddb59aef-6d04-11e5-ba46-22000b92c6ec\"\n",
    "tutorial_endpoint2 = \"ddb59af0-6d04-11e5-ba46-22000b92c6ec\"\n",
    "\n",
    "myproxy_endpoint = \"ndsshare#NDSShare\"\n",
    "myproxy_username = \"ndsshare\"\n",
    "myproxy_password = \"\""
   ]
  },
  {
   "cell_type": "markdown",
   "metadata": {},
   "source": [
    "# Configuration\n",
    "First you will need to configure the client with your access credentials. You can obtain OAuth2 access tokens via the tokens.globus.org website."
   ]
  },
  {
   "cell_type": "code",
   "execution_count": 3,
   "metadata": {
    "collapsed": true
   },
   "outputs": [],
   "source": [
    "auth_token = ''\n",
    "transfer_token = ''"
   ]
  },
  {
   "cell_type": "markdown",
   "metadata": {},
   "source": [
    "# Transfer Client"
   ]
  },
  {
   "cell_type": "markdown",
   "metadata": {},
   "source": [
    "## Instantiate Transfer Client\n",
    "\n",
    "Transfer functionality is avaialble via a Python client. The TransferClient can be instantiated by passing in a token or by using the token configured in your home directory (~/.globus.cfg). Tokens can be obtained via the tokens.globus.org site. "
   ]
  },
  {
   "cell_type": "code",
   "execution_count": 4,
   "metadata": {
    "collapsed": true
   },
   "outputs": [],
   "source": [
    "tc = TransferClient(token=transfer_token) "
   ]
  },
  {
   "cell_type": "markdown",
   "metadata": {},
   "source": [
    "## Using the client\n",
    "\n",
    "The transfer client makes REST resources avaialble via easy to use methods. \n",
    "\n",
    "The response from these methods wraps the HTTP response status, content type, text and JSON response body. "
   ]
  },
  {
   "cell_type": "code",
   "execution_count": 5,
   "metadata": {
    "collapsed": false
   },
   "outputs": [
    {
     "name": "stdout",
     "output_type": "stream",
     "text": [
      "HTTP Status: 200\n",
      "Content Type: application/json\n",
      "Data: {u'DATA_TYPE': u'endpoint', u'contact_info': None, u'https_server': None, u'activated': False, u'disable_verify': False, u'host_endpoint_display_name': None, u'myproxy_server': u'myproxy.globusonline.org', u'keywords': None, u'sharing_target_root_path': None, u'DATA': [{u'is_paused': False, u'DATA_TYPE': u'server', u'hostname': u'ep1.transfer.globus.org', u'uri': u'gsiftp://ep1.transfer.globus.org:2811', u'port': 2811, u'scheme': u'gsiftp', u'is_connected': True, u'id': 207976, u'subject': None}], u'id': u'ddb59aef-6d04-11e5-ba46-22000b92c6ec', u'display_name': u'Globus Tutorial Endpoint 1', u'gcp_connected': None, u'owner_string': u'go@globusid.org', u'expires_in': -1, u'gcp_paused': None, u'subscription_id': u'964be8f5-5f9b-11e4-b64e-12313940394d', u'canonical_name': u'go#ep1', u'location': u'Automatic', u'host_endpoint_id': None, u'force_encryption': False, u'department': None, u'acl_available': False, u's3_url': None, u'public': True, u'default_directory': None, u'myproxy_dn': None, u'username': u'go', u'globus_connect_setup_key': None, u'description': None, u'info_link': None, u'in_use': False, u'my_effective_roles': [], u'is_go_storage': False, u'sharing_target_endpoint': None, u'organization': None, u'contact_email': None, u'network_use': u'normal', u'max_concurrency': 4, u'expire_time': u'2016-03-23T19:47:00+00:00', u'acl_editable': False, u'oauth_server': None, u'preferred_concurrency': 2, u'preferred_parallelism': 4, u'host_endpoint': None, u'name': u'ep1', u'max_parallelism': 8, u'is_globus_connect': False, u's3_owner_activated': False, u'shareable': True, u'host_path': None, u'owner_id': u'c699d42e-d274-11e5-bf75-1fc5bf53bb24'}\n"
     ]
    }
   ],
   "source": [
    "endpoint = tc.get_endpoint(tutorial_endpoint1)\n",
    "print(\"HTTP Status: %s\" % endpoint.http_status)\n",
    "print(\"Content Type: %s\" % endpoint.content_type)\n",
    "print(\"Data: %s\" % endpoint.data) # raw response text can be obtained via endpoint.text_body or endpoint.json_body"
   ]
  },
  {
   "cell_type": "markdown",
   "metadata": {},
   "source": [
    "## Handling errors\n",
    "\n",
    "If an error occurs the API will throw an error."
   ]
  },
  {
   "cell_type": "code",
   "execution_count": 6,
   "metadata": {
    "collapsed": false
   },
   "outputs": [
    {
     "name": "stdout",
     "output_type": "stream",
     "text": [
      "HTTP Status: 400\n",
      "HTTP Error: BadRequest\n",
      "HTTP Message: Invalid endpoint name u'kyle#BAD ENDPOINT ID': Invalid characters\n"
     ]
    }
   ],
   "source": [
    "try:\n",
    "    endpoint = tc.get_endpoint(\"BAD ENDPOINT ID\")\n",
    "except Exception as ex:\n",
    "    print(\"HTTP Status: %s\" % ex[0])\n",
    "    print(\"HTTP Error: %s\" % ex[1])\n",
    "    print(\"HTTP Message: %s\" % ex[2])"
   ]
  },
  {
   "cell_type": "markdown",
   "metadata": {},
   "source": [
    "# Endpoint management"
   ]
  },
  {
   "cell_type": "markdown",
   "metadata": {},
   "source": [
    "## Endpoint search by name\n",
    "\n",
    "Globus has over 8000 registered endpoints. To find endpoints of interest you can access powerful search capabilities via the SDK. For example, to search for a given string in a name: "
   ]
  },
  {
   "cell_type": "code",
   "execution_count": 10,
   "metadata": {
    "collapsed": false,
    "scrolled": true
   },
   "outputs": [
    {
     "name": "stdout",
     "output_type": "stream",
     "text": [
      "==== Displaying endpoint matches for search: 'Globus Tutorial Endpoint' ===\n",
      "\n",
      "BlackPearl Demo Endpoint (38a3343a-833c-11e5-9949-22000b96db58)\n",
      "Globus Tutorial Endpoint 1 (ddb59aef-6d04-11e5-ba46-22000b92c6ec)\n",
      "Globus Tutorial Endpoint 2 (ddb59af0-6d04-11e5-ba46-22000b92c6ec)\n",
      "Globus S3 Tutorial Endpoint (cf9bcaa5-6d04-11e5-ba46-22000b92c6ec)\n",
      "Globus Tutorial HTTPS Endpoint Server (30ed71b0-fc1d-11e5-a700-22000bf2d559)\n",
      "None (488cae40-8c78-11e5-996f-22000b96db58)\n"
     ]
    }
   ],
   "source": [
    "search_str = \"Globus Tutorial Endpoint\"\n",
    "endpoints = tc.endpoint_search(search_str)\n",
    "print(\"==== Displaying endpoint matches for search: '%s' ===\\n\"%search_str)\n",
    "for r in endpoints:\n",
    "    print(\"%s (%s)\"%(r.data[\"display_name\"], r.data[\"id\"]))"
   ]
  },
  {
   "cell_type": "markdown",
   "metadata": {},
   "source": [
    "## Restricting search scope with filters\n",
    "\n",
    "There are also a number of default filters to restrict the search for 'my-endpoints', 'my-gcp-endpoints',     'recently-used', 'in-use', 'shared-by-me','shared-with-me') "
   ]
  },
  {
   "cell_type": "code",
   "execution_count": 12,
   "metadata": {
    "collapsed": false
   },
   "outputs": [
    {
     "name": "stdout",
     "output_type": "stream",
     "text": [
      "Globus Tutorial Endpoint 1 (ddb59aef-6d04-11e5-ba46-22000b92c6ec)\n",
      "Globus Tutorial Endpoint 2 (ddb59af0-6d04-11e5-ba46-22000b92c6ec)\n"
     ]
    }
   ],
   "source": [
    "endpoints = tc.endpoint_search(\n",
    "        filter_fulltext=search_str, filter_scope=\"recently-used\")\n",
    "for r in endpoints:\n",
    "    print(\"%s (%s)\"%(r.data[\"display_name\"], r.data[\"id\"]))"
   ]
  },
  {
   "cell_type": "markdown",
   "metadata": {},
   "source": [
    "## Endpoint details\n",
    "\n",
    "You can also retrieve complete information about an endpoing, including name, owner, location, and server configurations. "
   ]
  },
  {
   "cell_type": "code",
   "execution_count": 9,
   "metadata": {
    "collapsed": false
   },
   "outputs": [
    {
     "name": "stdout",
     "output_type": "stream",
     "text": [
      "Display name: Globus Tutorial Endpoint 1\n",
      "Owner: go@globusid.org\n",
      "ID: ddb59aef-6d04-11e5-ba46-22000b92c6ec\n"
     ]
    }
   ],
   "source": [
    "endpoint = tc.get_endpoint(tutorial_endpoint1)\n",
    "print(\"Display name: %s\" % endpoint.data[\"display_name\"])\n",
    "print(\"Owner: %s\" % endpoint.data[\"owner_string\"])\n",
    "print(\"ID: %s\" % endpoint.data[\"id\"])"
   ]
  },
  {
   "cell_type": "markdown",
   "metadata": {},
   "source": [
    "# File operations"
   ]
  },
  {
   "cell_type": "markdown",
   "metadata": {},
   "source": [
    "### Path encoding & UTF gotchas"
   ]
  },
  {
   "cell_type": "code",
   "execution_count": null,
   "metadata": {
    "collapsed": true
   },
   "outputs": [],
   "source": []
  },
  {
   "cell_type": "markdown",
   "metadata": {},
   "source": [
    "### Autoactivate Endpoints\n",
    "Here we activate the tutorial endpoints go#ep1 and go#ep2 using their endpoint_ids"
   ]
  },
  {
   "cell_type": "code",
   "execution_count": 15,
   "metadata": {
    "collapsed": false
   },
   "outputs": [
    {
     "name": "stdout",
     "output_type": "stream",
     "text": [
      "{\n",
      "  \"code\": \"AutoActivated.GlobusOnlineCredential\", \n",
      "  \"resource\": \"/endpoint/ddb59aef-6d04-11e5-ba46-22000b92c6ec/autoactivate\", \n",
      "  \"DATA_TYPE\": \"activation_result\", \n",
      "  \"expires_in\": -1, \n",
      "  \"length\": 0, \n",
      "  \"endpoint\": \"go#ep1\", \n",
      "  \"request_id\": \"Yuu8g95aZ\", \n",
      "  \"expire_time\": \"2016-04-13 14:14:59+00:00\", \n",
      "  \"message\": \"Endpoint activated successfully using Globus Online credentials.\", \n",
      "  \"DATA\": [], \n",
      "  \"oauth_server\": null, \n",
      "  \"subject\": \"/C=US/O=Globus Consortium/OU=Globus Connect User/CN=kyle\"\n",
      "}\n"
     ]
    }
   ],
   "source": [
    "#help(tc.endpoint_activate)\n",
    "ep1 = tc.endpoint_autoactivate(tutorial_endpoint1)\n",
    "ep2 = tc.endpoint_autoactivate(tutorial_endpoint2)\n",
    "print (ep1)"
   ]
  },
  {
   "cell_type": "markdown",
   "metadata": {},
   "source": [
    "## Activating a MyProxy endpoint\n",
    "\n",
    "Not all endpoints can be autoactivated, for example, those that use MyProxy or MyProxy OAuth authentication servers. In these cases you can find out activation requirements, complete the resulting form and return it. "
   ]
  },
  {
   "cell_type": "code",
   "execution_count": 29,
   "metadata": {
    "collapsed": false
   },
   "outputs": [
    {
     "name": "stdout",
     "output_type": "stream",
     "text": [
      "[{u'name': u'public_key', u'DATA_TYPE': u'activation_requirement', u'required': False, u'value': u'-----BEGIN PUBLIC KEY-----\\nMIICIjANBgkqhkiG9w0BAQEFAAOCAg8AMIICCgKCAgEA5VQX1Rr26MFo7cyYAInr\\n+e5w3tMDz9H6R1T5DFGi0PKTKB7OVPdzHnzeP/Bc00BKKNcJrjM57h1PnjkbsY76\\n3GEPlOJUuWCTbzrYhMjreD1pp1BWy7W+pdfjtvNumg2SVTxS0axDUVDaV8mWtqW4\\nMVtmKoCjTKxrhTUP3VZ5q3iA+gzxxxpqX5yrjfSVk+QsPhkPQ8yBAJ32CWJI1riu\\nzz1FvJw7UMqLa8QrSmA01jCJlsEjLxVfrcoYFB1uofBNg0tr7VNfWe7n7Ed0Iksb\\n3faxgNIgr1ta7zQwYd9vhjJh87H0UQmv3Vn9pK3ZCLrqjt8mD8mWLY1HK3z1Mi8L\\nLHTvI4xAwmClmi4qxbWH5iKPezP2zMFeSXKFWt7xz6ZIxYSEt8j0CCb6vJLCm3Wu\\nFd9HiMeXA341ufaK/8m4FlA2aBPuiIN2ULlYC9BvAzmOhkieUgYwET+53IC89vi+\\n60CFd1s1CeRtKSJ3hGso+ztErv6rILBZfZ0Aq2Da8ptqq0JjbmmOW3KYdC+cl3uR\\n9VjFRMHhytp3SVQL9RrAv4Gv8pcu1JHeLp/Y7FG0sr//hISbs/o8Yj0mwoYRfE/r\\nXc9ntErbytIbJGG3wAHQ2dt/+EqpF/v0yDRIUEub4mOrBZKgXVojH8i2uGt/Y8S6\\nG8CZ11hEpf8zHxVKl1rCk3kCAwEAAQ==\\n-----END PUBLIC KEY-----\\n', u'private': False, u'ui_name': u'Server Public Key', u'type': u'delegate_proxy', u'description': u'The public key of the GO API server to use in the proxy certificate for delegation to GO, in PEM format.'}, {u'name': u'proxy_chain', u'DATA_TYPE': u'activation_requirement', u'required': True, u'value': None, u'private': False, u'ui_name': u'Proxy Chain', u'type': u'delegate_proxy', u'description': u'A proxy certificate using the provided public key, in PEM format.'}, {u'name': u'hostname', u'DATA_TYPE': u'activation_requirement', u'required': True, u'value': u'santiago.ncsa.illinois.edu', u'private': False, u'ui_name': u'MyProxy Server', u'type': u'myproxy', u'description': u'The hostname of the MyProxy server to request a credentail from.'}, {u'name': u'username', u'DATA_TYPE': u'activation_requirement', u'required': True, u'value': 'ndsshare', u'private': False, u'ui_name': u'Username', u'type': u'myproxy', u'description': u'The username to use when connecting to the MyProxy serever.'}, {u'name': u'passphrase', u'DATA_TYPE': u'activation_requirement', u'required': True, u'value': 'ncsa16NDS', u'private': True, u'ui_name': u'Passphrase', u'type': u'myproxy', u'description': u'The passphrase to use when connecting to the MyProxy serever.'}, {u'name': u'server_dn', u'DATA_TYPE': u'activation_requirement', u'required': False, u'value': u'/C=US/O=Globus Consortium/OU=Globus Connect Service/CN=a2660d9a-f5fe-11e5-9842-22000b9da45e', u'private': False, u'ui_name': u'Server DN', u'type': u'myproxy', u'description': u\"The distinguished name of the MyProxy server, formated with '/' as the separator. This is only needed if the server uses a non-standard certificate and the hostname does not match.\"}, {u'name': u'lifetime_in_hours', u'DATA_TYPE': u'activation_requirement', u'required': False, u'value': None, u'private': False, u'ui_name': u'Credential Lifetime (hours)', u'type': u'myproxy', u'description': u\"The lifetime for the credential to request from the server, in hours. Depending on the MyProxy server's configuration, this may not be respected if it's too high. If no lifetime is submitted, the value configured as the default on the  server will be used.\"}]\n",
      "{\n",
      "  \"code\": \"AutoActivationFailed\", \n",
      "  \"resource\": \"/endpoint/ndsshare%23NDSShare/autoactivate\", \n",
      "  \"DATA_TYPE\": \"activation_result\", \n",
      "  \"expires_in\": 0, \n",
      "  \"length\": 7, \n",
      "  \"endpoint\": \"ndsshare#NDSShare\", \n",
      "  \"request_id\": \"sl1s5fev1\", \n",
      "  \"expire_time\": null, \n",
      "  \"message\": \"The endpoint could not be auto activated, fill in the returned activation_requirements and POST them back to /activate to perform manual activation.\", \n",
      "  \"DATA\": [\n",
      "    {\n",
      "      \"name\": \"public_key\", \n",
      "      \"DATA_TYPE\": \"activation_requirement\", \n",
      "      \"required\": false, \n",
      "      \"value\": \"-----BEGIN PUBLIC KEY-----\\nMIICIjANBgkqhkiG9w0BAQEFAAOCAg8AMIICCgKCAgEA5VQX1Rr26MFo7cyYAInr\\n+e5w3tMDz9H6R1T5DFGi0PKTKB7OVPdzHnzeP/Bc00BKKNcJrjM57h1PnjkbsY76\\n3GEPlOJUuWCTbzrYhMjreD1pp1BWy7W+pdfjtvNumg2SVTxS0axDUVDaV8mWtqW4\\nMVtmKoCjTKxrhTUP3VZ5q3iA+gzxxxpqX5yrjfSVk+QsPhkPQ8yBAJ32CWJI1riu\\nzz1FvJw7UMqLa8QrSmA01jCJlsEjLxVfrcoYFB1uofBNg0tr7VNfWe7n7Ed0Iksb\\n3faxgNIgr1ta7zQwYd9vhjJh87H0UQmv3Vn9pK3ZCLrqjt8mD8mWLY1HK3z1Mi8L\\nLHTvI4xAwmClmi4qxbWH5iKPezP2zMFeSXKFWt7xz6ZIxYSEt8j0CCb6vJLCm3Wu\\nFd9HiMeXA341ufaK/8m4FlA2aBPuiIN2ULlYC9BvAzmOhkieUgYwET+53IC89vi+\\n60CFd1s1CeRtKSJ3hGso+ztErv6rILBZfZ0Aq2Da8ptqq0JjbmmOW3KYdC+cl3uR\\n9VjFRMHhytp3SVQL9RrAv4Gv8pcu1JHeLp/Y7FG0sr//hISbs/o8Yj0mwoYRfE/r\\nXc9ntErbytIbJGG3wAHQ2dt/+EqpF/v0yDRIUEub4mOrBZKgXVojH8i2uGt/Y8S6\\nG8CZ11hEpf8zHxVKl1rCk3kCAwEAAQ==\\n-----END PUBLIC KEY-----\\n\", \n",
      "      \"private\": false, \n",
      "      \"ui_name\": \"Server Public Key\", \n",
      "      \"type\": \"delegate_proxy\", \n",
      "      \"description\": \"The public key of the GO API server to use in the proxy certificate for delegation to GO, in PEM format.\"\n",
      "    }, \n",
      "    {\n",
      "      \"name\": \"proxy_chain\", \n",
      "      \"DATA_TYPE\": \"activation_requirement\", \n",
      "      \"required\": true, \n",
      "      \"value\": null, \n",
      "      \"private\": false, \n",
      "      \"ui_name\": \"Proxy Chain\", \n",
      "      \"type\": \"delegate_proxy\", \n",
      "      \"description\": \"A proxy certificate using the provided public key, in PEM format.\"\n",
      "    }, \n",
      "    {\n",
      "      \"name\": \"hostname\", \n",
      "      \"DATA_TYPE\": \"activation_requirement\", \n",
      "      \"required\": true, \n",
      "      \"value\": \"santiago.ncsa.illinois.edu\", \n",
      "      \"private\": false, \n",
      "      \"ui_name\": \"MyProxy Server\", \n",
      "      \"type\": \"myproxy\", \n",
      "      \"description\": \"The hostname of the MyProxy server to request a credentail from.\"\n",
      "    }, \n",
      "    {\n",
      "      \"name\": \"username\", \n",
      "      \"DATA_TYPE\": \"activation_requirement\", \n",
      "      \"required\": true, \n",
      "      \"value\": null, \n",
      "      \"private\": false, \n",
      "      \"ui_name\": \"Username\", \n",
      "      \"type\": \"myproxy\", \n",
      "      \"description\": \"The username to use when connecting to the MyProxy serever.\"\n",
      "    }, \n",
      "    {\n",
      "      \"name\": \"passphrase\", \n",
      "      \"DATA_TYPE\": \"activation_requirement\", \n",
      "      \"required\": true, \n",
      "      \"value\": null, \n",
      "      \"private\": true, \n",
      "      \"ui_name\": \"Passphrase\", \n",
      "      \"type\": \"myproxy\", \n",
      "      \"description\": \"The passphrase to use when connecting to the MyProxy serever.\"\n",
      "    }, \n",
      "    {\n",
      "      \"name\": \"server_dn\", \n",
      "      \"DATA_TYPE\": \"activation_requirement\", \n",
      "      \"required\": false, \n",
      "      \"value\": \"/C=US/O=Globus Consortium/OU=Globus Connect Service/CN=a2660d9a-f5fe-11e5-9842-22000b9da45e\", \n",
      "      \"private\": false, \n",
      "      \"ui_name\": \"Server DN\", \n",
      "      \"type\": \"myproxy\", \n",
      "      \"description\": \"The distinguished name of the MyProxy server, formated with '/' as the separator. This is only needed if the server uses a non-standard certificate and the hostname does not match.\"\n",
      "    }, \n",
      "    {\n",
      "      \"name\": \"lifetime_in_hours\", \n",
      "      \"DATA_TYPE\": \"activation_requirement\", \n",
      "      \"required\": false, \n",
      "      \"value\": null, \n",
      "      \"private\": false, \n",
      "      \"ui_name\": \"Credential Lifetime (hours)\", \n",
      "      \"type\": \"myproxy\", \n",
      "      \"description\": \"The lifetime for the credential to request from the server, in hours. Depending on the MyProxy server's configuration, this may not be respected if it's too high. If no lifetime is submitted, the value configured as the default on the  server will be used.\"\n",
      "    }\n",
      "  ], \n",
      "  \"oauth_server\": null, \n",
      "  \"subject\": null\n",
      "}\n"
     ]
    }
   ],
   "source": [
    "activation_ep = tc.endpoint_get_activation_requirements(myproxy_endpoint)\n",
    "\n",
    "requirements = activation_ep.data['DATA']\n",
    "\n",
    "for r in requirements: \n",
    "    if r[\"name\"] == \"username\":\n",
    "        r[\"value\"] = myproxy_username\n",
    "    elif r[\"name\"] == \"passphrase\":\n",
    "        r[\"value\"] = myproxy_password\n",
    "\n",
    "activated_ep = tc.endpoint_activate(myproxy_endpoint, requirements)\n",
    "print(activated_ep)"
   ]
  },
  {
   "cell_type": "markdown",
   "metadata": {},
   "source": [
    "### Get a directory listing"
   ]
  },
  {
   "cell_type": "code",
   "execution_count": null,
   "metadata": {
    "collapsed": false
   },
   "outputs": [],
   "source": [
    "# help(tc.operation_ls)\n",
    "endpoint_id = tutorial_endpoints['go#ep1'] \n",
    "endpoint_path = '/~/shared_dir/'\n",
    "r = tc.operation_ls(endpoint_id,path=endpoint_path)\n",
    "print(\"==== Endpoint_ls for endpoint %s %s ====\"%(endpoint_id,endpoint_path))\n",
    "for item in r.data['DATA']:\n",
    "    print(\"%s: %s [%s]\"%(item['type'],item['name'],item['size']))"
   ]
  },
  {
   "cell_type": "markdown",
   "metadata": {},
   "source": [
    "### Make directory"
   ]
  },
  {
   "cell_type": "code",
   "execution_count": null,
   "metadata": {
    "collapsed": false
   },
   "outputs": [],
   "source": [
    "#help(tc.operation_mkdir)\n",
    "endpoint_id = tutorial_endpoints['go#ep1'] \n",
    "endpoint_path = '/~/shared_dir/new_dir'\n",
    "r = tc.operation_mkdir(endpoint_id,path=endpoint_path)"
   ]
  },
  {
   "cell_type": "markdown",
   "metadata": {},
   "source": [
    "### Rename"
   ]
  },
  {
   "cell_type": "code",
   "execution_count": null,
   "metadata": {
    "collapsed": false
   },
   "outputs": [],
   "source": [
    "#help(tc.operation_rename)\n",
    "endpoint_id = tutorial_endpoints['go#ep1'] \n",
    "endpoint_path = '/~/shared_dir/'\n",
    "tc.operation_rename(endpoint_id, oldpath=\"/~/file1.txt\",\n",
    "                    newpath=\"/~/project1data.txt\")"
   ]
  },
  {
   "cell_type": "markdown",
   "metadata": {},
   "source": [
    "# Deactivating Endpoints\n",
    "\n",
    "After using an endpoint you can deactivate it so that it cannot be used until it is reactivated. "
   ]
  },
  {
   "cell_type": "code",
   "execution_count": 14,
   "metadata": {
    "collapsed": false
   },
   "outputs": [
    {
     "name": "stdout",
     "output_type": "stream",
     "text": [
      "{\n",
      "  \"message\": \"Credentials deleted.\", \n",
      "  \"code\": \"Deactivated\", \n",
      "  \"resource\": \"/endpoint/ddb59aef-6d04-11e5-ba46-22000b92c6ec/deactivate\", \n",
      "  \"DATA_TYPE\": \"result\", \n",
      "  \"request_id\": \"asxhokgI6\"\n",
      "}\n"
     ]
    }
   ],
   "source": [
    "ep_1 = tc.endpoint_deactivate(tutorial_endpoint1)\n",
    "print (ep_1)"
   ]
  },
  {
   "cell_type": "markdown",
   "metadata": {},
   "source": [
    "# Task submission"
   ]
  },
  {
   "cell_type": "markdown",
   "metadata": {},
   "source": [
    "### Transfer w/o sync\n"
   ]
  },
  {
   "cell_type": "code",
   "execution_count": null,
   "metadata": {
    "collapsed": false
   },
   "outputs": [],
   "source": [
    "# help(tc.submit_transfer)\n",
    "source_endpoint_id = tutorial_endpoints['go#ep1']\n",
    "source_path = '/~/shared_dir/'\n",
    "\n",
    "dest_endpoint_id = tutorial_endpoints['go#ep2']\n",
    "dest_path = '/~/'\n",
    "\n",
    "label = \"My tutorial transfer\"\n",
    "\n",
    "transfer_items = []\n",
    "\n",
    "## Recursively transfer source path contents\n",
    "transfer_items.append(\n",
    "    tc.make_submit_transfer_item(source_path,\n",
    "                                 dest_path,\n",
    "                                 recursive=True))\n",
    "## Alternatively, transfer a specific file\n",
    "# transfer_items.append(\n",
    "#     tc.make_submit_transfer_item(\"/source/path/file.txt\",\n",
    "#                                  \"/dest/path/file.txt\"))\n",
    "\n",
    "transfer_data = tc.make_submit_transfer_data(\n",
    "    source_endpoint_id,\n",
    "    dest_endpoint_id,\n",
    "    transfer_items, label=label)\n",
    "transfer_result = tc.submit_transfer(transfer_data)\n",
    "print(\"task_id = \", transfer_result.data[\"task_id\"])"
   ]
  },
  {
   "cell_type": "markdown",
   "metadata": {},
   "source": [
    "# Task management"
   ]
  },
  {
   "cell_type": "markdown",
   "metadata": {},
   "source": [
    "### Get Task By ID"
   ]
  },
  {
   "cell_type": "code",
   "execution_count": null,
   "metadata": {
    "collapsed": true
   },
   "outputs": [],
   "source": [
    "r = tc.get_task(transfer_result.data['task_id'])\n",
    "r.data"
   ]
  },
  {
   "cell_type": "markdown",
   "metadata": {},
   "source": [
    "### Get task_list"
   ]
  },
  {
   "cell_type": "code",
   "execution_count": null,
   "metadata": {
    "collapsed": false
   },
   "outputs": [],
   "source": [
    "# help(tc.task_list)\n",
    "r = tc.task_list()\n",
    "for i,item in enumerate(r):\n",
    "    print(item.data)\n",
    "    if r > 10:\n",
    "        break"
   ]
  },
  {
   "cell_type": "markdown",
   "metadata": {},
   "source": [
    "### Update task by id (label, deadline)"
   ]
  },
  {
   "cell_type": "code",
   "execution_count": null,
   "metadata": {
    "collapsed": true
   },
   "outputs": [],
   "source": [
    "help(tc.update_task)"
   ]
  },
  {
   "cell_type": "markdown",
   "metadata": {},
   "source": [
    "### Cancel task by id"
   ]
  },
  {
   "cell_type": "code",
   "execution_count": null,
   "metadata": {
    "collapsed": false
   },
   "outputs": [],
   "source": [
    "help(tc.cancel_task)"
   ]
  },
  {
   "cell_type": "markdown",
   "metadata": {},
   "source": [
    "### Get event list for task"
   ]
  },
  {
   "cell_type": "code",
   "execution_count": null,
   "metadata": {
    "collapsed": true
   },
   "outputs": [],
   "source": []
  },
  {
   "cell_type": "markdown",
   "metadata": {},
   "source": [
    "### Get task pause info"
   ]
  },
  {
   "cell_type": "code",
   "execution_count": null,
   "metadata": {
    "collapsed": true
   },
   "outputs": [],
   "source": []
  },
  {
   "cell_type": "markdown",
   "metadata": {},
   "source": [
    "# Bookmarks"
   ]
  },
  {
   "cell_type": "markdown",
   "metadata": {},
   "source": [
    "# Create a Bookmark"
   ]
  },
  {
   "cell_type": "code",
   "execution_count": null,
   "metadata": {
    "collapsed": false
   },
   "outputs": [],
   "source": [
    "bookmark_name = \"My Tutorial Bookmark\"\n",
    "endpoint_id = tutorial_endpoints['go#ep1']\n",
    "endpoint_path = '/'\n",
    "r = tc.create_bookmark({\"endpoint_id\":endpoint_id, \"path\":endpoint_path,\"name\":bookmark_name})\n",
    "r"
   ]
  },
  {
   "cell_type": "markdown",
   "metadata": {},
   "source": [
    "# Delete a Bookmark"
   ]
  },
  {
   "cell_type": "code",
   "execution_count": null,
   "metadata": {
    "collapsed": false
   },
   "outputs": [],
   "source": [
    "tc.delete_bookmark(r.data['id'])"
   ]
  },
  {
   "cell_type": "markdown",
   "metadata": {},
   "source": [
    "### CRUD + list"
   ]
  },
  {
   "cell_type": "code",
   "execution_count": null,
   "metadata": {
    "collapsed": true
   },
   "outputs": [],
   "source": []
  },
  {
   "cell_type": "markdown",
   "metadata": {},
   "source": [
    "# Shared endpoints"
   ]
  },
  {
   "cell_type": "markdown",
   "metadata": {},
   "source": [
    "### Access_manager role"
   ]
  },
  {
   "cell_type": "code",
   "execution_count": null,
   "metadata": {
    "collapsed": true
   },
   "outputs": [],
   "source": []
  },
  {
   "cell_type": "markdown",
   "metadata": {},
   "source": [
    "### Get list off access rules"
   ]
  },
  {
   "cell_type": "code",
   "execution_count": null,
   "metadata": {
    "collapsed": true
   },
   "outputs": [],
   "source": []
  },
  {
   "cell_type": "markdown",
   "metadata": {},
   "source": [
    "### Get access rule by id"
   ]
  },
  {
   "cell_type": "code",
   "execution_count": null,
   "metadata": {
    "collapsed": true
   },
   "outputs": [],
   "source": []
  },
  {
   "cell_type": "markdown",
   "metadata": {},
   "source": [
    "### Create access rule"
   ]
  },
  {
   "cell_type": "code",
   "execution_count": null,
   "metadata": {
    "collapsed": true
   },
   "outputs": [],
   "source": []
  },
  {
   "cell_type": "markdown",
   "metadata": {},
   "source": [
    "### Update access rule"
   ]
  },
  {
   "cell_type": "code",
   "execution_count": null,
   "metadata": {
    "collapsed": true
   },
   "outputs": [],
   "source": []
  },
  {
   "cell_type": "markdown",
   "metadata": {},
   "source": [
    "### Delete access rule"
   ]
  },
  {
   "cell_type": "code",
   "execution_count": null,
   "metadata": {
    "collapsed": true
   },
   "outputs": [],
   "source": []
  }
 ],
 "metadata": {
  "kernelspec": {
   "display_name": "Python 2",
   "language": "python",
   "name": "python2"
  },
  "language_info": {
   "codemirror_mode": {
    "name": "ipython",
    "version": 2
   },
   "file_extension": ".py",
   "mimetype": "text/x-python",
   "name": "python",
   "nbconvert_exporter": "python",
   "pygments_lexer": "ipython2",
   "version": "2.7.6"
  }
 },
 "nbformat": 4,
 "nbformat_minor": 0
}
