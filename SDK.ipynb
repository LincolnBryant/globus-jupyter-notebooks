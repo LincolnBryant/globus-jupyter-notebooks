{
 "cells": [
  {
   "cell_type": "markdown",
   "metadata": {},
   "source": [
    "<img src=\"./img/header.png\">\n",
    "# Globus SDK\n",
    "https://github.com/globusonline/globus-sdk-python\n",
    "\n",
    "\n",
    "# Globus SDK Docs\n",
    "http://globusonline.github.io/globus-sdk-python/\n",
    "\n",
    "\n",
    "# Globus CLI\n",
    "https://github.com/globusonline/globus-cli\n",
    "\n",
    "### Some endpoints and associated endpoint IDs for the tutorial\n",
    "go#ep1: ddb59aef-6d04-11e5-ba46-22000b92c6ec <br>\n",
    "go#ep2: ddb59af0-6d04-11e5-ba46-22000b92c6ec\n"
   ]
  },
  {
   "cell_type": "code",
   "execution_count": null,
   "metadata": {
    "collapsed": true
   },
   "outputs": [],
   "source": [
    "from __future__ import print_function # for python 2\n",
    "from globus_sdk import TransferClient\n",
    "\n",
    "tutorial_endpoints = {\"go#ep1\":\"ddb59aef-6d04-11e5-ba46-22000b92c6ec\",\n",
    "                       \"go#ep2\":\"ddb59af0-6d04-11e5-ba46-22000b92c6ec\"}"
   ]
  },
  {
   "cell_type": "markdown",
   "metadata": {},
   "source": [
    "# Transfer Client"
   ]
  },
  {
   "cell_type": "markdown",
   "metadata": {},
   "source": [
    "## Instantiate Transfer Client"
   ]
  },
  {
   "cell_type": "code",
   "execution_count": null,
   "metadata": {
    "collapsed": true
   },
   "outputs": [],
   "source": [
    "tc = TransferClient() # uses transfer_token from the config file"
   ]
  },
  {
   "cell_type": "markdown",
   "metadata": {},
   "source": [
    "## Low-level Interface"
   ]
  },
  {
   "cell_type": "code",
   "execution_count": null,
   "metadata": {
    "collapsed": false
   },
   "outputs": [],
   "source": [
    "print(\"==== My Endpoints ====\")\n",
    "r = tc.get(\"/endpoint_search?filter_scope=my-endpoints\")\n",
    "for epdict in r.data[\"DATA\"]:\n",
    "    print(\"Display Name:%s\\nID:%s\\n\"%(epdict[\"display_name\"], epdict[\"id\"]))"
   ]
  },
  {
   "cell_type": "markdown",
   "metadata": {},
   "source": [
    "## High-level Interface\n",
    "provides iterators for list responses"
   ]
  },
  {
   "cell_type": "code",
   "execution_count": null,
   "metadata": {
    "collapsed": false
   },
   "outputs": [],
   "source": [
    "print(\"==== My Endpoints ====\")\n",
    "for r in tc.endpoint_search(filter_scope='my-endpoints'):\n",
    "    print(\"Display Name:%s\\nID:%s\\n\"%(r.data[\"display_name\"], r.data[\"id\"]))"
   ]
  },
  {
   "cell_type": "markdown",
   "metadata": {},
   "source": [
    "## Endpoint search by name"
   ]
  },
  {
   "cell_type": "code",
   "execution_count": null,
   "metadata": {
    "collapsed": false
   },
   "outputs": [],
   "source": [
    "search_str = \"go#ep2\"\n",
    "print(\"==== Displaying endpoint matches for search: '%s' ====\"%search_str)\n",
    "for r in tc.endpoint_search(search_str):\n",
    "    print(\"Display Name:%s\\nID:%s\\n\"%(r.data[\"display_name\"], r.data[\"id\"]))"
   ]
  },
  {
   "cell_type": "markdown",
   "metadata": {},
   "source": [
    "# File operations"
   ]
  },
  {
   "cell_type": "markdown",
   "metadata": {},
   "source": [
    "### Path encoding & UTF gotchas"
   ]
  },
  {
   "cell_type": "code",
   "execution_count": null,
   "metadata": {
    "collapsed": true
   },
   "outputs": [],
   "source": []
  },
  {
   "cell_type": "markdown",
   "metadata": {},
   "source": [
    "### Autoactivate Endpoints\n",
    "Here we activate the tutorial endpoints go#ep1 and go#ep2 using their endpoint_ids"
   ]
  },
  {
   "cell_type": "code",
   "execution_count": null,
   "metadata": {
    "collapsed": false
   },
   "outputs": [],
   "source": [
    "#help(tc.endpoint_activate)\n",
    "r_go1 = tc.endpoint_autoactivate(tutorial_endpoints['go#ep1'])\n",
    "r_go2 = tc.endpoint_autoactivate(tutorial_endpoints['go#ep2'])"
   ]
  },
  {
   "cell_type": "markdown",
   "metadata": {},
   "source": [
    "### Get a directory listing"
   ]
  },
  {
   "cell_type": "code",
   "execution_count": null,
   "metadata": {
    "collapsed": false
   },
   "outputs": [],
   "source": [
    "# help(tc.operation_ls)\n",
    "endpoint_id = tutorial_endpoints['go#ep1'] \n",
    "endpoint_path = '/~/shared_dir/'\n",
    "r = tc.operation_ls(endpoint_id,path=endpoint_path)\n",
    "print(\"==== Endpoint_ls for endpoint %s %s ====\"%(endpoint_id,endpoint_path))\n",
    "for item in r.data['DATA']:\n",
    "    print(\"%s: %s [%s]\"%(item['type'],item['name'],item['size']))"
   ]
  },
  {
   "cell_type": "markdown",
   "metadata": {},
   "source": [
    "### Make directory"
   ]
  },
  {
   "cell_type": "code",
   "execution_count": null,
   "metadata": {
    "collapsed": false
   },
   "outputs": [],
   "source": [
    "#help(tc.operation_mkdir)\n",
    "endpoint_id = tutorial_endpoints['go#ep1'] \n",
    "endpoint_path = '/~/shared_dir/new_dir'\n",
    "r = tc.operation_mkdir(endpoint_id,path=endpoint_path)"
   ]
  },
  {
   "cell_type": "markdown",
   "metadata": {},
   "source": [
    "### Rename"
   ]
  },
  {
   "cell_type": "code",
   "execution_count": null,
   "metadata": {
    "collapsed": false
   },
   "outputs": [],
   "source": [
    "help(tc.operation_rename)"
   ]
  },
  {
   "cell_type": "markdown",
   "metadata": {},
   "source": [
    "# Task submission"
   ]
  },
  {
   "cell_type": "markdown",
   "metadata": {},
   "source": [
    "### Transfer w/ and w/o sync\n",
    "Doesn't work yet..."
   ]
  },
  {
   "cell_type": "code",
   "execution_count": null,
   "metadata": {
    "collapsed": false
   },
   "outputs": [],
   "source": [
    "help(tc.submit_transfer)\n",
    "source_endpoint = tutorial_endpoints['go#ep1']\n",
    "source_path = '/~/shared_dir/'\n",
    "\n",
    "dest_endpoint = tutorial_endpoints['go#ep2']\n",
    "dest_path = '/~/'\n",
    "\n",
    "label = \"My tutorial transfer\"\n",
    "\n",
    "transfer_items = tc.make_submit_transfer_item()\n",
    "\n",
    "#tc.make_submit_transfer_data(source_endpoint, dest_endpoint, label)"
   ]
  },
  {
   "cell_type": "markdown",
   "metadata": {},
   "source": [
    "### Delete"
   ]
  },
  {
   "cell_type": "code",
   "execution_count": null,
   "metadata": {
    "collapsed": true
   },
   "outputs": [],
   "source": []
  },
  {
   "cell_type": "markdown",
   "metadata": {},
   "source": [
    "# Task management"
   ]
  },
  {
   "cell_type": "markdown",
   "metadata": {},
   "source": [
    "### Get task_list"
   ]
  },
  {
   "cell_type": "markdown",
   "metadata": {},
   "source": [
    "### Get task by id"
   ]
  },
  {
   "cell_type": "code",
   "execution_count": null,
   "metadata": {
    "collapsed": false
   },
   "outputs": [],
   "source": [
    "help(tc.get_task)"
   ]
  },
  {
   "cell_type": "markdown",
   "metadata": {},
   "source": [
    "### Update task by id (label, deadline)"
   ]
  },
  {
   "cell_type": "code",
   "execution_count": null,
   "metadata": {
    "collapsed": true
   },
   "outputs": [],
   "source": [
    "help(tc.update_task)"
   ]
  },
  {
   "cell_type": "markdown",
   "metadata": {},
   "source": [
    "### Cancel task by id"
   ]
  },
  {
   "cell_type": "code",
   "execution_count": null,
   "metadata": {
    "collapsed": false
   },
   "outputs": [],
   "source": [
    "help(tc.cancel_task)"
   ]
  },
  {
   "cell_type": "markdown",
   "metadata": {},
   "source": [
    "### Get event list for task"
   ]
  },
  {
   "cell_type": "code",
   "execution_count": null,
   "metadata": {
    "collapsed": true
   },
   "outputs": [],
   "source": []
  },
  {
   "cell_type": "markdown",
   "metadata": {},
   "source": [
    "### Get task pause info"
   ]
  },
  {
   "cell_type": "code",
   "execution_count": null,
   "metadata": {
    "collapsed": true
   },
   "outputs": [],
   "source": []
  },
  {
   "cell_type": "markdown",
   "metadata": {},
   "source": [
    "# Bookmarks"
   ]
  },
  {
   "cell_type": "markdown",
   "metadata": {},
   "source": [
    "# Create a Bookmark"
   ]
  },
  {
   "cell_type": "code",
   "execution_count": null,
   "metadata": {
    "collapsed": false
   },
   "outputs": [],
   "source": [
    "bookmark_name = \"My Tutorial Bookmark\"\n",
    "endpoint_id = tutorial_endpoints['go#ep1']\n",
    "endpoint_path = '/'\n",
    "r = tc.create_bookmark({\"endpoint_id\":endpoint_id, \"path\":endpoint_path,\"name\":bookmark_name})\n",
    "r"
   ]
  },
  {
   "cell_type": "markdown",
   "metadata": {},
   "source": [
    "# Delete a Bookmark"
   ]
  },
  {
   "cell_type": "code",
   "execution_count": null,
   "metadata": {
    "collapsed": false
   },
   "outputs": [],
   "source": [
    "tc.delete_bookmark(r.data['id'])"
   ]
  },
  {
   "cell_type": "markdown",
   "metadata": {},
   "source": [
    "### CRUD + list"
   ]
  },
  {
   "cell_type": "code",
   "execution_count": null,
   "metadata": {
    "collapsed": true
   },
   "outputs": [],
   "source": []
  },
  {
   "cell_type": "markdown",
   "metadata": {},
   "source": [
    "# Shared endpoints"
   ]
  },
  {
   "cell_type": "markdown",
   "metadata": {},
   "source": [
    "### Access_manager role"
   ]
  },
  {
   "cell_type": "code",
   "execution_count": null,
   "metadata": {
    "collapsed": true
   },
   "outputs": [],
   "source": []
  },
  {
   "cell_type": "markdown",
   "metadata": {},
   "source": [
    "### Get list off access rules"
   ]
  },
  {
   "cell_type": "code",
   "execution_count": null,
   "metadata": {
    "collapsed": true
   },
   "outputs": [],
   "source": []
  },
  {
   "cell_type": "markdown",
   "metadata": {},
   "source": [
    "### Get access rule by id"
   ]
  },
  {
   "cell_type": "code",
   "execution_count": null,
   "metadata": {
    "collapsed": true
   },
   "outputs": [],
   "source": []
  },
  {
   "cell_type": "markdown",
   "metadata": {},
   "source": [
    "### Create access rule"
   ]
  },
  {
   "cell_type": "code",
   "execution_count": null,
   "metadata": {
    "collapsed": true
   },
   "outputs": [],
   "source": []
  },
  {
   "cell_type": "markdown",
   "metadata": {},
   "source": [
    "### Update access rule"
   ]
  },
  {
   "cell_type": "code",
   "execution_count": null,
   "metadata": {
    "collapsed": true
   },
   "outputs": [],
   "source": []
  },
  {
   "cell_type": "markdown",
   "metadata": {},
   "source": [
    "### Delete access rule"
   ]
  },
  {
   "cell_type": "code",
   "execution_count": null,
   "metadata": {
    "collapsed": true
   },
   "outputs": [],
   "source": []
  }
 ],
 "metadata": {
  "kernelspec": {
   "display_name": "Python 2",
   "language": "python",
   "name": "python2"
  },
  "language_info": {
   "codemirror_mode": {
    "name": "ipython",
    "version": 2
   },
   "file_extension": ".py",
   "mimetype": "text/x-python",
   "name": "python",
   "nbconvert_exporter": "python",
   "pygments_lexer": "ipython2",
   "version": "2.7.10"
  }
 },
 "nbformat": 4,
 "nbformat_minor": 0
}
