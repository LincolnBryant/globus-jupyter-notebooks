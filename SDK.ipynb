{
 "cells": [
  {
   "cell_type": "markdown",
   "metadata": {},
   "source": [
    "<img src=\"./img/header.png\">\n",
    "# Globus SDK\n",
    "https://github.com/globusonline/globus-sdk-python\n",
    "\n",
    "\n",
    "# Globus SDK Docs\n",
    "http://globusonline.github.io/globus-sdk-python/\n",
    "\n",
    "\n",
    "# Globus CLI\n",
    "https://github.com/globusonline/globus-cli\n",
    "\n",
    "# Requirements\n",
    "- You need to be in the tutorial users group for sharing\n",
    "- Installed Globus Python SDK"
   ]
  },
  {
   "cell_type": "code",
   "execution_count": 19,
   "metadata": {
    "collapsed": true
   },
   "outputs": [],
   "source": [
    "from __future__ import print_function # for python 2\n",
    "from globus_sdk import TransferClient\n",
    "\n",
    "tutorial_endpoint1 = \"ddb59aef-6d04-11e5-ba46-22000b92c6ec\"\n",
    "tutorial_endpoint2 = \"ddb59af0-6d04-11e5-ba46-22000b92c6ec\""
   ]
  },
  {
   "cell_type": "markdown",
   "metadata": {},
   "source": [
    "# Configuration\n",
    "First you will need to configure the client with your access credentials. You can obtain OAuth2 access tokens via the tokens.globus.org website."
   ]
  },
  {
   "cell_type": "code",
   "execution_count": 5,
   "metadata": {
    "collapsed": true
   },
   "outputs": [],
   "source": [
    "auth_token = ''\n",
    "transfer_token = ''"
   ]
  },
  {
   "cell_type": "markdown",
   "metadata": {},
   "source": [
    "# Transfer Client"
   ]
  },
  {
   "cell_type": "markdown",
   "metadata": {},
   "source": [
    "## Instantiate Transfer Client"
   ]
  },
  {
   "cell_type": "code",
   "execution_count": 31,
   "metadata": {
    "collapsed": true
   },
   "outputs": [],
   "source": [
    "tc = TransferClient(token=transfer_token) "
   ]
  },
  {
   "cell_type": "markdown",
   "metadata": {},
   "source": [
    "The transfer client makes REST resources avaialble via easy to use methods. \n",
    "\n",
    "The response from these methods wraps the HTTP response status, content type, text and JSON response body. "
   ]
  },
  {
   "cell_type": "code",
   "execution_count": 44,
   "metadata": {
    "collapsed": false
   },
   "outputs": [
    {
     "name": "stdout",
     "output_type": "stream",
     "text": [
      "HTTP Status: 200\n",
      "Content Type: application/json\n",
      "JSON: {u'DATA_TYPE': u'endpoint', u'contact_info': None, u'https_server': None, u'activated': False, u'disable_verify': False, u'host_endpoint_display_name': None, u'myproxy_server': u'myproxy.globusonline.org', u'keywords': None, u'sharing_target_root_path': None, u'DATA': [{u'is_paused': False, u'DATA_TYPE': u'server', u'hostname': u'ep1.transfer.globus.org', u'uri': u'gsiftp://ep1.transfer.globus.org:2811', u'port': 2811, u'scheme': u'gsiftp', u'is_connected': True, u'id': 207976, u'subject': None}], u'id': u'ddb59aef-6d04-11e5-ba46-22000b92c6ec', u'display_name': u'Globus Tutorial Endpoint 1', u'gcp_connected': None, u'owner_string': u'go@globusid.org', u'expires_in': -1, u'gcp_paused': None, u'subscription_id': u'964be8f5-5f9b-11e4-b64e-12313940394d', u'canonical_name': u'go#ep1', u'location': u'Automatic', u'host_endpoint_id': None, u'force_encryption': False, u'department': None, u'acl_available': False, u's3_url': None, u'public': True, u'default_directory': None, u'myproxy_dn': None, u'username': u'go', u'globus_connect_setup_key': None, u'description': None, u'info_link': None, u'in_use': False, u'my_effective_roles': [], u'is_go_storage': False, u'sharing_target_endpoint': None, u'organization': None, u'contact_email': None, u'network_use': u'normal', u'max_concurrency': 4, u'expire_time': u'2016-03-23T19:47:00+00:00', u'acl_editable': False, u'oauth_server': None, u'preferred_concurrency': 2, u'preferred_parallelism': 4, u'host_endpoint': None, u'name': u'ep1', u'max_parallelism': 8, u'is_globus_connect': False, u's3_owner_activated': False, u'shareable': True, u'host_path': None, u'owner_id': u'c699d42e-d274-11e5-bf75-1fc5bf53bb24'}\n"
     ]
    }
   ],
   "source": [
    "endpoint = tc.get_endpoint(tutorial_endpoint1)\n",
    "print(\"HTTP Status: %s\" % endpoint.http_status)\n",
    "print(\"Content Type: %s\" % endpoint.content_type)\n",
    "print(\"Data: %s\" % endpoint.data) # raw response text can be obtained via endpoint.text_body or endpoint.json_body"
   ]
  },
  {
   "cell_type": "markdown",
   "metadata": {},
   "source": [
    "If an error occurs the API will throw an error."
   ]
  },
  {
   "cell_type": "code",
   "execution_count": 43,
   "metadata": {
    "collapsed": false
   },
   "outputs": [
    {
     "name": "stdout",
     "output_type": "stream",
     "text": [
      "HTTP Status: 400\n",
      "HTTP Error: BadRequest\n",
      "HTTP Message: Invalid endpoint name u'kyle#BAD ENDPOINT ID': Invalid characters\n"
     ]
    }
   ],
   "source": [
    "try:\n",
    "    endpoint = tc.get_endpoint(\"BAD ENDPOINT ID\")\n",
    "except Exception as ex:\n",
    "    print(\"HTTP Status: %s\" % ex[0])\n",
    "    print(\"HTTP Error: %s\" % ex[1])\n",
    "    print(\"HTTP Message: %s\" % ex[2])"
   ]
  },
  {
   "cell_type": "markdown",
   "metadata": {},
   "source": [
    "# Endpoint management"
   ]
  },
  {
   "cell_type": "markdown",
   "metadata": {},
   "source": [
    "## Endpoint search by name"
   ]
  },
  {
   "cell_type": "code",
   "execution_count": 11,
   "metadata": {
    "collapsed": false,
    "scrolled": true
   },
   "outputs": [
    {
     "name": "stdout",
     "output_type": "stream",
     "text": [
      "==== Displaying endpoint matches for search: 'Globus Tutorial Endpoint' ===\n",
      "\n",
      "BlackPearl Demo Endpoint (38a3343a-833c-11e5-9949-22000b96db58)\n",
      "Globus Tutorial Endpoint 1 (ddb59aef-6d04-11e5-ba46-22000b92c6ec)\n",
      "Globus Tutorial Endpoint 2 (ddb59af0-6d04-11e5-ba46-22000b92c6ec)\n",
      "Globus S3 Tutorial Endpoint (cf9bcaa5-6d04-11e5-ba46-22000b92c6ec)\n",
      "Globus Tutorial HTTPS Endpoint Server (30ed71b0-fc1d-11e5-a700-22000bf2d559)\n",
      "None (488cae40-8c78-11e5-996f-22000b96db58)\n"
     ]
    }
   ],
   "source": [
    "search_str = \"Globus Tutorial Endpoint\"\n",
    "endpoints = tc.endpoint_search(search_str)\n",
    "print(\"==== Displaying endpoint matches for search: '%s' ===\\n\"%search_str)\n",
    "for r in endpoints:\n",
    "    print(\"%s (%s)\"%(r.data[\"display_name\"], r.data[\"id\"]))"
   ]
  },
  {
   "cell_type": "markdown",
   "metadata": {},
   "source": [
    "# File operations"
   ]
  },
  {
   "cell_type": "markdown",
   "metadata": {},
   "source": [
    "### Path encoding & UTF gotchas"
   ]
  },
  {
   "cell_type": "code",
   "execution_count": null,
   "metadata": {
    "collapsed": true
   },
   "outputs": [],
   "source": []
  },
  {
   "cell_type": "markdown",
   "metadata": {},
   "source": [
    "### Autoactivate Endpoints\n",
    "Here we activate the tutorial endpoints go#ep1 and go#ep2 using their endpoint_ids"
   ]
  },
  {
   "cell_type": "code",
   "execution_count": 8,
   "metadata": {
    "collapsed": false
   },
   "outputs": [
    {
     "name": "stderr",
     "output_type": "stream",
     "text": [
      "/usr/local/lib/python2.7/dist-packages/requests/packages/urllib3/util/ssl_.py:120: InsecurePlatformWarning: A true SSLContext object is not available. This prevents urllib3 from configuring SSL appropriately and may cause certain SSL connections to fail. For more information, see https://urllib3.readthedocs.org/en/latest/security.html#insecureplatformwarning.\n",
      "  InsecurePlatformWarning\n"
     ]
    }
   ],
   "source": [
    "#help(tc.endpoint_activate)\n",
    "r_go1 = tc.endpoint_autoactivate(tutorial_endpoints['go#ep1'])\n",
    "r_go2 = tc.endpoint_autoactivate(tutorial_endpoints['go#ep2'])"
   ]
  },
  {
   "cell_type": "markdown",
   "metadata": {},
   "source": [
    "### Get a directory listing"
   ]
  },
  {
   "cell_type": "code",
   "execution_count": 7,
   "metadata": {
    "collapsed": false
   },
   "outputs": [
    {
     "name": "stdout",
     "output_type": "stream",
     "text": [
      "==== Endpoint_ls for endpoint ddb59aef-6d04-11e5-ba46-22000b92c6ec /~/shared_dir/ ====\n",
      "dir: new_dir [4096]\n",
      "file: Ag-microparticles.TIF [1384141]\n",
      "file: ConductivityRestoration.png [4499617]\n",
      "file: CuSn_battery_electrode-before.mov [3702784]\n"
     ]
    }
   ],
   "source": [
    "# help(tc.operation_ls)\n",
    "endpoint_id = tutorial_endpoints['go#ep1'] \n",
    "endpoint_path = '/~/shared_dir/'\n",
    "r = tc.operation_ls(endpoint_id,path=endpoint_path)\n",
    "print(\"==== Endpoint_ls for endpoint %s %s ====\"%(endpoint_id,endpoint_path))\n",
    "for item in r.data['DATA']:\n",
    "    print(\"%s: %s [%s]\"%(item['type'],item['name'],item['size']))"
   ]
  },
  {
   "cell_type": "markdown",
   "metadata": {},
   "source": [
    "### Make directory"
   ]
  },
  {
   "cell_type": "code",
   "execution_count": null,
   "metadata": {
    "collapsed": false
   },
   "outputs": [],
   "source": [
    "#help(tc.operation_mkdir)\n",
    "endpoint_id = tutorial_endpoints['go#ep1'] \n",
    "endpoint_path = '/~/shared_dir/new_dir'\n",
    "r = tc.operation_mkdir(endpoint_id,path=endpoint_path)"
   ]
  },
  {
   "cell_type": "markdown",
   "metadata": {},
   "source": [
    "### Rename"
   ]
  },
  {
   "cell_type": "code",
   "execution_count": 9,
   "metadata": {
    "collapsed": false
   },
   "outputs": [
    {
     "name": "stderr",
     "output_type": "stream",
     "text": [
      "/usr/local/lib/python2.7/dist-packages/requests/packages/urllib3/util/ssl_.py:120: InsecurePlatformWarning: A true SSLContext object is not available. This prevents urllib3 from configuring SSL appropriately and may cause certain SSL connections to fail. For more information, see https://urllib3.readthedocs.org/en/latest/security.html#insecureplatformwarning.\n",
      "  InsecurePlatformWarning\n"
     ]
    },
    {
     "ename": "TransferAPIError",
     "evalue": "(404, u'NotFound', u\"Path not found, Error: The source path '~/file1.txt' does not exist\\n\", u'Qmf4STw25')",
     "output_type": "error",
     "traceback": [
      "\u001b[1;31m---------------------------------------------------------------------------\u001b[0m",
      "\u001b[1;31mTransferAPIError\u001b[0m                          Traceback (most recent call last)",
      "\u001b[1;32m<ipython-input-9-36d9eae7080f>\u001b[0m in \u001b[0;36m<module>\u001b[1;34m()\u001b[0m\n\u001b[0;32m      3\u001b[0m \u001b[0mendpoint_path\u001b[0m \u001b[1;33m=\u001b[0m \u001b[1;34m'/~/shared_dir/'\u001b[0m\u001b[1;33m\u001b[0m\u001b[0m\n\u001b[0;32m      4\u001b[0m tc.operation_rename(endpoint_id, oldpath=\"/~/file1.txt\",\n\u001b[1;32m----> 5\u001b[1;33m                     newpath=\"/~/project1data.txt\")\n\u001b[0m",
      "\u001b[1;32m/usr/local/lib/python2.7/dist-packages/globus_sdk/transfer/client.pyc\u001b[0m in \u001b[0;36moperation_rename\u001b[1;34m(self, endpoint_id, oldpath, newpath, **params)\u001b[0m\n\u001b[0;32m    455\u001b[0m             \u001b[1;34m'new_path'\u001b[0m\u001b[1;33m:\u001b[0m \u001b[0mnewpath\u001b[0m\u001b[1;33m\u001b[0m\u001b[0m\n\u001b[0;32m    456\u001b[0m         }\n\u001b[1;32m--> 457\u001b[1;33m         \u001b[1;32mreturn\u001b[0m \u001b[0mself\u001b[0m\u001b[1;33m.\u001b[0m\u001b[0mpost\u001b[0m\u001b[1;33m(\u001b[0m\u001b[0mresource_path\u001b[0m\u001b[1;33m,\u001b[0m \u001b[0mjson_body\u001b[0m\u001b[1;33m=\u001b[0m\u001b[0mjson_body\u001b[0m\u001b[1;33m,\u001b[0m \u001b[0mparams\u001b[0m\u001b[1;33m=\u001b[0m\u001b[0mparams\u001b[0m\u001b[1;33m)\u001b[0m\u001b[1;33m\u001b[0m\u001b[0m\n\u001b[0m\u001b[0;32m    458\u001b[0m \u001b[1;33m\u001b[0m\u001b[0m\n\u001b[0;32m    459\u001b[0m     \u001b[1;31m#\u001b[0m\u001b[1;33m\u001b[0m\u001b[1;33m\u001b[0m\u001b[0m\n",
      "\u001b[1;32m/usr/local/lib/python2.7/dist-packages/globus_sdk/base.pyc\u001b[0m in \u001b[0;36mpost\u001b[1;34m(self, path, json_body, params, headers, text_body, auth)\u001b[0m\n\u001b[0;32m    128\u001b[0m         \"\"\"\n\u001b[0;32m    129\u001b[0m         return self._request(\"POST\", path, json_body=json_body, params=params,\n\u001b[1;32m--> 130\u001b[1;33m                              headers=headers, text_body=text_body, auth=auth)\n\u001b[0m\u001b[0;32m    131\u001b[0m \u001b[1;33m\u001b[0m\u001b[0m\n\u001b[0;32m    132\u001b[0m     \u001b[1;32mdef\u001b[0m \u001b[0mdelete\u001b[0m\u001b[1;33m(\u001b[0m\u001b[0mself\u001b[0m\u001b[1;33m,\u001b[0m \u001b[0mpath\u001b[0m\u001b[1;33m,\u001b[0m \u001b[0mparams\u001b[0m\u001b[1;33m=\u001b[0m\u001b[0mNone\u001b[0m\u001b[1;33m,\u001b[0m \u001b[0mheaders\u001b[0m\u001b[1;33m=\u001b[0m\u001b[0mNone\u001b[0m\u001b[1;33m,\u001b[0m \u001b[0mauth\u001b[0m\u001b[1;33m=\u001b[0m\u001b[0mNone\u001b[0m\u001b[1;33m)\u001b[0m\u001b[1;33m:\u001b[0m\u001b[1;33m\u001b[0m\u001b[0m\n",
      "\u001b[1;32m/usr/local/lib/python2.7/dist-packages/globus_sdk/base.pyc\u001b[0m in \u001b[0;36m_request\u001b[1;34m(self, method, path, params, headers, json_body, text_body, auth)\u001b[0m\n\u001b[0;32m    181\u001b[0m         \u001b[1;32mif\u001b[0m \u001b[1;36m200\u001b[0m \u001b[1;33m<=\u001b[0m \u001b[0mr\u001b[0m\u001b[1;33m.\u001b[0m\u001b[0mstatus_code\u001b[0m \u001b[1;33m<\u001b[0m \u001b[1;36m400\u001b[0m\u001b[1;33m:\u001b[0m\u001b[1;33m\u001b[0m\u001b[0m\n\u001b[0;32m    182\u001b[0m             \u001b[1;32mreturn\u001b[0m \u001b[0mself\u001b[0m\u001b[1;33m.\u001b[0m\u001b[0mresponse_class\u001b[0m\u001b[1;33m(\u001b[0m\u001b[0mr\u001b[0m\u001b[1;33m)\u001b[0m\u001b[1;33m\u001b[0m\u001b[0m\n\u001b[1;32m--> 183\u001b[1;33m         \u001b[1;32mraise\u001b[0m \u001b[0mself\u001b[0m\u001b[1;33m.\u001b[0m\u001b[0merror_class\u001b[0m\u001b[1;33m(\u001b[0m\u001b[0mr\u001b[0m\u001b[1;33m)\u001b[0m\u001b[1;33m\u001b[0m\u001b[0m\n\u001b[0m\u001b[0;32m    184\u001b[0m \u001b[1;33m\u001b[0m\u001b[0m\n\u001b[0;32m    185\u001b[0m \u001b[1;33m\u001b[0m\u001b[0m\n",
      "\u001b[1;31mTransferAPIError\u001b[0m: (404, u'NotFound', u\"Path not found, Error: The source path '~/file1.txt' does not exist\\n\", u'Qmf4STw25')"
     ]
    }
   ],
   "source": [
    "#help(tc.operation_rename)\n",
    "endpoint_id = tutorial_endpoints['go#ep1'] \n",
    "endpoint_path = '/~/shared_dir/'\n",
    "tc.operation_rename(endpoint_id, oldpath=\"/~/file1.txt\",\n",
    "                    newpath=\"/~/project1data.txt\")"
   ]
  },
  {
   "cell_type": "markdown",
   "metadata": {},
   "source": [
    "# Task submission"
   ]
  },
  {
   "cell_type": "markdown",
   "metadata": {},
   "source": [
    "### Transfer w/o sync\n"
   ]
  },
  {
   "cell_type": "code",
   "execution_count": 19,
   "metadata": {
    "collapsed": false
   },
   "outputs": [
    {
     "name": "stdout",
     "output_type": "stream",
     "text": [
      "task_id =  1a09c8a8-001a-11e6-a717-22000bf2d559\n"
     ]
    }
   ],
   "source": [
    "# help(tc.submit_transfer)\n",
    "source_endpoint_id = tutorial_endpoints['go#ep1']\n",
    "source_path = '/~/shared_dir/'\n",
    "\n",
    "dest_endpoint_id = tutorial_endpoints['go#ep2']\n",
    "dest_path = '/~/'\n",
    "\n",
    "label = \"My tutorial transfer\"\n",
    "\n",
    "transfer_items = []\n",
    "\n",
    "## Recursively transfer source path contents\n",
    "transfer_items.append(\n",
    "    tc.make_submit_transfer_item(source_path,\n",
    "                                 dest_path,\n",
    "                                 recursive=True))\n",
    "## Alternatively, transfer a specific file\n",
    "# transfer_items.append(\n",
    "#     tc.make_submit_transfer_item(\"/source/path/file.txt\",\n",
    "#                                  \"/dest/path/file.txt\"))\n",
    "\n",
    "transfer_data = tc.make_submit_transfer_data(\n",
    "    source_endpoint_id,\n",
    "    dest_endpoint_id,\n",
    "    transfer_items, label=label)\n",
    "transfer_result = tc.submit_transfer(transfer_data)\n",
    "print(\"task_id = \", transfer_result.data[\"task_id\"])"
   ]
  },
  {
   "cell_type": "markdown",
   "metadata": {},
   "source": [
    "# Task management"
   ]
  },
  {
   "cell_type": "markdown",
   "metadata": {},
   "source": [
    "### Get Task By ID"
   ]
  },
  {
   "cell_type": "code",
   "execution_count": null,
   "metadata": {
    "collapsed": true
   },
   "outputs": [],
   "source": [
    "r = tc.get_task(transfer_result.data['task_id'])\n",
    "r.data"
   ]
  },
  {
   "cell_type": "markdown",
   "metadata": {},
   "source": [
    "### Get task_list"
   ]
  },
  {
   "cell_type": "code",
   "execution_count": 36,
   "metadata": {
    "collapsed": false
   },
   "outputs": [
    {
     "name": "stdout",
     "output_type": "stream",
     "text": [
      "{u'files': 3, u'bytes_transferred': 9586542, u'DATA_TYPE': u'task', u'sync_level': None, u'completion_time': u'2016-04-11 19:18:02+00:00', u'canceled_by_admin_message': None, u'deadline': u'2016-04-12 19:18:00+00:00', u'destination_endpoint': u'go#ep2', u'bytes_checksummed': 0, u'delete_destination_extra': False, u'nice_status_details': None, u'source_endpoint_id': u'ddb59aef-6d04-11e5-ba46-22000b92c6ec', u'request_time': u'2016-04-11 19:18:00+00:00', u'nice_status': None, u'subtasks_expired': 0, u'subtasks_canceled': 0, u'label': u'My tutorial transfer', u'faults': 0, u'destination_endpoint_display_name': u'Globus Tutorial Endpoint 2', u'subtasks_total': 6, u'source_endpoint_display_name': u'Globus Tutorial Endpoint 1', u'command': u'API 0.10', u'nice_status_expires_in': None, u'subtask_link': {u'href': u'task/1a09c8a8-001a-11e6-a717-22000bf2d559/subtask_list?format=json', u'resource': u'subtask list', u'rel': u'child', u'DATA_TYPE': u'link', u'title': u'child subtask list'}, u'owner_id': u'c8741264-d274-11e5-bee7-f30dff9f1ea8', u'username': u'blaiszik', u'subtasks_retrying': 0, u'effective_bytes_per_second': 5599030, u'subtasks_failed': 0, u'history_deleted': False, u'files_skipped': 0, u'is_paused': False, u'nice_status_short_description': None, u'preserve_timestamp': False, u'task_id': u'1a09c8a8-001a-11e6-a717-22000bf2d559', u'files_transferred': 3, u'type': u'TRANSFER', u'encrypt_data': False, u'source_endpoint': u'go#ep1', u'subtasks_succeeded': 6, u'status': u'SUCCEEDED', u'event_link': {u'href': u'task/1a09c8a8-001a-11e6-a717-22000bf2d559/event_list?format=json', u'resource': u'event list', u'rel': u'child', u'DATA_TYPE': u'link', u'title': u'child event list'}, u'subtasks_pending': 0, u'canceled_by_admin': None, u'destination_endpoint_id': u'ddb59af0-6d04-11e5-ba46-22000b92c6ec', u'verify_checksum': False, u'directories': 2}\n"
     ]
    }
   ],
   "source": [
    "# help(tc.task_list)\n",
    "r = tc.task_list()\n",
    "for i,item in enumerate(r):\n",
    "    print(item.data)\n",
    "    if r > 10:\n",
    "        break"
   ]
  },
  {
   "cell_type": "markdown",
   "metadata": {},
   "source": [
    "### Update task by id (label, deadline)"
   ]
  },
  {
   "cell_type": "code",
   "execution_count": null,
   "metadata": {
    "collapsed": true
   },
   "outputs": [],
   "source": [
    "help(tc.update_task)"
   ]
  },
  {
   "cell_type": "markdown",
   "metadata": {},
   "source": [
    "### Cancel task by id"
   ]
  },
  {
   "cell_type": "code",
   "execution_count": null,
   "metadata": {
    "collapsed": false
   },
   "outputs": [],
   "source": [
    "help(tc.cancel_task)"
   ]
  },
  {
   "cell_type": "markdown",
   "metadata": {},
   "source": [
    "### Get event list for task"
   ]
  },
  {
   "cell_type": "code",
   "execution_count": null,
   "metadata": {
    "collapsed": true
   },
   "outputs": [],
   "source": []
  },
  {
   "cell_type": "markdown",
   "metadata": {},
   "source": [
    "### Get task pause info"
   ]
  },
  {
   "cell_type": "code",
   "execution_count": null,
   "metadata": {
    "collapsed": true
   },
   "outputs": [],
   "source": []
  },
  {
   "cell_type": "markdown",
   "metadata": {},
   "source": [
    "# Bookmarks"
   ]
  },
  {
   "cell_type": "markdown",
   "metadata": {},
   "source": [
    "# Create a Bookmark"
   ]
  },
  {
   "cell_type": "code",
   "execution_count": null,
   "metadata": {
    "collapsed": false
   },
   "outputs": [],
   "source": [
    "bookmark_name = \"My Tutorial Bookmark\"\n",
    "endpoint_id = tutorial_endpoints['go#ep1']\n",
    "endpoint_path = '/'\n",
    "r = tc.create_bookmark({\"endpoint_id\":endpoint_id, \"path\":endpoint_path,\"name\":bookmark_name})\n",
    "r"
   ]
  },
  {
   "cell_type": "markdown",
   "metadata": {},
   "source": [
    "# Delete a Bookmark"
   ]
  },
  {
   "cell_type": "code",
   "execution_count": null,
   "metadata": {
    "collapsed": false
   },
   "outputs": [],
   "source": [
    "tc.delete_bookmark(r.data['id'])"
   ]
  },
  {
   "cell_type": "markdown",
   "metadata": {},
   "source": [
    "### CRUD + list"
   ]
  },
  {
   "cell_type": "code",
   "execution_count": null,
   "metadata": {
    "collapsed": true
   },
   "outputs": [],
   "source": []
  },
  {
   "cell_type": "markdown",
   "metadata": {},
   "source": [
    "# Shared endpoints"
   ]
  },
  {
   "cell_type": "markdown",
   "metadata": {},
   "source": [
    "### Access_manager role"
   ]
  },
  {
   "cell_type": "code",
   "execution_count": null,
   "metadata": {
    "collapsed": true
   },
   "outputs": [],
   "source": []
  },
  {
   "cell_type": "markdown",
   "metadata": {},
   "source": [
    "### Get list off access rules"
   ]
  },
  {
   "cell_type": "code",
   "execution_count": null,
   "metadata": {
    "collapsed": true
   },
   "outputs": [],
   "source": []
  },
  {
   "cell_type": "markdown",
   "metadata": {},
   "source": [
    "### Get access rule by id"
   ]
  },
  {
   "cell_type": "code",
   "execution_count": null,
   "metadata": {
    "collapsed": true
   },
   "outputs": [],
   "source": []
  },
  {
   "cell_type": "markdown",
   "metadata": {},
   "source": [
    "### Create access rule"
   ]
  },
  {
   "cell_type": "code",
   "execution_count": null,
   "metadata": {
    "collapsed": true
   },
   "outputs": [],
   "source": []
  },
  {
   "cell_type": "markdown",
   "metadata": {},
   "source": [
    "### Update access rule"
   ]
  },
  {
   "cell_type": "code",
   "execution_count": null,
   "metadata": {
    "collapsed": true
   },
   "outputs": [],
   "source": []
  },
  {
   "cell_type": "markdown",
   "metadata": {},
   "source": [
    "### Delete access rule"
   ]
  },
  {
   "cell_type": "code",
   "execution_count": null,
   "metadata": {
    "collapsed": true
   },
   "outputs": [],
   "source": []
  }
 ],
 "metadata": {
  "kernelspec": {
   "display_name": "Python 2",
   "language": "python",
   "name": "python2"
  },
  "language_info": {
   "codemirror_mode": {
    "name": "ipython",
    "version": 2
   },
   "file_extension": ".py",
   "mimetype": "text/x-python",
   "name": "python",
   "nbconvert_exporter": "python",
   "pygments_lexer": "ipython2",
   "version": "2.7.6"
  }
 },
 "nbformat": 4,
 "nbformat_minor": 0
}
