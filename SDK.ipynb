{
 "cells": [
  {
   "cell_type": "markdown",
   "metadata": {},
   "source": [
    "<img src=\"./img/header.png\">\n",
    "# Globus SDK\n",
    "https://github.com/globus/globus-sdk-python\n",
    "\n",
    "\n",
    "# Globus SDK Docs\n",
    "http://globus-sdk-python.readthedocs.io/en/1.5.0/\n",
    "\n",
    "\n",
    "# Requirements\n",
    "- You need to be in the tutorial users group for sharing: https://www.globus.org/app/groups/50b6a29c-63ac-11e4-8062-22000ab68755\n",
    "- Installed Globus Python SDK"
   ]
  },
  {
   "cell_type": "code",
   "execution_count": 1,
   "metadata": {},
   "outputs": [
    {
     "data": {
      "application/vnd.jupyter.widget-view+json": {
       "model_id": "f9cb4cc06d86487cb152054236fa3d3a",
       "version_major": 2,
       "version_minor": 0
      },
      "text/plain": [
       "IntRangeSlider(value=(5, 7), continuous_update=False, description='Test:', max=10)"
      ]
     },
     "metadata": {},
     "output_type": "display_data"
    },
    {
     "data": {
      "application/vnd.jupyter.widget-view+json": {
       "model_id": "2ce04f73ee7845238fb00b075d626aae",
       "version_major": 2,
       "version_minor": 0
      },
      "text/plain": [
       "Output(layout=Layout(border='1px solid black'))"
      ]
     },
     "metadata": {},
     "output_type": "display_data"
    }
   ],
   "source": [
    "import ipywidgets as widgets\n",
    "w = widgets.IntRangeSlider(\n",
    "    value=[5, 7],\n",
    "    min=0,\n",
    "    max=10,\n",
    "    step=1,\n",
    "    description='Test:',\n",
    "    disabled=False,\n",
    "    continuous_update=False,\n",
    "    orientation='horizontal',\n",
    "    readout=True,\n",
    "    readout_format='d',\n",
    ")\n",
    "from IPython.display import display\n",
    "display(w)\n",
    "widgets.IntSlider()\n",
    "out = widgets.Output(layout={'border': '1px solid black'})\n",
    "out"
   ]
  },
  {
   "cell_type": "code",
   "execution_count": 2,
   "metadata": {},
   "outputs": [],
   "source": [
    "ep_petrel = \"ddb59aef-6d04-11e5-ba46-22000b92c6ec\"\n",
    "ep_hli = \"7c7f2228-719a-11e8-9363-0a6d4e044368\""
   ]
  },
  {
   "cell_type": "markdown",
   "metadata": {},
   "source": [
    "# Configuration\n",
    "\n",
    "The Globus Python SDK makes transfer functionality available via a TransferClient class.\n",
    "\n",
    "We want to configure a TransferClient with an OAuth2 access token, to authenticate its connections with Globus.\n",
    "\n",
    "In order to do this, we must first do a Native App Grant OAuth2 flow, in which we will\n",
    "1. Login\n",
    "2. Consent to allow Jupyter Notebook to access Globus Transfer on our behalf\n",
    "3. Return to the notebook with an Authorization Code (the result of step 2)\n",
    "4. Exchange the Authorization Code for an Access Token\n",
    "5. Create a TransferClient object with that Access Token as its authorization method"
   ]
  },
  {
   "cell_type": "code",
   "execution_count": 3,
   "metadata": {},
   "outputs": [
    {
     "name": "stdout",
     "output_type": "stream",
     "text": [
      "Login Here:\n",
      "\n",
      "https://auth.globus.org/v2/oauth2/authorize?client_id=3b1925c0-a87b-452b-a492-2c9921d3bd14&redirect_uri=https%3A%2F%2Fauth.globus.org%2Fv2%2Fweb%2Fauth-code&scope=openid+profile+email+urn%3Aglobus%3Aauth%3Ascope%3Atransfer.api.globus.org%3Aall&state=_default&response_type=code&code_challenge=xS8VW8piMxm1nBGMqEYRzYZnCQWAKse2dzRF_0vQf8w&code_challenge_method=S256&access_type=online\n",
      "\n",
      "\n",
      "Note that this link can only be used once! If login or a later step in the flow fails, you must restart it.\n"
     ]
    }
   ],
   "source": [
    "import globus_sdk\n",
    "\n",
    "# this is the ID of the Jupyter Demo App\n",
    "CLIENT_ID = '3b1925c0-a87b-452b-a492-2c9921d3bd14'\n",
    "\n",
    "# start Native App Grant, and print out the URL where users login as part of the flow (step 2 above)\n",
    "\n",
    "# create a client object that tracks state as we do this flow\n",
    "native_auth_client = globus_sdk.NativeAppAuthClient(CLIENT_ID)\n",
    "# explicitly start the flow (some clients may support multiple flows)\n",
    "native_auth_client.oauth2_start_flow()\n",
    "# print URL\n",
    "print(\"Login Here:\\n\\n{0}\".format(native_auth_client.oauth2_get_authorize_url()))\n",
    "\n",
    "print((\"\\n\\nNote that this link can only be used once! \"\n",
    "       \"If login or a later step in the flow fails, you must restart it.\"))"
   ]
  },
  {
   "cell_type": "markdown",
   "metadata": {},
   "source": [
    "### Come Back With Your Code\n",
    "\n",
    "You'll now need to return with the copy-paste-able code that you got from login at the Authorize URL.\n",
    "Insert it into the code block below, and it can be exchanged for a set of Access Tokens and Refresh Tokens (absent in this example)."
   ]
  },
  {
   "cell_type": "code",
   "execution_count": 4,
   "metadata": {},
   "outputs": [],
   "source": [
    "# fill this line in with the code that you got\n",
    "auth_code = \"Ep1WJW0XuDWSSphsuPqoU13h0iyVXq\"\n",
    "\n",
    "# and exchange it for a response object containing your token(s)\n",
    "token_response = native_auth_client.oauth2_exchange_code_for_tokens(auth_code)\n",
    "\n",
    "# extract the Access Token for Globus Transfer, known as \"transfer.api.globus.org\"\n",
    "transfer_access_token = token_response.by_resource_server['transfer.api.globus.org']['access_token']\n",
    "\n",
    "# wrap the token in an object that implements the globus_sdk.GlobusAuthorizer interface\n",
    "# in this case, an AccessTokenAuthorizer, which takes an access token and produces Bearer Auth headers\n",
    "transfer_authorizer = globus_sdk.AccessTokenAuthorizer(transfer_access_token)\n",
    "\n",
    "# create a TransferClient object which Authorizes its calls using that GlobusAuthorizer\n",
    "tc = globus_sdk.TransferClient(authorizer=transfer_authorizer)"
   ]
  },
  {
   "cell_type": "markdown",
   "metadata": {},
   "source": [
    "## Endpoint search\n",
    "\n",
    "Globus has over 8000 registered endpoints. To find endpoints of interest you can access powerful search capabilities via the SDK. For example, to search for a given string across the descriptive fields of endpoints (names, description, keywords):"
   ]
  },
  {
   "cell_type": "code",
   "execution_count": 5,
   "metadata": {
    "scrolled": true
   },
   "outputs": [
    {
     "name": "stdout",
     "output_type": "stream",
     "text": [
      "==== Displaying endpoint matches for search: 'Globus Tutorial Endpoint' ===\n",
      "Globus Tutorial Endpoint 1 (ddb59aef-6d04-11e5-ba46-22000b92c6ec)\n",
      "Globus Tutorial Endpoint 2 (ddb59af0-6d04-11e5-ba46-22000b92c6ec)\n",
      "Globus S3 Tutorial Endpoint (cf9bcaa5-6d04-11e5-ba46-22000b92c6ec)\n",
      "Globus Tutorial HTTPS Endpoint Server (30ed71b0-fc1d-11e5-a700-22000bf2d559)\n",
      "Brigitte's AWS Endpoint created for GlobusWorld2017 tutorial (a366d584-1f89-11e7-bc36-22000b9a448b)\n",
      "Tutorial Endpoint 1 - Parsl Share (037f054a-15cf-11e8-b611-0ac6873fc732)\n",
      "My Share on Globus Tutorial Endpoint 1 (28392b2c-3f1e-11e8-ba20-0ac6873fc732)\n",
      "cbsnyder tutorial endpoint (5173cc8e-9b98-11e6-b0c6-22000b92c261)\n",
      "NIH Tutorial Endpoint on AWS-JR (8a9188ac-e270-11e6-9d43-22000a1e3b52)\n",
      "NIH Tutorial Endpoint - Xinyu (a6a7e6e2-e26d-11e6-9d43-22000a1e3b52)\n",
      "Shared Tutorial Endpoint 2 (d0c79c14-3c5f-11e7-bcfe-22000b9a448b)\n",
      "My Tutorial Shared Endpoint (3d60bef8-072a-11e6-a738-22000bf2d559)\n",
      "My Tutorial Shared Endpoint2 (4ad8f450-0717-11e6-a738-22000bf2d559)\n",
      "My Tutorial Shared Endpoint2 (4836a5d1-5cf4-11e7-bf2f-22000b9a448b)\n",
      "My Tutorial Shared Endpoint2 (97f0fdfc-0715-11e6-a738-22000bf2d559)\n",
      "My Tutorial Shared Endpoint2 (14cc4964-3683-11e8-b95d-0ac6873fc732)\n",
      "My Tutorial Shared Endpoint2 (cc60ed66-65a8-11e7-a98c-22000bf2d287)\n",
      "My Tutorial Shared Endpoint2 (48b0956c-988d-11e7-ac36-22000a92523b)\n",
      "My Tutorial Shared Endpoint2 (bb64bd48-4e10-11e8-8fee-0a6d4e044368)\n",
      "My Tutorial Shared Endpoint2 (f5393686-988d-11e7-ac37-22000a92523b)\n",
      "My Tutorial Shared Endpoint2 (e13e0252-9090-11e6-b06d-22000b92c261)\n",
      "My Tutorial Shared Endpoint2 (e1d5716e-a9d1-11e6-9ae0-22000a1e3b52)\n",
      "My Tutorial Shared Endpoint2 (bb15141c-a9d1-11e6-9ae0-22000a1e3b52)\n",
      "My Tutorial Shared Endpoint2 (e12e3dc4-0713-11e6-a738-22000bf2d559)\n",
      "My Tutorial Shared Endpoint2 (158ba872-6a6d-11e8-92aa-0a6d4e044368)\n"
     ]
    }
   ],
   "source": [
    "search_str = \"Globus Tutorial Endpoint\"\n",
    "endpoints = tc.endpoint_search(search_str)\n",
    "print(\"==== Displaying endpoint matches for search: '{}' ===\".format(search_str))\n",
    "for ep in endpoints:\n",
    "    print(\"{} ({})\".format(ep[\"display_name\"] or ep[\"canonical_name\"], ep[\"id\"]))"
   ]
  },
  {
   "cell_type": "markdown",
   "metadata": {},
   "source": [
    "## Restricting search scope with filters\n",
    "\n",
    "There are also a number of default filters to restrict the search for 'my-endpoints', 'my-gcp-endpoints',     'recently-used', 'in-use', 'shared-by-me','shared-with-me') "
   ]
  },
  {
   "cell_type": "code",
   "execution_count": 6,
   "metadata": {},
   "outputs": [
    {
     "name": "stdout",
     "output_type": "stream",
     "text": [
      "Amazon S3 Gateway - Vas (771717d0-b6f8-11e7-b106-22000a92523b)\n",
      "Dan's tiny test point (978fc8ae-4d70-11e8-8fe1-0a6d4e044368)\n",
      "ESnet Read-Only Test DTN at New York (d8eb3708-6d04-11e5-ba46-22000b92c6ec)\n",
      "ESnet Read-Only Test DTN at Starlight (57218f41-3200-11e8-b907-0ac6873fc732)\n",
      "ESnet Read-Only Test DTN at Sunnyvale (db57ddde-6d04-11e5-ba46-22000b92c6ec)\n",
      "GCS v5.1 Video Share (c0d26edc-6f54-11e8-9327-0a6d4e044368)\n",
      "Globus Tutorial Endpoint 1 (ddb59aef-6d04-11e5-ba46-22000b92c6ec)\n",
      "Globus Tutorial Endpoint 2 (ddb59af0-6d04-11e5-ba46-22000b92c6ec)\n",
      "Globus Tutorial HTTPS Endpoint Server (30ed71b0-fc1d-11e5-a700-22000bf2d559)\n",
      "HLI Test (7c7f2228-719a-11e8-9363-0a6d4e044368)\n",
      "UChicago RCC Midway (af7bda53-6d04-11e5-ba46-22000b92c6ec)\n",
      "Vas Laptop (b5e4c04a-4d69-11e8-8fe0-0a6d4e044368)\n",
      "XSEDE Stampede (e00a355f-6d04-11e5-ba46-22000b92c6ec)\n",
      "XSEDE TACC stampede2 (ceea5ca0-89a9-11e7-a97f-22000a92523b)\n",
      "globuspublish#trial_data (e4c16d8f-6d04-11e5-ba46-22000b92c6ec)\n",
      "petrel#testbed (e56c36e4-1063-11e6-a747-22000bf2d559)\n"
     ]
    }
   ],
   "source": [
    "search_str = None\n",
    "endpoints = tc.endpoint_search(\n",
    "        filter_fulltext=search_str, filter_scope=\"recently-used\")\n",
    "for ep in endpoints:\n",
    "    print(\"{} ({})\".format(ep[\"display_name\"] or ep[\"canonical_name\"], ep[\"id\"]))"
   ]
  },
  {
   "cell_type": "markdown",
   "metadata": {},
   "source": [
    "## Endpoint details\n",
    "\n",
    "You can also retrieve complete information about an endpoint, including name, owner, location, and server configurations. "
   ]
  },
  {
   "cell_type": "code",
   "execution_count": 7,
   "metadata": {},
   "outputs": [
    {
     "ename": "NameError",
     "evalue": "name 'tutorial_endpoint_1' is not defined",
     "output_type": "error",
     "traceback": [
      "\u001b[0;31m---------------------------------------------------------------------------\u001b[0m",
      "\u001b[0;31mNameError\u001b[0m                                 Traceback (most recent call last)",
      "\u001b[0;32m<ipython-input-7-19e89a82cc99>\u001b[0m in \u001b[0;36m<module>\u001b[0;34m()\u001b[0m\n\u001b[0;32m----> 1\u001b[0;31m \u001b[0mendpoint\u001b[0m \u001b[0;34m=\u001b[0m \u001b[0mtc\u001b[0m\u001b[0;34m.\u001b[0m\u001b[0mget_endpoint\u001b[0m\u001b[0;34m(\u001b[0m\u001b[0mtutorial_endpoint_1\u001b[0m\u001b[0;34m)\u001b[0m\u001b[0;34m\u001b[0m\u001b[0m\n\u001b[0m\u001b[1;32m      2\u001b[0m \u001b[0mprint\u001b[0m\u001b[0;34m(\u001b[0m\u001b[0;34m\"Display name:\"\u001b[0m\u001b[0;34m,\u001b[0m \u001b[0mendpoint\u001b[0m\u001b[0;34m[\u001b[0m\u001b[0;34m\"display_name\"\u001b[0m\u001b[0;34m]\u001b[0m\u001b[0;34m)\u001b[0m\u001b[0;34m\u001b[0m\u001b[0m\n\u001b[1;32m      3\u001b[0m \u001b[0mprint\u001b[0m\u001b[0;34m(\u001b[0m\u001b[0;34m\"Owner:\"\u001b[0m\u001b[0;34m,\u001b[0m \u001b[0mendpoint\u001b[0m\u001b[0;34m[\u001b[0m\u001b[0;34m\"owner_string\"\u001b[0m\u001b[0;34m]\u001b[0m\u001b[0;34m)\u001b[0m\u001b[0;34m\u001b[0m\u001b[0m\n\u001b[1;32m      4\u001b[0m \u001b[0mprint\u001b[0m\u001b[0;34m(\u001b[0m\u001b[0;34m\"ID:\"\u001b[0m\u001b[0;34m,\u001b[0m \u001b[0mendpoint\u001b[0m\u001b[0;34m[\u001b[0m\u001b[0;34m\"id\"\u001b[0m\u001b[0;34m]\u001b[0m\u001b[0;34m)\u001b[0m\u001b[0;34m\u001b[0m\u001b[0m\n",
      "\u001b[0;31mNameError\u001b[0m: name 'tutorial_endpoint_1' is not defined"
     ]
    }
   ],
   "source": [
    "endpoint = tc.get_endpoint(tutorial_endpoint_1)\n",
    "print(\"Display name:\", endpoint[\"display_name\"])\n",
    "print(\"Owner:\", endpoint[\"owner_string\"])\n",
    "print(\"ID:\", endpoint[\"id\"])"
   ]
  },
  {
   "cell_type": "markdown",
   "metadata": {},
   "source": [
    "## Transfer\n",
    "\n",
    "Creating a transfer is a two stage process. First you must create a description of the data you want to transfer (which also creates a unique submission_id), and then you can submit the request to Globus to transfer that data. \n",
    "\n",
    "If the submit_transfer fails, you can safely resubmit the same transfer_data again. The submission_id will ensure that this transfer request will be submitted once and only once."
   ]
  },
  {
   "cell_type": "code",
   "execution_count": null,
   "metadata": {},
   "outputs": [],
   "source": [
    "# help(tc.submit_transfer)\n",
    "source_endpoint_id = tutorial_endpoint_1\n",
    "source_path = \"/share/godata/\"\n",
    "\n",
    "dest_endpoint_id = tutorial_endpoint_2\n",
    "dest_path = \"/~/\"\n",
    "\n",
    "label = \"My tutorial transfer\"\n",
    "\n",
    "# TransferData() automatically gets a submission_id for once-and-only-once submission\n",
    "tdata = globus_sdk.TransferData(tc, source_endpoint_id,\n",
    "                                dest_endpoint_id,\n",
    "                                label=label)\n",
    "\n",
    "## Recursively transfer source path contents\n",
    "tdata.add_item(source_path, dest_path, recursive=True)\n",
    "\n",
    "## Alternatively, transfer a specific file\n",
    "# tdata.add_item(\"/source/path/file.txt\",\n",
    "#                \"/dest/path/file.txt\"))\n",
    "\n",
    "# Ensure endpoints are activated\n",
    "tc.endpoint_autoactivate(source_endpoint_id)\n",
    "tc.endpoint_autoactivate(dest_endpoint_id)\n",
    "\n",
    "submit_result = tc.submit_transfer(tdata)\n",
    "print(\"Task ID:\", submit_result[\"task_id\"])"
   ]
  },
  {
   "cell_type": "markdown",
   "metadata": {},
   "source": [
    "## Get Task By ID\n",
    "\n",
    "While the task is running, or after completion, you can get information that describes the transfer task. "
   ]
  },
  {
   "cell_type": "code",
   "execution_count": 8,
   "metadata": {},
   "outputs": [
    {
     "name": "stdout",
     "output_type": "stream",
     "text": [
      "Label: HLI_100x50GB 32-32 no verification\n",
      "Status: SUCCEEDED\n",
      "Transfer: petrel#testbed -> HLI Test\n",
      "Bytes transferred: 5000000000000\n",
      "Files transferred: 100\n",
      "Transfer rate: 263443118 bps\n",
      "Start: 2018-06-22 22:00:37+00:00\n",
      "End: 2018-06-23 03:16:57+00:00\n",
      "Duration: 5:16:20\n"
     ]
    }
   ],
   "source": [
    "from datetime import datetime\n",
    "hli_task_id = 'b1abfb20-7667-11e8-93d3-0a6d4e044368'\n",
    "r = tc.get_task(hli_task_id)\n",
    "print (\"Label:\", r[\"label\"])\n",
    "print (\"Status:\", r[\"status\"])\n",
    "print (\"Transfer: {} -> {}\".format(r[\"source_endpoint_display_name\"],\n",
    "                                   r[\"destination_endpoint_display_name\"]))\n",
    "    \n",
    "if r.data[\"status\"] == \"SUCCEEDED\":\n",
    "    print(\"Bytes transferred:\", r[\"bytes_transferred\"])\n",
    "    print(\"Files transferred:\", r[\"files_transferred\"])\n",
    "    print(\"Transfer rate:\", r[\"effective_bytes_per_second\"], \"bps\")\n",
    "    print(\"Start:\", r['request_time'])\n",
    "    print(\"End:\", r['completion_time'])\n",
    "    print(\"Duration:\", datetime.strptime(r['completion_time'][:-6], '%Y-%m-%d %H:%M:%S') - datetime.strptime(r['request_time'][:-6], '%Y-%m-%d %H:%M:%S'))"
   ]
  },
  {
   "cell_type": "code",
   "execution_count": 10,
   "metadata": {},
   "outputs": [
    {
     "name": "stdout",
     "output_type": "stream",
     "text": [
      "2018-06-23 03:16:57+00:00 274.01 Mbps\n",
      "2018-06-23 03:15:58+00:00 323.98 Mbps\n",
      "2018-06-23 03:14:58+00:00 835.79 Mbps\n",
      "2018-06-23 03:13:58+00:00 1266.79 Mbps\n",
      "2018-06-23 03:12:56+00:00 1377.66 Mbps\n",
      "2018-06-23 03:11:55+00:00 1355.61 Mbps\n",
      "2018-06-23 03:10:54+00:00 1341.82 Mbps\n",
      "2018-06-23 03:09:54+00:00 1317.75 Mbps\n",
      "2018-06-23 03:08:53+00:00 1245.35 Mbps\n",
      "2018-06-23 03:07:53+00:00 1300.82 Mbps\n",
      "2018-06-23 03:06:53+00:00 1376.58 Mbps\n",
      "2018-06-23 03:05:53+00:00 1447.17 Mbps\n",
      "2018-06-23 03:04:51+00:00 1472.5 Mbps\n",
      "2018-06-23 03:03:50+00:00 1470.79 Mbps\n",
      "2018-06-23 03:02:49+00:00 1397.87 Mbps\n",
      "2018-06-23 03:01:49+00:00 1427.42 Mbps\n",
      "2018-06-23 03:00:48+00:00 1281.03 Mbps\n",
      "2018-06-23 02:59:48+00:00 1263.27 Mbps\n",
      "2018-06-23 02:58:48+00:00 1097.23 Mbps\n",
      "2018-06-23 02:57:46+00:00 1377.5 Mbps\n",
      "2018-06-23 02:56:46+00:00 2537.12 Mbps\n",
      "2018-06-23 02:55:46+00:00 3424.22 Mbps\n",
      "2018-06-23 02:54:45+00:00 4200.28 Mbps\n",
      "2018-06-23 02:53:44+00:00 4802.47 Mbps\n",
      "2018-06-23 02:52:44+00:00 4838.73 Mbps\n",
      "2018-06-23 02:51:44+00:00 4844.17 Mbps\n",
      "2018-06-23 02:50:44+00:00 4831.81 Mbps\n",
      "2018-06-23 02:49:43+00:00 4831.45 Mbps\n",
      "2018-06-23 02:48:43+00:00 4812.4 Mbps\n",
      "2018-06-23 02:47:43+00:00 4823.54 Mbps\n",
      "2018-06-23 02:46:43+00:00 4822.8 Mbps\n",
      "2018-06-23 02:45:43+00:00 4841.63 Mbps\n",
      "2018-06-23 02:44:43+00:00 4836.9 Mbps\n",
      "2018-06-23 02:43:43+00:00 4822.62 Mbps\n",
      "2018-06-23 02:42:43+00:00 4820.45 Mbps\n",
      "2018-06-23 02:41:43+00:00 4854.06 Mbps\n",
      "2018-06-23 02:40:43+00:00 4855.39 Mbps\n",
      "2018-06-23 02:39:43+00:00 4825.33 Mbps\n",
      "2018-06-23 02:38:43+00:00 4838.03 Mbps\n",
      "2018-06-23 02:37:43+00:00 4838.02 Mbps\n",
      "2018-06-23 02:36:43+00:00 4844.59 Mbps\n",
      "2018-06-23 02:35:43+00:00 4842.37 Mbps\n",
      "2018-06-23 02:34:43+00:00 4805.29 Mbps\n",
      "2018-06-23 02:33:43+00:00 4848.84 Mbps\n",
      "2018-06-23 02:32:43+00:00 4854.11 Mbps\n",
      "2018-06-23 02:31:43+00:00 4828.53 Mbps\n",
      "2018-06-23 02:30:43+00:00 4808.38 Mbps\n",
      "2018-06-23 02:29:43+00:00 4798.39 Mbps\n",
      "2018-06-23 02:28:43+00:00 4860.26 Mbps\n",
      "2018-06-23 02:27:43+00:00 4851.02 Mbps\n",
      "2018-06-23 02:26:43+00:00 4824.29 Mbps\n",
      "2018-06-23 02:25:43+00:00 4847.21 Mbps\n",
      "2018-06-23 02:24:42+00:00 4824.3 Mbps\n",
      "2018-06-23 02:23:42+00:00 4821.09 Mbps\n",
      "2018-06-23 02:22:42+00:00 4829.55 Mbps\n",
      "2018-06-23 02:21:42+00:00 4815.91 Mbps\n",
      "2018-06-23 02:20:42+00:00 4832.78 Mbps\n",
      "2018-06-23 02:19:42+00:00 4833.46 Mbps\n",
      "2018-06-23 02:18:42+00:00 4813.94 Mbps\n",
      "2018-06-23 02:17:42+00:00 4830.86 Mbps\n",
      "2018-06-23 02:16:42+00:00 4862.31 Mbps\n",
      "2018-06-23 02:15:42+00:00 4816.52 Mbps\n",
      "2018-06-23 02:14:42+00:00 4833.41 Mbps\n",
      "2018-06-23 02:13:42+00:00 4829.92 Mbps\n",
      "2018-06-23 02:12:42+00:00 4786.81 Mbps\n",
      "2018-06-23 02:11:41+00:00 4843.36 Mbps\n",
      "2018-06-23 02:10:41+00:00 4833.52 Mbps\n",
      "2018-06-23 02:09:41+00:00 4764.77 Mbps\n",
      "2018-06-23 02:08:40+00:00 4762.38 Mbps\n",
      "2018-06-23 02:07:40+00:00 4809.44 Mbps\n",
      "2018-06-23 02:06:40+00:00 4843.2 Mbps\n",
      "2018-06-23 02:05:40+00:00 4837.68 Mbps\n",
      "2018-06-23 02:04:40+00:00 4820.57 Mbps\n",
      "2018-06-23 02:03:40+00:00 4824.6 Mbps\n",
      "2018-06-23 02:02:40+00:00 4857.12 Mbps\n",
      "2018-06-23 02:01:39+00:00 4842.59 Mbps\n",
      "2018-06-23 02:00:39+00:00 4844.54 Mbps\n",
      "2018-06-23 01:59:39+00:00 4804.37 Mbps\n",
      "2018-06-23 01:58:39+00:00 4850.35 Mbps\n",
      "2018-06-23 01:57:39+00:00 4855.6 Mbps\n",
      "2018-06-23 01:56:39+00:00 4812.83 Mbps\n",
      "2018-06-23 01:55:39+00:00 4847.65 Mbps\n",
      "2018-06-23 01:54:39+00:00 4834.73 Mbps\n",
      "2018-06-23 01:53:39+00:00 4850.82 Mbps\n",
      "2018-06-23 01:52:39+00:00 4816.33 Mbps\n",
      "2018-06-23 01:51:39+00:00 4847.28 Mbps\n",
      "2018-06-23 01:50:39+00:00 4853.75 Mbps\n",
      "2018-06-23 01:49:39+00:00 4837.78 Mbps\n",
      "2018-06-23 01:48:39+00:00 4841.38 Mbps\n",
      "2018-06-23 01:47:39+00:00 4827.17 Mbps\n",
      "2018-06-23 01:46:39+00:00 4830.15 Mbps\n",
      "2018-06-23 01:45:39+00:00 4857.54 Mbps\n",
      "2018-06-23 01:44:39+00:00 4845.13 Mbps\n",
      "2018-06-23 01:43:39+00:00 4843.06 Mbps\n",
      "2018-06-23 01:42:39+00:00 4834.55 Mbps\n",
      "2018-06-23 01:41:39+00:00 4818.36 Mbps\n",
      "2018-06-23 01:40:39+00:00 4840.87 Mbps\n",
      "2018-06-23 01:39:39+00:00 4825.41 Mbps\n",
      "2018-06-23 01:38:39+00:00 4835.39 Mbps\n",
      "2018-06-23 01:37:39+00:00 4856.08 Mbps\n",
      "2018-06-23 01:36:39+00:00 4860.6 Mbps\n",
      "2018-06-23 01:35:39+00:00 4815.11 Mbps\n",
      "2018-06-23 01:34:39+00:00 4843.15 Mbps\n",
      "2018-06-23 01:33:39+00:00 4843.52 Mbps\n",
      "2018-06-23 01:32:39+00:00 4834.57 Mbps\n",
      "2018-06-23 01:31:39+00:00 4810.15 Mbps\n",
      "2018-06-23 01:30:39+00:00 4877.03 Mbps\n",
      "2018-06-23 01:29:39+00:00 4812.78 Mbps\n",
      "2018-06-23 01:28:39+00:00 4834.81 Mbps\n",
      "2018-06-23 01:27:39+00:00 4804.19 Mbps\n",
      "2018-06-23 01:26:38+00:00 4289.71 Mbps\n",
      "2018-06-22 22:54:09+00:00 4805.53 Mbps\n",
      "2018-06-22 22:53:44+00:00 4817.83 Mbps\n",
      "2018-06-22 22:52:44+00:00 4817.63 Mbps\n",
      "2018-06-22 22:51:44+00:00 4827.35 Mbps\n",
      "2018-06-22 22:50:44+00:00 4832.12 Mbps\n",
      "2018-06-22 22:49:44+00:00 4818.03 Mbps\n",
      "2018-06-22 22:48:44+00:00 4853.29 Mbps\n",
      "2018-06-22 22:47:44+00:00 4822.32 Mbps\n",
      "2018-06-22 22:46:44+00:00 4811.4 Mbps\n",
      "2018-06-22 22:45:44+00:00 4804.81 Mbps\n",
      "2018-06-22 22:44:44+00:00 4829.46 Mbps\n",
      "2018-06-22 22:43:44+00:00 4845.89 Mbps\n",
      "2018-06-22 22:42:43+00:00 4858.41 Mbps\n",
      "2018-06-22 22:41:43+00:00 4778.36 Mbps\n",
      "2018-06-22 22:40:43+00:00 4855.06 Mbps\n",
      "2018-06-22 22:39:43+00:00 4816.17 Mbps\n",
      "2018-06-22 22:38:43+00:00 4782.09 Mbps\n",
      "2018-06-22 22:37:43+00:00 4868.61 Mbps\n",
      "2018-06-22 22:36:43+00:00 4850.2 Mbps\n",
      "2018-06-22 22:35:43+00:00 4814.75 Mbps\n",
      "2018-06-22 22:34:43+00:00 4863.77 Mbps\n",
      "2018-06-22 22:33:43+00:00 4811.73 Mbps\n",
      "2018-06-22 22:32:43+00:00 4843.2 Mbps\n",
      "2018-06-22 22:31:43+00:00 4855.79 Mbps\n",
      "2018-06-22 22:30:43+00:00 4830.34 Mbps\n",
      "2018-06-22 22:29:43+00:00 4833.07 Mbps\n",
      "2018-06-22 22:28:43+00:00 4826.05 Mbps\n",
      "2018-06-22 22:27:43+00:00 4812.7 Mbps\n",
      "2018-06-22 22:26:43+00:00 4880.0 Mbps\n",
      "2018-06-22 22:25:43+00:00 4825.11 Mbps\n",
      "2018-06-22 22:24:43+00:00 4820.69 Mbps\n",
      "2018-06-22 22:23:43+00:00 4845.33 Mbps\n",
      "2018-06-22 22:22:43+00:00 4838.21 Mbps\n",
      "2018-06-22 22:21:43+00:00 4807.54 Mbps\n",
      "2018-06-22 22:20:43+00:00 4864.22 Mbps\n",
      "2018-06-22 22:19:43+00:00 4831.42 Mbps\n",
      "2018-06-22 22:18:43+00:00 4812.05 Mbps\n",
      "2018-06-22 22:17:43+00:00 4867.07 Mbps\n",
      "2018-06-22 22:16:43+00:00 4820.38 Mbps\n",
      "2018-06-22 22:15:43+00:00 4873.0 Mbps\n",
      "2018-06-22 22:14:43+00:00 4807.94 Mbps\n",
      "2018-06-22 22:13:43+00:00 4873.64 Mbps\n",
      "2018-06-22 22:12:43+00:00 4822.99 Mbps\n",
      "2018-06-22 22:11:43+00:00 4833.84 Mbps\n",
      "2018-06-22 22:10:43+00:00 4828.12 Mbps\n",
      "2018-06-22 22:09:43+00:00 4843.83 Mbps\n",
      "2018-06-22 22:08:43+00:00 4843.14 Mbps\n",
      "2018-06-22 22:07:43+00:00 4841.06 Mbps\n",
      "2018-06-22 22:06:43+00:00 4821.89 Mbps\n",
      "2018-06-22 22:05:43+00:00 4853.6 Mbps\n",
      "2018-06-22 22:04:43+00:00 4804.45 Mbps\n",
      "2018-06-22 22:03:43+00:00 4828.52 Mbps\n",
      "2018-06-22 22:02:43+00:00 4832.9 Mbps\n",
      "2018-06-22 22:01:43+00:00 4277.21 Mbps\n",
      "4360.3429090909085\n"
     ]
    }
   ],
   "source": [
    "#help(tc.task_event_list)\n",
    "import json\n",
    "r = tc.task_event_list(hli_task_id, num_results=1000)\n",
    "mbps_total = 0\n",
    "num_events = 0\n",
    "for event in r:\n",
    "    if event['code'] == \"PROGRESS\":\n",
    "        print(event['time'],str(json.loads(event['details'])['mbps']) + \" Mbps\")\n",
    "        mbps_total += json.loads(event['details'])['mbps']\n",
    "        num_events += 1\n",
    "print(mbps_total / num_events)\n"
   ]
  },
  {
   "cell_type": "markdown",
   "metadata": {},
   "source": [
    "## Wait for task to complete\n",
    "\n",
    "Transfer and delete tasks are asynchronous operations, and depending on their size may take a long time to complete. If you wish to wait for a task to complete, the TransferClient provides a task_wait helper method:"
   ]
  },
  {
   "cell_type": "code",
   "execution_count": null,
   "metadata": {},
   "outputs": [],
   "source": [
    "# Wait for a task to finish for 10 minutes, polling every 15 seconds.\n",
    "completed = tc.task_wait(submit_result[\"task_id\"], timeout=600, polling_interval=15)\n",
    "if completed:\n",
    "    print(\"Task finished!\")\n",
    "else:\n",
    "    print(\"Task still running after timeout reached.\")\n"
   ]
  }
 ],
 "metadata": {
  "kernelspec": {
   "display_name": "Python 3",
   "language": "python",
   "name": "python3"
  },
  "language_info": {
   "codemirror_mode": {
    "name": "ipython",
    "version": 3
   },
   "file_extension": ".py",
   "mimetype": "text/x-python",
   "name": "python",
   "nbconvert_exporter": "python",
   "pygments_lexer": "ipython3",
   "version": "3.6.3"
  }
 },
 "nbformat": 4,
 "nbformat_minor": 1
}
