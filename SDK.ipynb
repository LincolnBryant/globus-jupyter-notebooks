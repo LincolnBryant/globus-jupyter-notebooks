{
 "cells": [
  {
   "cell_type": "markdown",
   "metadata": {},
   "source": [
    "<img src=\"./img/header.png\">\n",
    "# Globus SDK\n",
    "https://github.com/globus/globus-sdk-python\n",
    "\n",
    "\n",
    "# Globus SDK Docs\n",
    "http://globus.github.io/globus-sdk-python/\n",
    "\n",
    "\n",
    "# Globus CLI\n",
    "https://github.com/globus/globus-cli\n",
    "\n",
    "# Requirements\n",
    "- You need to be in the tutorial users group for sharing\n",
    "- Installed Globus Python SDK"
   ]
  },
  {
   "cell_type": "code",
   "execution_count": null,
   "metadata": {
    "collapsed": false
   },
   "outputs": [],
   "source": [
    "from __future__ import print_function # for python 2\n",
    "import globus_sdk\n",
    "\n",
    "tutorial_endpoint_1 = \"ddb59aef-6d04-11e5-ba46-22000b92c6ec\"\n",
    "tutorial_endpoint_2 = \"ddb59af0-6d04-11e5-ba46-22000b92c6ec\"\n",
    "\n",
    "tutorial_users_group = \"50b6a29c-63ac-11e4-8062-22000ab68755\""
   ]
  },
  {
   "cell_type": "markdown",
   "metadata": {},
   "source": [
    "# Configuration\n",
    "\n",
    "First you will need to configure the client with your access credentials. You can obtain OAuth2 access tokens via the tokens.globus.org website. Click the \"Jupyter Notebook\" option and copy the resulting text below. "
   ]
  },
  {
   "cell_type": "code",
   "execution_count": null,
   "metadata": {
    "collapsed": true
   },
   "outputs": [],
   "source": [
    "transfer_token = None # if None, tries to get token from config file"
   ]
  },
  {
   "cell_type": "markdown",
   "metadata": {},
   "source": [
    "# Transfer Client\n",
    "\n",
    "The Globus Python SDK makes transfer functionality avaialable via a TransferClient. "
   ]
  },
  {
   "cell_type": "markdown",
   "metadata": {},
   "source": [
    "## Instantiate Transfer Client\n",
    "\n",
    "The TransferClient can be instantiated by passing in a token or by using the token configured in your home directory (~/.globus.cfg). Tokens can be obtained via the tokens.globus.org site. "
   ]
  },
  {
   "cell_type": "code",
   "execution_count": null,
   "metadata": {
    "collapsed": false
   },
   "outputs": [],
   "source": [
    "tc = globus_sdk.TransferClient(token=transfer_token)"
   ]
  },
  {
   "cell_type": "markdown",
   "metadata": {},
   "source": [
    "## Using the client\n",
    "\n",
    "The transfer client makes REST resources avaialble via easy to use methods. \n",
    "\n",
    "The response from these methods wraps the HTTP response status, content type, text and JSON response body. "
   ]
  },
  {
   "cell_type": "code",
   "execution_count": null,
   "metadata": {
    "collapsed": false
   },
   "outputs": [],
   "source": [
    "r = tc.get_endpoint(tutorial_endpoint_1)\n",
    "print(\"HTTP Status Code:\", r.http_status)\n",
    "print(\"Content Type:\", r.content_type)\n",
    "print(\"Data:\", repr(r.data))\n",
    "print(\"Endpoint Display Name:\", r[\"display_name\"]) # shortcut for r.data[\"display_name\"]"
   ]
  },
  {
   "cell_type": "markdown",
   "metadata": {},
   "source": [
    "Helper methods for APIs that returns lists have iterable responses, and automatically take care of paging where required:"
   ]
  },
  {
   "cell_type": "code",
   "execution_count": null,
   "metadata": {
    "collapsed": false
   },
   "outputs": [],
   "source": [
    "r = tc.endpoint_search(filter_scope=\"my-endpoints\")\n",
    "for ep in r:\n",
    "    print(\"{} ({})\".format(ep[\"display_name\"], ep[\"id\"]))"
   ]
  },
  {
   "cell_type": "markdown",
   "metadata": {},
   "source": [
    "## Handling errors\n",
    "\n",
    "If the API returns an error response (HTTP status code 4xx or 5xx), it will be translated to a Python exception and raised:"
   ]
  },
  {
   "cell_type": "code",
   "execution_count": null,
   "metadata": {
    "collapsed": false
   },
   "outputs": [],
   "source": [
    "try:\n",
    "    r = tc.get_endpoint(\"dcb2e10e-de27-4b99-8722-1a69aa3fc467\")\n",
    "except GlobusAPIError as ex:\n",
    "    print(\"HTTP Status Code:\", ex.http_status)\n",
    "    print(\"Error Code      :\", ex.code)\n",
    "    print(\"Error Message   :\", ex.message)"
   ]
  },
  {
   "cell_type": "markdown",
   "metadata": {},
   "source": [
    "There are five basic classes of errors:\n",
    "\n",
    "1. Bad request - there is something wrong with the request from the client, like a mispelled parameter name or missing required data. These errors have a code that starts with ``BadRequest`` or ``ClientError.BadRequest``.\n",
    "2. State conflict - this is a very broad category, and covers all the errors that can happen during normal operation, and neither the client nor the server could have anticipated and avoided the error. Examples: local filesystem permissions not allowing the requested path on a remote GridFTP endpoint, endpoint not found (could have been deleted concurrently by another client). This also includes network errors communicating with GridFTP endpoints and other external services. These errors typically have a code containing ``PermissionDenied``, ``Conflict``, or ``ExternalError``.\n",
    "3. Network error - network failure between the REST client and the REST API server. These errors will result in a ``globus_sdk.NetworkError`` being raised by the SDK.\n",
    "4. Planned downtime - code ``ServiceUnavailable``.\n",
    "5. Server error - caused by a bug in the REST API server (code ``ServerError.InternalError``). We log such errors and incorperate fixes into our next release, but developers are still encouraged to submit details to the mailing list when they encounter these errors. Note that sometimes these errors are actually a sign of a bad request type error, i.e. the bug in the server is that it's not anticipating the exact type of bad data, so it's not reporting the correct error code, but the problem can still be resolved by a change to the client."
   ]
  },
  {
   "cell_type": "markdown",
   "metadata": {},
   "source": [
    "# Endpoint management"
   ]
  },
  {
   "cell_type": "markdown",
   "metadata": {},
   "source": [
    "## Endpoint search\n",
    "\n",
    "Globus has over 8000 registered endpoints. To find endpoints of interest you can access powerful search capabilities via the SDK. For example, to search for a given string across the descriptive fields of endpoints (names, description, keywords):"
   ]
  },
  {
   "cell_type": "code",
   "execution_count": null,
   "metadata": {
    "collapsed": false,
    "scrolled": true
   },
   "outputs": [],
   "source": [
    "search_str = \"Globus Tutorial Endpoint\"\n",
    "endpoints = tc.endpoint_search(search_str)\n",
    "print(\"==== Displaying endpoint matches for search: '{}' ===\".format(search_str))\n",
    "for ep in endpoints:\n",
    "    print(\"{} ({})\".format(ep[\"display_name\"], ep[\"id\"]))"
   ]
  },
  {
   "cell_type": "markdown",
   "metadata": {},
   "source": [
    "## Restricting search scope with filters\n",
    "\n",
    "There are also a number of default filters to restrict the search for 'my-endpoints', 'my-gcp-endpoints',     'recently-used', 'in-use', 'shared-by-me','shared-with-me') "
   ]
  },
  {
   "cell_type": "code",
   "execution_count": null,
   "metadata": {
    "collapsed": false
   },
   "outputs": [],
   "source": [
    "endpoints = tc.endpoint_search(\n",
    "        filter_fulltext=search_str, filter_scope=\"recently-used\")\n",
    "for ep in endpoints:\n",
    "    print(\"{} ({})\".format(ep[\"display_name\"], ep[\"id\"]))"
   ]
  },
  {
   "cell_type": "markdown",
   "metadata": {},
   "source": [
    "## Endpoint details\n",
    "\n",
    "You can also retrieve complete information about an endpoing, including name, owner, location, and server configurations. "
   ]
  },
  {
   "cell_type": "code",
   "execution_count": null,
   "metadata": {
    "collapsed": false
   },
   "outputs": [],
   "source": [
    "endpoint = tc.get_endpoint(tutorial_endpoint_1)\n",
    "print(\"Display name:\", endpoint[\"display_name\"])\n",
    "print(\"Owner:\", endpoint[\"owner_string\"])\n",
    "print(\"ID:\", endpoint[\"id\"])"
   ]
  },
  {
   "cell_type": "markdown",
   "metadata": {},
   "source": [
    "# File operations"
   ]
  },
  {
   "cell_type": "markdown",
   "metadata": {},
   "source": [
    "## Path encoding & UTF gotchas"
   ]
  },
  {
   "cell_type": "code",
   "execution_count": null,
   "metadata": {
    "collapsed": true
   },
   "outputs": [],
   "source": []
  },
  {
   "cell_type": "markdown",
   "metadata": {},
   "source": [
    "## Autoactivate Endpoints\n",
    "Globus endpoints must be \"activated\" before they can be used. Many endpoints (e.g., Globus Connect Personal and Shared endpoints) can be \"autoactivated\" using your active Globus identities.For endpoints that require activatino (e.g., MyProxy and MyProxy OAuth) you can activate those endpoints via the Globus website. Here we autoactivate the Globus tutorial endpoints using their endpoint_ids"
   ]
  },
  {
   "cell_type": "code",
   "execution_count": null,
   "metadata": {
    "collapsed": false
   },
   "outputs": [],
   "source": [
    "#help(tc.endpoint_activate)\n",
    "ep1result = tc.endpoint_autoactivate(tutorial_endpoint_1)\n",
    "ep2result = tc.endpoint_autoactivate(tutorial_endpoint_2)\n",
    "print(\"Response code:\", ep1result[\"code\"])\n",
    "print(\"Response message:\", ep1result[\"message\"])"
   ]
  },
  {
   "cell_type": "markdown",
   "metadata": {},
   "source": [
    "## Get a directory listing\n",
    "\n",
    "Having activated an endpoint you can now perform operations on it. For example, performing an ls command to retrieve directory contents. "
   ]
  },
  {
   "cell_type": "code",
   "execution_count": null,
   "metadata": {
    "collapsed": false
   },
   "outputs": [],
   "source": [
    "# help(tc.operation_ls)\n",
    "endpoint_id = tutorial_endpoint_1\n",
    "endpoint_path = \"/share/godata/\"\n",
    "r = tc.operation_ls(endpoint_id, path=endpoint_path)\n",
    "print(\"==== Endpoint_ls for endpoint {} {} ====\".format(endpoint_id, endpoint_path))\n",
    "for item in r:\n",
    "    print(\"{}: {} [{}]\".format(item[\"type\"], item[\"name\"], item[\"size\"]))"
   ]
  },
  {
   "cell_type": "markdown",
   "metadata": {},
   "source": [
    "## Make directory"
   ]
  },
  {
   "cell_type": "code",
   "execution_count": null,
   "metadata": {
    "collapsed": false
   },
   "outputs": [],
   "source": [
    "#help(tc.operation_mkdir)\n",
    "endpoint_id = tutorial_endpoint_1\n",
    "endpoint_path = \"/~/tutorial_dir\"\n",
    "mkdir_result = tc.operation_mkdir(endpoint_id, path=endpoint_path)\n",
    "print(mkdir_result[\"message\"])"
   ]
  },
  {
   "cell_type": "markdown",
   "metadata": {},
   "source": [
    "## Rename\n",
    "\n",
    "You can rename files and directories on your endpoints. "
   ]
  },
  {
   "cell_type": "code",
   "execution_count": null,
   "metadata": {
    "collapsed": false
   },
   "outputs": [],
   "source": [
    "#help(tc.operation_rename)\n",
    "endpoint_id = tutorial_endpoint_1\n",
    "r = tc.operation_rename(endpoint_id, oldpath=\"/~/tutorial_dir\",\n",
    "                        newpath=\"/~/tutorial_dir_renamed\")\n",
    "print(r[\"message\"])"
   ]
  },
  {
   "cell_type": "markdown",
   "metadata": {},
   "source": [
    "# Task submission and management\n",
    "\n",
    "The Globus task interface allows you to create and manage asynchronous transfer tasks. "
   ]
  },
  {
   "cell_type": "markdown",
   "metadata": {},
   "source": [
    "## Transfer\n",
    "\n",
    "Creating a transfer is a two stage process. First you must create a description of the data you want to transfer and then you can submit the request to Globus to transfer that data. \n"
   ]
  },
  {
   "cell_type": "code",
   "execution_count": null,
   "metadata": {
    "collapsed": false
   },
   "outputs": [],
   "source": [
    "# help(tc.submit_transfer)\n",
    "source_endpoint_id = tutorial_endpoint_1\n",
    "source_path = '/share/godata/'\n",
    "\n",
    "dest_endpoint_id = tutorial_endpoint_2\n",
    "dest_path = '/~/'\n",
    "\n",
    "label = \"My tutorial transfer\"\n",
    "\n",
    "transfer_items = []\n",
    "\n",
    "## Recursively transfer source path contents\n",
    "transfer_items.append(\n",
    "    tc.make_submit_transfer_item(source_path,\n",
    "                                 dest_path,\n",
    "                                 recursive=True))\n",
    "## Alternatively, transfer a specific file\n",
    "# transfer_items.append(\n",
    "#     tc.make_submit_transfer_item(\"/source/path/file.txt\",\n",
    "#                                  \"/dest/path/file.txt\"))\n",
    "\n",
    "# Ensure endpoints are activated\n",
    "tc.endpoint_autoactivate(tutorial_endpoint_1)\n",
    "tc.endpoint_autoactivate(tutorial_endpoint_2)\n",
    "\n",
    "transfer_data = tc.make_submit_transfer_data(\n",
    "    source_endpoint_id,\n",
    "    dest_endpoint_id,\n",
    "    transfer_items, label=label)\n",
    "transfer_result = tc.submit_transfer(transfer_data)\n",
    "task_id = transfer_result[\"task_id\"]\n",
    "print(\"Task ID:\", task_id)"
   ]
  },
  {
   "cell_type": "markdown",
   "metadata": {},
   "source": [
    "## Get Task By ID\n",
    "\n",
    "While the task is running, or after completion, you can get information that describes the transfer task. "
   ]
  },
  {
   "cell_type": "code",
   "execution_count": null,
   "metadata": {
    "collapsed": false
   },
   "outputs": [],
   "source": [
    "r = tc.get_task(transfer_result.data['task_id'])\n",
    "print (\"Label:\", r[\"label\"])\n",
    "print (\"Status:\", r[\"status\"])\n",
    "print (\"Transfer: {} -> {}\".format(r[\"source_endpoint_display_name\"],\n",
    "                                   r[\"destination_endpoint_display_name\"]))\n",
    "    \n",
    "if r.data[\"status\"] == \"SUCCEEDED\":\n",
    "    print (\"Bytes transferred:\", r[\"bytes_transferred\"])\n",
    "    print (\"Files transferred:\", r[\"files_transferred\"])\n",
    "    print (\"Transfer rate:\", r[\"effective_bytes_per_second\"], \"bps\")"
   ]
  },
  {
   "cell_type": "markdown",
   "metadata": {},
   "source": [
    "## Check destination endpoint\n",
    "\n",
    "After the transfer has finished you can list the contents of the destination endpoint"
   ]
  },
  {
   "cell_type": "code",
   "execution_count": null,
   "metadata": {
    "collapsed": false
   },
   "outputs": [],
   "source": [
    "ls_iter = tc.operation_ls(dest_endpoint_id, path=dest_path)\n",
    "print(\"==== Endpoint_ls for endpoint {} {} ====\".format(dest_endpoint_id, dest_path))\n",
    "for item in ls_iter:\n",
    "    print(\"{}: {} [{}]\".format(item[\"type\"], item[\"name\"], item[\"size\"]))"
   ]
  },
  {
   "cell_type": "markdown",
   "metadata": {},
   "source": [
    "## Get task list\n",
    "\n",
    "You can get a list of past or current tasks with the following call. Note, you can also use a variety of filters to control the scope of results. "
   ]
  },
  {
   "cell_type": "code",
   "execution_count": null,
   "metadata": {
    "collapsed": false
   },
   "outputs": [],
   "source": [
    "# help(tc.task_list)\n",
    "r = tc.task_list(num_results=10)\n",
    "for i, item in enumerate(r):\n",
    "    print(item.data['status'],\n",
    "          item.data['task_id'], \n",
    "          item.data['type'],\n",
    "          item.data['source_endpoint_display_name'],\n",
    "          item.data['destination_endpoint_display_name'],\n",
    "          item.data['label'])"
   ]
  },
  {
   "cell_type": "markdown",
   "metadata": {},
   "source": [
    "## Filter task list\n",
    "\n",
    "Retrieve only active tasks.  TODO: Link to filters. "
   ]
  },
  {
   "cell_type": "code",
   "execution_count": null,
   "metadata": {
    "collapsed": false
   },
   "outputs": [],
   "source": [
    "r = tc.task_list(num_results=10, filter=\"status:ACTIVE\")\n",
    "for i, item in enumerate(r):\n",
    "    print(item.data['status'],\n",
    "          item.data['task_id'], \n",
    "          item.data['type'],\n",
    "          item.data['source_endpoint_display_name'],\n",
    "          item.data['destination_endpoint_display_name'],\n",
    "          item.data['label'])"
   ]
  },
  {
   "cell_type": "markdown",
   "metadata": {},
   "source": [
    "## Cancel task\n",
    "\n",
    "You can also cancel a running task. "
   ]
  },
  {
   "cell_type": "code",
   "execution_count": null,
   "metadata": {
    "collapsed": false
   },
   "outputs": [],
   "source": [
    "#help(tc.cancel_task)\n",
    "r = tc.cancel_task(task_id)\n",
    "print (\"{}: {}\".format(r[\"code\"], r[\"message\"]))"
   ]
  },
  {
   "cell_type": "markdown",
   "metadata": {},
   "source": [
    "## Get event list for task\n",
    "\n",
    "Every task stores periodic event markers (e.g., errors, performance markers, etc.) You can retrieve and filter this list as follows. "
   ]
  },
  {
   "cell_type": "code",
   "execution_count": null,
   "metadata": {
    "collapsed": false
   },
   "outputs": [],
   "source": [
    "#help(tc.task_event_list)\n",
    "r = tc.task_event_list(task_id, num_results=10)\n",
    "for event in r:\n",
    "    print (event[\"time\"], event[\"code\"], event[\"is_error\"], event[\"details\"])\n"
   ]
  },
  {
   "cell_type": "markdown",
   "metadata": {},
   "source": [
    "# Bookmarks\n",
    "\n",
    "Bookmarks allow you to keep a list of frequently used endpoints and paths. Full management capabilities (create, retrieve, update, delete) are supported on bookmarks. Note that the REST API itself does not directly support bookmarks when performing operations. It is the responsibility of the client to allow the users to choose bookmarks, and then translate them to endpoint ids to perform ls operations and submit transfers. In particular, the www.globus.org website has full support for bookmarks."
   ]
  },
  {
   "cell_type": "markdown",
   "metadata": {},
   "source": [
    "## Create a Bookmark"
   ]
  },
  {
   "cell_type": "code",
   "execution_count": null,
   "metadata": {
    "collapsed": false
   },
   "outputs": [],
   "source": [
    "bookmark_name = \"My Tutorial Bookmark\"\n",
    "endpoint_id = tutorial_endpoint_1\n",
    "endpoint_path = \"/share/godata/\"\n",
    "r = tc.create_bookmark({\"endpoint_id\":endpoint_id, \"path\":endpoint_path,\"name\":bookmark_name})\n",
    "bookmark_id = r.data['id']\n",
    "print(r)"
   ]
  },
  {
   "cell_type": "markdown",
   "metadata": {},
   "source": [
    "## Get a list of bookmarks"
   ]
  },
  {
   "cell_type": "code",
   "execution_count": null,
   "metadata": {
    "collapsed": false
   },
   "outputs": [],
   "source": [
    "r = tc.bookmark_list()\n",
    "for b in r:\n",
    "    print (b.data['name'], b.data['path'], b.data['id'])"
   ]
  },
  {
   "cell_type": "markdown",
   "metadata": {},
   "source": [
    "## Update a bookmark\n"
   ]
  },
  {
   "cell_type": "code",
   "execution_count": null,
   "metadata": {
    "collapsed": false
   },
   "outputs": [],
   "source": [
    "bookmark_data = {\n",
    "    'name': 'My Updated Tutorial Bookmark'\n",
    "}\n",
    "r = tc.update_bookmark(bookmark_id, bookmark_data)\n",
    "print (r)"
   ]
  },
  {
   "cell_type": "markdown",
   "metadata": {},
   "source": [
    "## Delete a Bookmark"
   ]
  },
  {
   "cell_type": "code",
   "execution_count": null,
   "metadata": {
    "collapsed": false
   },
   "outputs": [],
   "source": [
    "r = tc.delete_bookmark(bookmark_id)\n",
    "print (r)"
   ]
  },
  {
   "cell_type": "markdown",
   "metadata": {},
   "source": [
    "# Shared endpoints"
   ]
  },
  {
   "cell_type": "markdown",
   "metadata": {},
   "source": [
    "## Create a shared endpoint"
   ]
  },
  {
   "cell_type": "code",
   "execution_count": null,
   "metadata": {
    "collapsed": false
   },
   "outputs": [],
   "source": [
    "# create a dir to share\n",
    "endpoint_id = tutorial_endpoint_1\n",
    "endpoint_path = \"/~/shared_dir2\"\n",
    "try:\n",
    "    r = tc.operation_mkdir(endpoint_id, path=endpoint_path)\n",
    "except globus_sdk.GlobusAPIError as e:\n",
    "    # ignore the error if the directory already exists, otherwise raise\n",
    "    if \"Exists\" not in e.code:\n",
    "        raise\n",
    "\n",
    "# define the shared endpoint \n",
    "shared_ep = {\"DATA_TYPE\": \"shared_endpoint\",\n",
    "             \"host_endpoint\": tutorial_endpoint_1,\n",
    "             \"host_path\": endpoint_path,\n",
    "             \"display_name\":\"My Tutorial Shared Endpoint2\",\n",
    "             # optionally specify additional endpoint fields\n",
    "             \"description\": \"Test creating a share from GW-notebook\"\n",
    "             }\n",
    "\n",
    "r = tc.create_shared_endpoint(shared_ep)\n",
    "print(\"{}: {}\".format(r[\"code\"], r[\"message\"]))\n",
    "print(\"Endpoin ID\", r[\"id\"])\n",
    "shared_endpoint_id = r[\"id\"]"
   ]
  },
  {
   "cell_type": "markdown",
   "metadata": {},
   "source": [
    "## Get endpoint information"
   ]
  },
  {
   "cell_type": "code",
   "execution_count": null,
   "metadata": {
    "collapsed": false
   },
   "outputs": [],
   "source": [
    "r = tc.get_endpoint(shared_endpoint_id)\n",
    "print(\"Display name:\", r[\"display_name\"])\n",
    "print(\"Owner:\", r[\"owner_string\"])\n",
    "print(\"Host Endpoint ID:\", r[\"host_endpoint_id\"])"
   ]
  },
  {
   "cell_type": "markdown",
   "metadata": {},
   "source": [
    "## Get a list of shared endpoints"
   ]
  },
  {
   "cell_type": "code",
   "execution_count": null,
   "metadata": {
    "collapsed": false,
    "scrolled": true
   },
   "outputs": [],
   "source": [
    "endpoints = tc.endpoint_search(filter_scope=\"shared-by-me\")\n",
    "print(\"==== Displaying shared endpoints ===\")\n",
    "for r in endpoints:\n",
    "    print(\"{} ({})\".format(r[\"display_name\"], r[\"id\"]))\n"
   ]
  },
  {
   "cell_type": "markdown",
   "metadata": {},
   "source": [
    "## Access_manager role"
   ]
  },
  {
   "cell_type": "code",
   "execution_count": null,
   "metadata": {
    "collapsed": true
   },
   "outputs": [],
   "source": []
  },
  {
   "cell_type": "markdown",
   "metadata": {},
   "source": [
    "## Add a new access control rule\n",
    "\n",
    "You can share access to different paths within your shared endpoint with users, groups, or publically. Here is an example of sharing with the tutorial users group. "
   ]
  },
  {
   "cell_type": "code",
   "execution_count": null,
   "metadata": {
    "collapsed": false
   },
   "outputs": [],
   "source": [
    "rule_data = {\n",
    "    'DATA_TYPE': 'access',\n",
    "    'permissions': 'rw',\n",
    "    'principal' : tutorial_users_group,\n",
    "    'principal_type' : 'group',\n",
    "    #'principal': 'IDENTITY_ID',\n",
    "    #'principal_type': 'identity',\n",
    "    'path': '/'\n",
    "}\n",
    "\n",
    "r= tc.add_endpoint_acl_rule(shared_endpoint_id, rule_data)\n",
    "access_rule_id = r.data['access_id']\n",
    "print (r)"
   ]
  },
  {
   "cell_type": "markdown",
   "metadata": {},
   "source": [
    "## Get list off access rules"
   ]
  },
  {
   "cell_type": "code",
   "execution_count": null,
   "metadata": {
    "collapsed": false
   },
   "outputs": [],
   "source": [
    "r = tc.endpoint_acl_list(shared_endpoint_id)\n",
    "for a in r:\n",
    "    print (a.data['id'], a.data['principal_type'], a.data['principal'], a.data['permissions'], a.data['path'])"
   ]
  },
  {
   "cell_type": "markdown",
   "metadata": {},
   "source": [
    "## Get access rule by id"
   ]
  },
  {
   "cell_type": "code",
   "execution_count": null,
   "metadata": {
    "collapsed": false
   },
   "outputs": [],
   "source": [
    "r = tc.get_endpoint_acl_rule(shared_endpoint_id, access_rule_id)\n",
    "print (r)\n"
   ]
  },
  {
   "cell_type": "markdown",
   "metadata": {},
   "source": [
    "## Update access rule"
   ]
  },
  {
   "cell_type": "code",
   "execution_count": null,
   "metadata": {
    "collapsed": false
   },
   "outputs": [],
   "source": [
    "rule_data = {\n",
    "    'DATA_TYPE': 'access',\n",
    "    'permissions': 'r',\n",
    "    'principal' : tutorial_users_group,\n",
    "    'principal_type' : 'group',\n",
    "    'path': '/'\n",
    "}\n",
    "r = tc.update_endpoint_acl_rule(shared_endpoint_id, access_rule_id, rule_data)\n",
    "print (r)"
   ]
  },
  {
   "cell_type": "markdown",
   "metadata": {},
   "source": [
    "## Delete access rule"
   ]
  },
  {
   "cell_type": "code",
   "execution_count": null,
   "metadata": {
    "collapsed": false
   },
   "outputs": [],
   "source": [
    "r = tc.delete_endpoint_acl_rule(shared_endpoint_id, access_rule_id)\n",
    "print (r)"
   ]
  },
  {
   "cell_type": "markdown",
   "metadata": {},
   "source": [
    "## Draw a map of endpoints\n",
    "\n",
    "Note: to run this demo you will need to install folium. "
   ]
  },
  {
   "cell_type": "code",
   "execution_count": null,
   "metadata": {
    "collapsed": false
   },
   "outputs": [],
   "source": [
    "import folium\n",
    "\n",
    "# Public endpoints with location specified\n",
    "endpoints = ['9ff55858-c8fa-11e5-9a3f-22000b96db58', '1128704a-b547-11e5-9a03-22000b96db58', \n",
    " '2f3bae00-fd2a-11e5-a704-22000bf2d559', 'e4c16ea6-6d04-11e5-ba46-22000b92c6ec', \n",
    " 'd33b36ba-6d04-11e5-ba46-22000b92c6ec', 'ae399168-dbc9-11e5-9774-22000b9da45e', \n",
    " 'dabdcddb-6d04-11e5-ba46-22000b92c6ec', 'bb0449b2-e3ec-11e5-9798-22000b9da45e' ]\n",
    "\n",
    "# create the base map\n",
    "width, height = 900, 500\n",
    "ep_map = folium.Map(location=[37.372, -95.6972], zoom_start=1,\n",
    "                    tiles='OpenStreetMap', width=width, height=height)\n",
    "\n",
    "# add each endpoint to the map\n",
    "for e in endpoints: \n",
    "    r = tc.get_endpoint(e)\n",
    "    folium.Marker([r.data['location']], popup=r.data['display_name']).add_to(ep_map)\n",
    "\n",
    "ep_map"
   ]
  },
  {
   "cell_type": "code",
   "execution_count": null,
   "metadata": {
    "collapsed": true
   },
   "outputs": [],
   "source": []
  }
 ],
 "metadata": {
  "kernelspec": {
   "display_name": "Python 3",
   "language": "python",
   "name": "python3"
  },
  "language_info": {
   "codemirror_mode": {
    "name": "ipython",
    "version": 3
   },
   "file_extension": ".py",
   "mimetype": "text/x-python",
   "name": "python",
   "nbconvert_exporter": "python",
   "pygments_lexer": "ipython3",
   "version": "3.5.1"
  }
 },
 "nbformat": 4,
 "nbformat_minor": 0
}
