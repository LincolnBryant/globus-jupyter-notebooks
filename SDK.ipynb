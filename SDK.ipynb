{
 "cells": [
  {
   "cell_type": "markdown",
   "metadata": {},
   "source": [
    "<img src=\"./img/header.png\">\n",
    "# Globus SDK\n",
    "https://github.com/globus/globus-sdk-python\n",
    "\n",
    "\n",
    "# Globus SDK Docs\n",
    "http://globus.github.io/globus-sdk-python/\n",
    "\n",
    "\n",
    "# Globus CLI\n",
    "https://github.com/globus/globus-cli\n",
    "\n",
    "# Requirements\n",
    "- You need to be in the tutorial users group for sharing\n",
    "- Installed Globus Python SDK"
   ]
  },
  {
   "cell_type": "code",
   "execution_count": null,
   "metadata": {
    "collapsed": true
   },
   "outputs": [],
   "source": [
    "from __future__ import print_function # for python 2\n",
    "from globus_sdk import TransferClient\n",
    "\n",
    "tutorial_endpoint_1 = \"ddb59aef-6d04-11e5-ba46-22000b92c6ec\"\n",
    "tutorial_endpoint_2 = \"ddb59af0-6d04-11e5-ba46-22000b92c6ec\"\n",
    "\n",
    "tutorial_users_group = \"50b6a29c-63ac-11e4-8062-22000ab68755\""
   ]
  },
  {
   "cell_type": "markdown",
   "metadata": {},
   "source": [
    "# Configuration\n",
    "First you will need to configure the client with your access credentials. You can obtain OAuth2 access tokens via the tokens.globus.org website. Click the \"Jupyter Notebook\" option and copy the resutling text below. "
   ]
  },
  {
   "cell_type": "code",
   "execution_count": null,
   "metadata": {
    "collapsed": true
   },
   "outputs": [],
   "source": [
    "auth_token = ''\n",
    "transfer_token = ''"
   ]
  },
  {
   "cell_type": "markdown",
   "metadata": {},
   "source": [
    "# Transfer Client\n",
    "\n",
    "The Globus Python SDK makes transfer functionality avaialable via a TransferClient. "
   ]
  },
  {
   "cell_type": "markdown",
   "metadata": {},
   "source": [
    "## Instantiate Transfer Client\n",
    "\n",
    "The TransferClient can be instantiated by passing in a token or by using the token configured in your home directory (~/.globus.cfg). Tokens can be obtained via the tokens.globus.org site. "
   ]
  },
  {
   "cell_type": "code",
   "execution_count": null,
   "metadata": {
    "collapsed": false
   },
   "outputs": [],
   "source": [
    "tc = TransferClient(token=transfer_token) "
   ]
  },
  {
   "cell_type": "markdown",
   "metadata": {},
   "source": [
    "## Using the client\n",
    "\n",
    "The transfer client makes REST resources avaialble via easy to use methods. \n",
    "\n",
    "The response from these methods wraps the HTTP response status, content type, text and JSON response body. "
   ]
  },
  {
   "cell_type": "code",
   "execution_count": null,
   "metadata": {
    "collapsed": false
   },
   "outputs": [],
   "source": [
    "endpoint = tc.get_endpoint(tutorial_endpoint_1)\n",
    "print(\"HTTP Status: %s\" % endpoint.http_status)\n",
    "print(\"Content Type: %s\" % endpoint.content_type)\n",
    "print(\"Data: %s\" % endpoint.data) # raw response text can be obtained via endpoint.text_body or endpoint.json_body"
   ]
  },
  {
   "cell_type": "markdown",
   "metadata": {},
   "source": [
    "## Handling errors\n",
    "\n",
    "If an error occurs the API will throw an error."
   ]
  },
  {
   "cell_type": "code",
   "execution_count": null,
   "metadata": {
    "collapsed": false
   },
   "outputs": [],
   "source": [
    "try:\n",
    "    endpoint = tc.get_endpoint(\"BAD ENDPOINT ID\")\n",
    "except Exception as ex:\n",
    "    print(\"HTTP Status: %s\" % ex[0])\n",
    "    print(\"HTTP Error: %s\" % ex[1])\n",
    "    print(\"HTTP Message: %s\" % ex[2])"
   ]
  },
  {
   "cell_type": "markdown",
   "metadata": {},
   "source": [
    "# Endpoint management"
   ]
  },
  {
   "cell_type": "markdown",
   "metadata": {},
   "source": [
    "## Endpoint search by name\n",
    "\n",
    "Globus has over 8000 registered endpoints. To find endpoints of interest you can access powerful search capabilities via the SDK. For example, to search for a given string in a name: "
   ]
  },
  {
   "cell_type": "code",
   "execution_count": null,
   "metadata": {
    "collapsed": false,
    "scrolled": true
   },
   "outputs": [],
   "source": [
    "search_str = \"Globus Tutorial Endpoint\"\n",
    "endpoints = tc.endpoint_search(search_str)\n",
    "print(\"==== Displaying endpoint matches for search: '%s' ===\"%search_str)\n",
    "for r in endpoints:\n",
    "    print(\"%s (%s)\"%(r.data[\"display_name\"], r.data[\"id\"]))"
   ]
  },
  {
   "cell_type": "markdown",
   "metadata": {},
   "source": [
    "## Restricting search scope with filters\n",
    "\n",
    "There are also a number of default filters to restrict the search for 'my-endpoints', 'my-gcp-endpoints',     'recently-used', 'in-use', 'shared-by-me','shared-with-me') "
   ]
  },
  {
   "cell_type": "code",
   "execution_count": null,
   "metadata": {
    "collapsed": false
   },
   "outputs": [],
   "source": [
    "endpoints = tc.endpoint_search(\n",
    "        filter_fulltext=search_str, filter_scope=\"recently-used\")\n",
    "for r in endpoints:\n",
    "    print(\"%s (%s)\"%(r.data[\"display_name\"], r.data[\"id\"]))"
   ]
  },
  {
   "cell_type": "markdown",
   "metadata": {},
   "source": [
    "## Endpoint details\n",
    "\n",
    "You can also retrieve complete information about an endpoing, including name, owner, location, and server configurations. "
   ]
  },
  {
   "cell_type": "code",
   "execution_count": null,
   "metadata": {
    "collapsed": false
   },
   "outputs": [],
   "source": [
    "endpoint = tc.get_endpoint(tutorial_endpoint_1)\n",
    "print(\"Display name: %s\" % endpoint.data[\"display_name\"])\n",
    "print(\"Owner: %s\" % endpoint.data[\"owner_string\"])\n",
    "print(\"ID: %s\" % endpoint.data[\"id\"])"
   ]
  },
  {
   "cell_type": "markdown",
   "metadata": {},
   "source": [
    "# File operations"
   ]
  },
  {
   "cell_type": "markdown",
   "metadata": {},
   "source": [
    "## Path encoding & UTF gotchas"
   ]
  },
  {
   "cell_type": "code",
   "execution_count": null,
   "metadata": {
    "collapsed": true
   },
   "outputs": [],
   "source": []
  },
  {
   "cell_type": "markdown",
   "metadata": {},
   "source": [
    "## Autoactivate Endpoints\n",
    "Globus endpoints must be \"activated\" before they can be used. Many endpoints (e.g., Globus Connect Personal and Shared endpoints) can be \"autoactivated\" using your active Globus identities.For endpoints that require activatino (e.g., MyProxy and MyProxy OAuth) you can activate those endpoints via the Globus website. Here we autoactivate the Globus tutorial endpoints using their endpoint_ids"
   ]
  },
  {
   "cell_type": "code",
   "execution_count": null,
   "metadata": {
    "collapsed": false
   },
   "outputs": [],
   "source": [
    "#help(tc.endpoint_activate)\n",
    "ep1 = tc.endpoint_autoactivate(tutorial_endpoint_1)\n",
    "ep2 = tc.endpoint_autoactivate(tutorial_endpoint_2)\n",
    "print (ep1.data[\"message\"])"
   ]
  },
  {
   "cell_type": "raw",
   "metadata": {},
   "source": [
    "## Activating a MyProxy endpoint\n",
    "\n",
    "For endpoints that cannot be autoactivated you can use the SDK to discover activation requirements. If the endpoint supports username/password activation you may complete the resulting activation requirements document and use it to activate the endpoint."
   ]
  },
  {
   "cell_type": "code",
   "execution_count": null,
   "metadata": {
    "collapsed": false
   },
   "outputs": [],
   "source": [
    "# retrieve activation requirements\n",
    "#activation_ep = tc.endpoint_get_activation_requirements(myproxy_endpoint)\n",
    "#requirements = activation_ep.data['DATA']\n",
    "\n",
    "# complete the requirements document with credentials\n",
    "#for r in requirements: \n",
    "#    if r[\"name\"] == \"username\":\n",
    "#        r[\"value\"] = myproxy_username\n",
    "#    elif r[\"name\"] == \"passphrase\":\n",
    "#        r[\"value\"] = myproxy_password\n",
    "\n",
    "# activate the endpoint using the completed requirements\n",
    "#activated_ep = tc.endpoint_activate(myproxy_endpoint, requirements)\n",
    "#print(activated_ep)"
   ]
  },
  {
   "cell_type": "markdown",
   "metadata": {},
   "source": [
    "## Get a directory listing\n",
    "\n",
    "Having activated an endpoint you can now perform operations on it. For example, performing an ls command to retrieve directory contents. "
   ]
  },
  {
   "cell_type": "code",
   "execution_count": null,
   "metadata": {
    "collapsed": false
   },
   "outputs": [],
   "source": [
    "# help(tc.operation_ls)\n",
    "endpoint_id = tutorial_endpoint_1\n",
    "endpoint_path = '/share/godata/'\n",
    "r = tc.operation_ls(endpoint_id,path=endpoint_path)\n",
    "print(\"==== Endpoint_ls for endpoint %s %s ====\"%(endpoint_id,endpoint_path))\n",
    "for item in r.data['DATA']:\n",
    "    print(\"%s: %s [%s]\"%(item['type'],item['name'],item['size']))"
   ]
  },
  {
   "cell_type": "markdown",
   "metadata": {},
   "source": [
    "## Make directory"
   ]
  },
  {
   "cell_type": "code",
   "execution_count": null,
   "metadata": {
    "collapsed": false
   },
   "outputs": [],
   "source": [
    "#help(tc.operation_mkdir)\n",
    "endpoint_id = tutorial_endpoint_1\n",
    "endpoint_path = '/~/tutorial_dir'\n",
    "r = tc.operation_mkdir(endpoint_id,path=endpoint_path)\n",
    "print(r.data[\"message\"])"
   ]
  },
  {
   "cell_type": "markdown",
   "metadata": {},
   "source": [
    "## Rename\n",
    "\n",
    "You can rename files and directories on your endpoints. "
   ]
  },
  {
   "cell_type": "code",
   "execution_count": null,
   "metadata": {
    "collapsed": false
   },
   "outputs": [],
   "source": [
    "#help(tc.operation_rename)\n",
    "endpoint_id = tutorial_endpoint_1\n",
    "r = tc.operation_rename(endpoint_id, oldpath=\"/~/tutorial_dir\",\n",
    "                    newpath=\"/~/tutorial_dir_renamed\")\n",
    "print (r.data[\"message\"])"
   ]
  },
  {
   "cell_type": "markdown",
   "metadata": {},
   "source": [
    "## Deactivating Endpoints\n",
    "\n",
    "After using an endpoint you can deactivate it so that it cannot be used until it is reactivated. "
   ]
  },
  {
   "cell_type": "code",
   "execution_count": null,
   "metadata": {
    "collapsed": false
   },
   "outputs": [],
   "source": [
    "r = tc.endpoint_deactivate(tutorial_endpoint_1)\n",
    "print (r.data[\"message\"])"
   ]
  },
  {
   "cell_type": "markdown",
   "metadata": {},
   "source": [
    "# Task submission and management\n",
    "\n",
    "The Globus task interface allows you to create and manage asynchronous transfer tasks. "
   ]
  },
  {
   "cell_type": "markdown",
   "metadata": {},
   "source": [
    "## Transfer\n",
    "\n",
    "Creating a transfer is a two stage process. First you must create a description of the data you want to transfer and then you can submit the request to Globus to transfer that data. \n"
   ]
  },
  {
   "cell_type": "code",
   "execution_count": null,
   "metadata": {
    "collapsed": false
   },
   "outputs": [],
   "source": [
    "# help(tc.submit_transfer)\n",
    "source_endpoint_id = tutorial_endpoint_1\n",
    "source_path = '/share/godata/'\n",
    "\n",
    "dest_endpoint_id = tutorial_endpoint_2\n",
    "dest_path = '/~/'\n",
    "\n",
    "label = \"My tutorial transfer\"\n",
    "\n",
    "transfer_items = []\n",
    "\n",
    "## Recursively transfer source path contents\n",
    "transfer_items.append(\n",
    "    tc.make_submit_transfer_item(source_path,\n",
    "                                 dest_path,\n",
    "                                 recursive=True))\n",
    "## Alternatively, transfer a specific file\n",
    "# transfer_items.append(\n",
    "#     tc.make_submit_transfer_item(\"/source/path/file.txt\",\n",
    "#                                  \"/dest/path/file.txt\"))\n",
    "\n",
    "# Ensure endpoints are activated\n",
    "ep1 = tc.endpoint_autoactivate(tutorial_endpoint_1)\n",
    "ep2 = tc.endpoint_autoactivate(tutorial_endpoint_2)\n",
    "\n",
    "transfer_data = tc.make_submit_transfer_data(\n",
    "    source_endpoint_id,\n",
    "    dest_endpoint_id,\n",
    "    transfer_items, label=label)\n",
    "transfer_result = tc.submit_transfer(transfer_data)\n",
    "task_id = transfer_result.data[\"task_id\"]\n",
    "print(\"Task ID: %s\" % task_id)"
   ]
  },
  {
   "cell_type": "markdown",
   "metadata": {},
   "source": [
    "## Get Task By ID\n",
    "\n",
    "While the task is running, or after completion, you can get information that describes the transfer task. "
   ]
  },
  {
   "cell_type": "code",
   "execution_count": null,
   "metadata": {
    "collapsed": false
   },
   "outputs": [],
   "source": [
    "r = tc.get_task(transfer_result.data['task_id'])\n",
    "print (\"Label: %s\" % r.data[\"label\"])\n",
    "print (\"Status: %s\" % r.data[\"status\"])\n",
    "print (\"Transfer: %s -> %s\" %(r.data[\"source_endpoint_display_name\"], r.data[\"destination_endpoint_display_name\"]))\n",
    "    \n",
    "if r.data[\"status\"] == \"SUCCEEDED\":\n",
    "    print (\"Bytes transferred: %s\" % r.data[\"bytes_transferred\"])\n",
    "    print (\"Files transferred: %s\" % r.data[\"files_transferred\"])\n",
    "    print (\"Transfer rate: %s bps\" % r.data[\"effective_bytes_per_second\"])"
   ]
  },
  {
   "cell_type": "markdown",
   "metadata": {},
   "source": [
    "## Check destination endpoint\n",
    "\n",
    "After the transfer has finished you can list the contents of the destination endpoint"
   ]
  },
  {
   "cell_type": "code",
   "execution_count": null,
   "metadata": {
    "collapsed": false
   },
   "outputs": [],
   "source": [
    "r = tc.operation_ls(dest_endpoint_id,path=dest_path)\n",
    "print(\"==== Endpoint_ls for endpoint %s %s ====\"%(dest_endpoint_id,dest_path))\n",
    "for item in r.data['DATA']:\n",
    "    print(\"%s: %s [%s]\"%(item['type'],item['name'],item['size']))"
   ]
  },
  {
   "cell_type": "markdown",
   "metadata": {},
   "source": [
    "## Get task list\n",
    "\n",
    "You can get a list of past or current tasks with the following call. Note, you can also use a variety of filters to control the scope of results. "
   ]
  },
  {
   "cell_type": "code",
   "execution_count": null,
   "metadata": {
    "collapsed": false
   },
   "outputs": [],
   "source": [
    "# help(tc.task_list)\n",
    "r = tc.task_list(num_results=10)\n",
    "for i,item in enumerate(r):\n",
    "    print(item.data['status'],\n",
    "          item.data['task_id'], \n",
    "          item.data['type'],\n",
    "          item.data['source_endpoint_display_name'],\n",
    "          item.data['destination_endpoint_display_name'],\n",
    "          item.data['label'])"
   ]
  },
  {
   "cell_type": "markdown",
   "metadata": {},
   "source": [
    "## Filter task list\n",
    "\n",
    "Retrieve only active tasks.  TODO: Link to filters. "
   ]
  },
  {
   "cell_type": "code",
   "execution_count": null,
   "metadata": {
    "collapsed": false
   },
   "outputs": [],
   "source": [
    "r = tc.task_list(num_results=10, filter=\"status:ACTIVE\")\n",
    "for i,item in enumerate(r):\n",
    "    print(item.data['status'],\n",
    "          item.data['task_id'], \n",
    "          item.data['type'],\n",
    "          item.data['source_endpoint_display_name'],\n",
    "          item.data['destination_endpoint_display_name'],\n",
    "          item.data['label'])"
   ]
  },
  {
   "cell_type": "markdown",
   "metadata": {},
   "source": [
    "## Update task by id \n",
    "\n",
    "You can make changes to a task while is is still running. For exmaple, updating the label or deadline. "
   ]
  },
  {
   "cell_type": "code",
   "execution_count": null,
   "metadata": {
    "collapsed": false
   },
   "outputs": [],
   "source": [
    "#help(tc.update_task)\n",
    "task_doc = {\n",
    "        'DATA_TYPE': 'task',\n",
    "        'label' : 'updated tutorial label'\n",
    "}\n",
    "\n",
    "tc.update_task(task_id, task_doc)\n",
    "\n",
    "r = tc.get_task(task_id)\n",
    "print (\"Label: %s\" % r.data[\"label\"])\n"
   ]
  },
  {
   "cell_type": "markdown",
   "metadata": {},
   "source": [
    "## Cancel task\n",
    "\n",
    "You can also cancel a running task. "
   ]
  },
  {
   "cell_type": "code",
   "execution_count": null,
   "metadata": {
    "collapsed": false
   },
   "outputs": [],
   "source": [
    "#help(tc.cancel_task)\n",
    "r = tc.cancel_task(task_id)\n",
    "print (r.data[\"message\"])"
   ]
  },
  {
   "cell_type": "markdown",
   "metadata": {},
   "source": [
    "## Get event list for task\n",
    "\n",
    "Every task stores periodic event markers (e.g., errors, performance markers, etc.) You can retrieve and filter this list as follows. "
   ]
  },
  {
   "cell_type": "code",
   "execution_count": null,
   "metadata": {
    "collapsed": false
   },
   "outputs": [],
   "source": [
    "#help(tc.task_event_list)\n",
    "r = tc.task_event_list(task_id, num_results=10)\n",
    "for e in r:\n",
    "    print (e.data['time'], e.data['code'], e.data['is_error'], e.data['details'])\n"
   ]
  },
  {
   "cell_type": "markdown",
   "metadata": {},
   "source": [
    "## Get task pause info"
   ]
  },
  {
   "cell_type": "code",
   "execution_count": null,
   "metadata": {
    "collapsed": false
   },
   "outputs": [],
   "source": [
    "#help(tc.task_pause_info)\n",
    "r = tc.task_pause_info(task_id)\n",
    "print (r)"
   ]
  },
  {
   "cell_type": "markdown",
   "metadata": {},
   "source": [
    "# Bookmarks\n",
    "\n",
    "Bookmarks allow you to keep a list of frequently used endpoints and paths. Full management capabilities (create, retrieve, update, delete) are supported on bookmarks. "
   ]
  },
  {
   "cell_type": "markdown",
   "metadata": {},
   "source": [
    "## Create a Bookmark"
   ]
  },
  {
   "cell_type": "code",
   "execution_count": null,
   "metadata": {
    "collapsed": false
   },
   "outputs": [],
   "source": [
    "bookmark_name = \"My Tutorial Bookmark\"\n",
    "endpoint_id = tutorial_endpoint_1\n",
    "endpoint_path = '/share/godata/'\n",
    "r = tc.create_bookmark({\"endpoint_id\":endpoint_id, \"path\":endpoint_path,\"name\":bookmark_name})\n",
    "bookmark_id = r.data['id']\n",
    "print(r)"
   ]
  },
  {
   "cell_type": "markdown",
   "metadata": {},
   "source": [
    "## Get a list of bookmarks"
   ]
  },
  {
   "cell_type": "code",
   "execution_count": null,
   "metadata": {
    "collapsed": false
   },
   "outputs": [],
   "source": [
    "r = tc.bookmark_list()\n",
    "for b in r:\n",
    "    print (b.data['name'], b.data['path'], b.data['id'])"
   ]
  },
  {
   "cell_type": "markdown",
   "metadata": {},
   "source": [
    "## Update a bookmark\n"
   ]
  },
  {
   "cell_type": "code",
   "execution_count": null,
   "metadata": {
    "collapsed": false
   },
   "outputs": [],
   "source": [
    "bookmark_data = {\n",
    "    'name': 'My Updated Tutorial Bookmark'\n",
    "}\n",
    "r = tc.update_bookmark(bookmark_id, bookmark_data)\n",
    "print (r)"
   ]
  },
  {
   "cell_type": "markdown",
   "metadata": {},
   "source": [
    "## Delete a Bookmark"
   ]
  },
  {
   "cell_type": "code",
   "execution_count": null,
   "metadata": {
    "collapsed": false
   },
   "outputs": [],
   "source": [
    "r = tc.delete_bookmark(bookmark_id)\n",
    "print (r)"
   ]
  },
  {
   "cell_type": "markdown",
   "metadata": {},
   "source": [
    "# Shared endpoints"
   ]
  },
  {
   "cell_type": "markdown",
   "metadata": {},
   "source": [
    "## Create a shared endpoint"
   ]
  },
  {
   "cell_type": "code",
   "execution_count": null,
   "metadata": {
    "collapsed": false
   },
   "outputs": [],
   "source": [
    "# create a dir to share\n",
    "endpoint_id = tutorial_endpoint_1\n",
    "endpoint_path = '/~/shared_dir2'\n",
    "r = tc.operation_mkdir(endpoint_id,path=endpoint_path)\n",
    "\n",
    "# define the shared endpoint \n",
    "shared_ep = {\"DATA_TYPE\":\"endpoint\",\n",
    "             \"host_endpoint\":  tutorial_endpoint_1,\n",
    "             \"host_path\":endpoint_path,\n",
    "             \"display_name\":\"My Tutorial Shared Endpoint2\",\n",
    "             \"description\":\"\",\n",
    "             \"keywords\":\"\",\n",
    "             \"contact_email\":None,\n",
    "             \"info_link\":None,\n",
    "             \"force_encryption\":False}\n",
    "\n",
    "r = tc.post(\"shared_endpoint\", shared_ep)\n",
    "shared_endpoint_id = r.data['id']\n",
    "print (r)\n"
   ]
  },
  {
   "cell_type": "markdown",
   "metadata": {},
   "source": [
    "## Get endpoint information"
   ]
  },
  {
   "cell_type": "code",
   "execution_count": null,
   "metadata": {
    "collapsed": false
   },
   "outputs": [],
   "source": [
    "r = tc.get_endpoint(shared_endpoint_id)\n",
    "print(\"Display name: %s\" % r.data[\"display_name\"])\n",
    "print(\"Owner: %s\" % r.data[\"owner_string\"])\n",
    "print(\"Host Endpoint ID: %s\" % r.data[\"host_endpoint_id\"])"
   ]
  },
  {
   "cell_type": "markdown",
   "metadata": {},
   "source": [
    "## Get a list of shared endpoints"
   ]
  },
  {
   "cell_type": "code",
   "execution_count": null,
   "metadata": {
    "collapsed": false,
    "scrolled": true
   },
   "outputs": [],
   "source": [
    "endpoints = tc.endpoint_search(filter_scope=\"shared-by-me\")\n",
    "print(\"==== Displaying shared endpoints ===\")\n",
    "for r in endpoints:\n",
    "    print(\"%s (%s)\"%(r.data[\"display_name\"], r.data[\"id\"]))\n"
   ]
  },
  {
   "cell_type": "markdown",
   "metadata": {},
   "source": [
    "## Access_manager role"
   ]
  },
  {
   "cell_type": "code",
   "execution_count": null,
   "metadata": {
    "collapsed": true
   },
   "outputs": [],
   "source": []
  },
  {
   "cell_type": "markdown",
   "metadata": {},
   "source": [
    "## Add a new access control rule\n",
    "\n",
    "You can share access to different paths within your shared endpoint with users, groups, or publically. Here is an example of sharing with the tutorial users group. "
   ]
  },
  {
   "cell_type": "code",
   "execution_count": null,
   "metadata": {
    "collapsed": false
   },
   "outputs": [],
   "source": [
    "rule_data = {\n",
    "    'DATA_TYPE': 'access',\n",
    "    'permissions': 'rw',\n",
    "    'principal' : tutorial_users_group,\n",
    "    'principal_type' : 'group',\n",
    "    #'principal': 'IDENTITY_ID',\n",
    "    #'principal_type': 'identity',\n",
    "    'path': '/'\n",
    "}\n",
    "\n",
    "r= tc.add_endpoint_acl_rule(shared_endpoint_id, rule_data)\n",
    "access_rule_id = r.data['access_id']\n",
    "print (r)"
   ]
  },
  {
   "cell_type": "markdown",
   "metadata": {},
   "source": [
    "## Get list off access rules"
   ]
  },
  {
   "cell_type": "code",
   "execution_count": null,
   "metadata": {
    "collapsed": false
   },
   "outputs": [],
   "source": [
    "r = tc.endpoint_acl_list(shared_endpoint_id)\n",
    "for a in r:\n",
    "    print (a.data['id'], a.data['principal_type'], a.data['principal'], a.data['permissions'], a.data['path'])"
   ]
  },
  {
   "cell_type": "markdown",
   "metadata": {},
   "source": [
    "## Get access rule by id"
   ]
  },
  {
   "cell_type": "code",
   "execution_count": null,
   "metadata": {
    "collapsed": false
   },
   "outputs": [],
   "source": [
    "r = tc.get_endpoint_acl_rule(shared_endpoint_id, access_rule_id)\n",
    "print (r)\n"
   ]
  },
  {
   "cell_type": "markdown",
   "metadata": {},
   "source": [
    "## Update access rule"
   ]
  },
  {
   "cell_type": "code",
   "execution_count": null,
   "metadata": {
    "collapsed": false
   },
   "outputs": [],
   "source": [
    "rule_data = {\n",
    "    'DATA_TYPE': 'access',\n",
    "    'permissions': 'r',\n",
    "    'principal' : tutorial_users_group,\n",
    "    'principal_type' : 'group',\n",
    "    'path': '/'\n",
    "}\n",
    "r = tc.update_endpoint_acl_rule(shared_endpoint_id, access_rule_id, rule_data)\n",
    "print (r)"
   ]
  },
  {
   "cell_type": "markdown",
   "metadata": {},
   "source": [
    "## Delete access rule"
   ]
  },
  {
   "cell_type": "code",
   "execution_count": null,
   "metadata": {
    "collapsed": false
   },
   "outputs": [],
   "source": [
    "r = tc.delete_endpoint_acl_rule(shared_endpoint_id, access_rule_id)\n",
    "print (r)"
   ]
  }
 ],
 "metadata": {
  "kernelspec": {
   "display_name": "Python 2",
   "language": "python",
   "name": "python2"
  },
  "language_info": {
   "codemirror_mode": {
    "name": "ipython",
    "version": 2
   },
   "file_extension": ".py",
   "mimetype": "text/x-python",
   "name": "python",
   "nbconvert_exporter": "python",
   "pygments_lexer": "ipython2",
   "version": "2.7.6"
  }
 },
 "nbformat": 4,
 "nbformat_minor": 0
}
