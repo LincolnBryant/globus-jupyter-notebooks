{
 "cells": [
  {
   "cell_type": "markdown",
   "metadata": {},
   "source": [
    "<img src=\"./img/header.png\">\n",
    "# Globus SDK\n",
    "https://github.com/globus/globus-sdk-python\n",
    "\n",
    "\n",
    "# Globus SDK Docs\n",
    "http://globus.github.io/globus-sdk-python/\n",
    "\n",
    "\n",
    "# Globus CLI\n",
    "https://github.com/globus/globus-cli\n",
    "\n",
    "# Requirements\n",
    "- You need to be in the tutorial users group for sharing\n",
    "- Installed Globus Python SDK"
   ]
  },
  {
   "cell_type": "code",
   "execution_count": 23,
   "metadata": {
    "collapsed": true
   },
   "outputs": [],
   "source": [
    "from __future__ import print_function # for python 2\n",
    "from globus_sdk import TransferClient\n",
    "\n",
    "tutorial_endpoint_1 = \"ddb59aef-6d04-11e5-ba46-22000b92c6ec\"\n",
    "tutorial_endpoint_2 = \"ddb59af0-6d04-11e5-ba46-22000b92c6ec\"\n",
    "\n",
    "tutorial_users_group = \"50b6a29c-63ac-11e4-8062-22000ab68755\""
   ]
  },
  {
   "cell_type": "markdown",
   "metadata": {},
   "source": [
    "# Configuration\n",
    "First you will need to configure the client with your access credentials. You can obtain OAuth2 access tokens via the tokens.globus.org website. Click the \"Jupyter Notebook\" option and copy the resutling text below. "
   ]
  },
  {
   "cell_type": "code",
   "execution_count": 24,
   "metadata": {
    "collapsed": true
   },
   "outputs": [],
   "source": [
    "auth_token = ''\n",
    "transfer_token = ''"
   ]
  },
  {
   "cell_type": "markdown",
   "metadata": {},
   "source": [
    "# Transfer Client\n",
    "\n",
    "The Globus Python SDK makes transfer functionality avaialable via a TransferClient. "
   ]
  },
  {
   "cell_type": "markdown",
   "metadata": {},
   "source": [
    "## Instantiate Transfer Client\n",
    "\n",
    "The TransferClient can be instantiated by passing in a token or by using the token configured in your home directory (~/.globus.cfg). Tokens can be obtained via the tokens.globus.org site. "
   ]
  },
  {
   "cell_type": "code",
   "execution_count": 25,
   "metadata": {
    "collapsed": false
   },
   "outputs": [],
   "source": [
    "tc = TransferClient(token=transfer_token) "
   ]
  },
  {
   "cell_type": "markdown",
   "metadata": {},
   "source": [
    "## Using the client\n",
    "\n",
    "The transfer client makes REST resources avaialble via easy to use methods. \n",
    "\n",
    "The response from these methods wraps the HTTP response status, content type, text and JSON response body. "
   ]
  },
  {
   "cell_type": "code",
   "execution_count": null,
   "metadata": {
    "collapsed": false
   },
   "outputs": [],
   "source": [
    "endpoint = tc.get_endpoint(tutorial_endpoint_1)\n",
    "print(\"HTTP Status: %s\" % endpoint.http_status)\n",
    "print(\"Content Type: %s\" % endpoint.content_type)\n",
    "print(\"Data: %s\" % endpoint.data) # raw response text can be obtained via endpoint.text_body or endpoint.json_body"
   ]
  },
  {
   "cell_type": "markdown",
   "metadata": {},
   "source": [
    "## Handling errors\n",
    "\n",
    "If an error occurs the API will throw an error."
   ]
  },
  {
   "cell_type": "code",
   "execution_count": null,
   "metadata": {
    "collapsed": false
   },
   "outputs": [],
   "source": [
    "try:\n",
    "    endpoint = tc.get_endpoint(\"BAD ENDPOINT ID\")\n",
    "except Exception as ex:\n",
    "    print(\"HTTP Status: %s\" % ex.http_status)\n",
    "    print(\"HTTP Error: %s\" % ex.code)\n",
    "    print(\"HTTP Message: %s\" % ex.message)"
   ]
  },
  {
   "cell_type": "markdown",
   "metadata": {},
   "source": [
    "# Endpoint management"
   ]
  },
  {
   "cell_type": "markdown",
   "metadata": {},
   "source": [
    "## Endpoint search by name\n",
    "\n",
    "Globus has over 8000 registered endpoints. To find endpoints of interest you can access powerful search capabilities via the SDK. For example, to search for a given string in a name: "
   ]
  },
  {
   "cell_type": "code",
   "execution_count": null,
   "metadata": {
    "collapsed": false,
    "scrolled": true
   },
   "outputs": [],
   "source": [
    "search_str = \"Globus Tutorial Endpoint\"\n",
    "endpoints = tc.endpoint_search(search_str)\n",
    "print(\"==== Displaying endpoint matches for search: '%s' ===\"%search_str)\n",
    "for r in endpoints:\n",
    "    print(\"%s (%s)\"%(r.data[\"display_name\"], r.data[\"id\"]))"
   ]
  },
  {
   "cell_type": "markdown",
   "metadata": {},
   "source": [
    "## Restricting search scope with filters\n",
    "\n",
    "There are also a number of default filters to restrict the search for 'my-endpoints', 'my-gcp-endpoints',     'recently-used', 'in-use', 'shared-by-me','shared-with-me') "
   ]
  },
  {
   "cell_type": "code",
   "execution_count": null,
   "metadata": {
    "collapsed": false
   },
   "outputs": [],
   "source": [
    "endpoints = tc.endpoint_search(\n",
    "        filter_fulltext=search_str, filter_scope=\"recently-used\")\n",
    "for r in endpoints:\n",
    "    print(\"%s (%s)\"%(r.data[\"display_name\"], r.data[\"id\"]))"
   ]
  },
  {
   "cell_type": "markdown",
   "metadata": {},
   "source": [
    "## Endpoint details\n",
    "\n",
    "You can also retrieve complete information about an endpoing, including name, owner, location, and server configurations. "
   ]
  },
  {
   "cell_type": "code",
   "execution_count": null,
   "metadata": {
    "collapsed": false
   },
   "outputs": [],
   "source": [
    "endpoint = tc.get_endpoint(tutorial_endpoint_1)\n",
    "print(\"Display name: %s\" % endpoint.data[\"display_name\"])\n",
    "print(\"Owner: %s\" % endpoint.data[\"owner_string\"])\n",
    "print(\"ID: %s\" % endpoint.data[\"id\"])"
   ]
  },
  {
   "cell_type": "markdown",
   "metadata": {},
   "source": [
    "# File operations"
   ]
  },
  {
   "cell_type": "markdown",
   "metadata": {},
   "source": [
    "## Path encoding & UTF gotchas"
   ]
  },
  {
   "cell_type": "code",
   "execution_count": null,
   "metadata": {
    "collapsed": true
   },
   "outputs": [],
   "source": []
  },
  {
   "cell_type": "markdown",
   "metadata": {},
   "source": [
    "## Autoactivate Endpoints\n",
    "Globus endpoints must be \"activated\" before they can be used. Many endpoints (e.g., Globus Connect Personal and Shared endpoints) can be \"autoactivated\" using your active Globus identities.For endpoints that require activatino (e.g., MyProxy and MyProxy OAuth) you can activate those endpoints via the Globus website. Here we autoactivate the Globus tutorial endpoints using their endpoint_ids"
   ]
  },
  {
   "cell_type": "code",
   "execution_count": null,
   "metadata": {
    "collapsed": false
   },
   "outputs": [],
   "source": [
    "#help(tc.endpoint_activate)\n",
    "ep1 = tc.endpoint_autoactivate(tutorial_endpoint_1)\n",
    "ep2 = tc.endpoint_autoactivate(tutorial_endpoint_2)\n",
    "print (ep1.data[\"message\"])"
   ]
  },
  {
   "cell_type": "raw",
   "metadata": {},
   "source": [
    "## Activating a MyProxy endpoint\n",
    "\n",
    "For endpoints that cannot be autoactivated you can use the SDK to discover activation requirements. If the endpoint supports username/password activation you may complete the resulting activation requirements document and use it to activate the endpoint."
   ]
  },
  {
   "cell_type": "code",
   "execution_count": null,
   "metadata": {
    "collapsed": false
   },
   "outputs": [],
   "source": [
    "# retrieve activation requirements\n",
    "#activation_ep = tc.endpoint_get_activation_requirements(myproxy_endpoint)\n",
    "#requirements = activation_ep.data['DATA']\n",
    "\n",
    "# complete the requirements document with credentials\n",
    "#for r in requirements: \n",
    "#    if r[\"name\"] == \"username\":\n",
    "#        r[\"value\"] = myproxy_username\n",
    "#    elif r[\"name\"] == \"passphrase\":\n",
    "#        r[\"value\"] = myproxy_password\n",
    "\n",
    "# activate the endpoint using the completed requirements\n",
    "#activated_ep = tc.endpoint_activate(myproxy_endpoint, requirements)\n",
    "#print(activated_ep)"
   ]
  },
  {
   "cell_type": "markdown",
   "metadata": {},
   "source": [
    "## Get a directory listing\n",
    "\n",
    "Having activated an endpoint you can now perform operations on it. For example, performing an ls command to retrieve directory contents. "
   ]
  },
  {
   "cell_type": "code",
   "execution_count": null,
   "metadata": {
    "collapsed": false
   },
   "outputs": [],
   "source": [
    "# help(tc.operation_ls)\n",
    "endpoint_id = tutorial_endpoint_1\n",
    "endpoint_path = '/share/godata/'\n",
    "r = tc.operation_ls(endpoint_id,path=endpoint_path)\n",
    "print(\"==== Endpoint_ls for endpoint %s %s ====\"%(endpoint_id,endpoint_path))\n",
    "for item in r.data['DATA']:\n",
    "    print(\"%s: %s [%s]\"%(item['type'],item['name'],item['size']))"
   ]
  },
  {
   "cell_type": "markdown",
   "metadata": {},
   "source": [
    "## Make directory"
   ]
  },
  {
   "cell_type": "code",
   "execution_count": null,
   "metadata": {
    "collapsed": false
   },
   "outputs": [],
   "source": [
    "#help(tc.operation_mkdir)\n",
    "endpoint_id = tutorial_endpoint_1\n",
    "endpoint_path = '/~/tutorial_dir'\n",
    "r = tc.operation_mkdir(endpoint_id,path=endpoint_path)\n",
    "print(r.data[\"message\"])"
   ]
  },
  {
   "cell_type": "markdown",
   "metadata": {},
   "source": [
    "## Rename\n",
    "\n",
    "You can rename files and directories on your endpoints. "
   ]
  },
  {
   "cell_type": "code",
   "execution_count": null,
   "metadata": {
    "collapsed": false
   },
   "outputs": [],
   "source": [
    "#help(tc.operation_rename)\n",
    "endpoint_id = tutorial_endpoint_1\n",
    "r = tc.operation_rename(endpoint_id, oldpath=\"/~/tutorial_dir\",\n",
    "                    newpath=\"/~/tutorial_dir_renamed\")\n",
    "print (r.data[\"message\"])"
   ]
  },
  {
   "cell_type": "markdown",
   "metadata": {},
   "source": [
    "## Deactivating Endpoints\n",
    "\n",
    "After using an endpoint you can deactivate it so that it cannot be used until it is reactivated. "
   ]
  },
  {
   "cell_type": "code",
   "execution_count": null,
   "metadata": {
    "collapsed": false
   },
   "outputs": [],
   "source": [
    "r = tc.endpoint_deactivate(tutorial_endpoint_1)\n",
    "print (r.data[\"message\"])"
   ]
  },
  {
   "cell_type": "markdown",
   "metadata": {},
   "source": [
    "# Task submission and management\n",
    "\n",
    "The Globus task interface allows you to create and manage asynchronous transfer tasks. "
   ]
  },
  {
   "cell_type": "markdown",
   "metadata": {},
   "source": [
    "## Transfer\n",
    "\n",
    "Creating a transfer is a two stage process. First you must create a description of the data you want to transfer and then you can submit the request to Globus to transfer that data. \n"
   ]
  },
  {
   "cell_type": "code",
   "execution_count": null,
   "metadata": {
    "collapsed": false
   },
   "outputs": [],
   "source": [
    "# help(tc.submit_transfer)\n",
    "source_endpoint_id = tutorial_endpoint_1\n",
    "source_path = '/share/godata/'\n",
    "\n",
    "dest_endpoint_id = tutorial_endpoint_2\n",
    "dest_path = '/~/'\n",
    "\n",
    "label = \"My tutorial transfer\"\n",
    "\n",
    "transfer_items = []\n",
    "\n",
    "## Recursively transfer source path contents\n",
    "transfer_items.append(\n",
    "    tc.make_submit_transfer_item(source_path,\n",
    "                                 dest_path,\n",
    "                                 recursive=True))\n",
    "## Alternatively, transfer a specific file\n",
    "# transfer_items.append(\n",
    "#     tc.make_submit_transfer_item(\"/source/path/file.txt\",\n",
    "#                                  \"/dest/path/file.txt\"))\n",
    "\n",
    "# Ensure endpoints are activated\n",
    "ep1 = tc.endpoint_autoactivate(tutorial_endpoint_1)\n",
    "ep2 = tc.endpoint_autoactivate(tutorial_endpoint_2)\n",
    "\n",
    "transfer_data = tc.make_submit_transfer_data(\n",
    "    source_endpoint_id,\n",
    "    dest_endpoint_id,\n",
    "    transfer_items, label=label)\n",
    "transfer_result = tc.submit_transfer(transfer_data)\n",
    "task_id = transfer_result.data[\"task_id\"]\n",
    "print(\"Task ID: %s\" % task_id)"
   ]
  },
  {
   "cell_type": "markdown",
   "metadata": {},
   "source": [
    "## Get Task By ID\n",
    "\n",
    "While the task is running, or after completion, you can get information that describes the transfer task. "
   ]
  },
  {
   "cell_type": "code",
   "execution_count": null,
   "metadata": {
    "collapsed": false
   },
   "outputs": [],
   "source": [
    "r = tc.get_task(transfer_result.data['task_id'])\n",
    "print (\"Label: %s\" % r.data[\"label\"])\n",
    "print (\"Status: %s\" % r.data[\"status\"])\n",
    "print (\"Transfer: %s -> %s\" %(r.data[\"source_endpoint_display_name\"], r.data[\"destination_endpoint_display_name\"]))\n",
    "    \n",
    "if r.data[\"status\"] == \"SUCCEEDED\":\n",
    "    print (\"Bytes transferred: %s\" % r.data[\"bytes_transferred\"])\n",
    "    print (\"Files transferred: %s\" % r.data[\"files_transferred\"])\n",
    "    print (\"Transfer rate: %s bps\" % r.data[\"effective_bytes_per_second\"])"
   ]
  },
  {
   "cell_type": "markdown",
   "metadata": {},
   "source": [
    "## Check destination endpoint\n",
    "\n",
    "After the transfer has finished you can list the contents of the destination endpoint"
   ]
  },
  {
   "cell_type": "code",
   "execution_count": null,
   "metadata": {
    "collapsed": false
   },
   "outputs": [],
   "source": [
    "r = tc.operation_ls(dest_endpoint_id,path=dest_path)\n",
    "print(\"==== Endpoint_ls for endpoint %s %s ====\"%(dest_endpoint_id,dest_path))\n",
    "for item in r.data['DATA']:\n",
    "    print(\"%s: %s [%s]\"%(item['type'],item['name'],item['size']))"
   ]
  },
  {
   "cell_type": "markdown",
   "metadata": {},
   "source": [
    "## Get task list\n",
    "\n",
    "You can get a list of past or current tasks with the following call. Note, you can also use a variety of filters to control the scope of results. "
   ]
  },
  {
   "cell_type": "code",
   "execution_count": null,
   "metadata": {
    "collapsed": false
   },
   "outputs": [],
   "source": [
    "# help(tc.task_list)\n",
    "r = tc.task_list(num_results=10)\n",
    "for i,item in enumerate(r):\n",
    "    print(item.data['status'],\n",
    "          item.data['task_id'], \n",
    "          item.data['type'],\n",
    "          item.data['source_endpoint_display_name'],\n",
    "          item.data['destination_endpoint_display_name'],\n",
    "          item.data['label'])"
   ]
  },
  {
   "cell_type": "markdown",
   "metadata": {},
   "source": [
    "## Filter task list\n",
    "\n",
    "Retrieve only active tasks.  TODO: Link to filters. "
   ]
  },
  {
   "cell_type": "code",
   "execution_count": null,
   "metadata": {
    "collapsed": false
   },
   "outputs": [],
   "source": [
    "r = tc.task_list(num_results=10, filter=\"status:ACTIVE\")\n",
    "for i,item in enumerate(r):\n",
    "    print(item.data['status'],\n",
    "          item.data['task_id'], \n",
    "          item.data['type'],\n",
    "          item.data['source_endpoint_display_name'],\n",
    "          item.data['destination_endpoint_display_name'],\n",
    "          item.data['label'])"
   ]
  },
  {
   "cell_type": "markdown",
   "metadata": {},
   "source": [
    "## Update task by id \n",
    "\n",
    "You can make changes to a task while is is still running. For exmaple, updating the label or deadline. "
   ]
  },
  {
   "cell_type": "code",
   "execution_count": null,
   "metadata": {
    "collapsed": false
   },
   "outputs": [],
   "source": [
    "#help(tc.update_task)\n",
    "task_doc = {\n",
    "        'DATA_TYPE': 'task',\n",
    "        'label' : 'updated tutorial label'\n",
    "}\n",
    "\n",
    "tc.update_task(task_id, task_doc)\n",
    "\n",
    "r = tc.get_task(task_id)\n",
    "print (\"Label: %s\" % r.data[\"label\"])\n"
   ]
  },
  {
   "cell_type": "markdown",
   "metadata": {},
   "source": [
    "## Cancel task\n",
    "\n",
    "You can also cancel a running task. "
   ]
  },
  {
   "cell_type": "code",
   "execution_count": null,
   "metadata": {
    "collapsed": false
   },
   "outputs": [],
   "source": [
    "#help(tc.cancel_task)\n",
    "r = tc.cancel_task(task_id)\n",
    "print (r.data[\"message\"])"
   ]
  },
  {
   "cell_type": "markdown",
   "metadata": {},
   "source": [
    "## Get event list for task\n",
    "\n",
    "Every task stores periodic event markers (e.g., errors, performance markers, etc.) You can retrieve and filter this list as follows. "
   ]
  },
  {
   "cell_type": "code",
   "execution_count": null,
   "metadata": {
    "collapsed": false
   },
   "outputs": [],
   "source": [
    "#help(tc.task_event_list)\n",
    "r = tc.task_event_list(task_id, num_results=10)\n",
    "for e in r:\n",
    "    print (e.data['time'], e.data['code'], e.data['is_error'], e.data['details'])\n"
   ]
  },
  {
   "cell_type": "markdown",
   "metadata": {},
   "source": [
    "## Get task pause info"
   ]
  },
  {
   "cell_type": "code",
   "execution_count": null,
   "metadata": {
    "collapsed": false
   },
   "outputs": [],
   "source": [
    "#help(tc.task_pause_info)\n",
    "r = tc.task_pause_info(task_id)\n",
    "print (r)"
   ]
  },
  {
   "cell_type": "markdown",
   "metadata": {},
   "source": [
    "# Bookmarks\n",
    "\n",
    "Bookmarks allow you to keep a list of frequently used endpoints and paths. Full management capabilities (create, retrieve, update, delete) are supported on bookmarks. "
   ]
  },
  {
   "cell_type": "markdown",
   "metadata": {},
   "source": [
    "## Create a Bookmark"
   ]
  },
  {
   "cell_type": "code",
   "execution_count": null,
   "metadata": {
    "collapsed": false
   },
   "outputs": [],
   "source": [
    "bookmark_name = \"My Tutorial Bookmark\"\n",
    "endpoint_id = tutorial_endpoint_1\n",
    "endpoint_path = '/share/godata/'\n",
    "r = tc.create_bookmark({\"endpoint_id\":endpoint_id, \"path\":endpoint_path,\"name\":bookmark_name})\n",
    "bookmark_id = r.data['id']\n",
    "print(r)"
   ]
  },
  {
   "cell_type": "markdown",
   "metadata": {},
   "source": [
    "## Get a list of bookmarks"
   ]
  },
  {
   "cell_type": "code",
   "execution_count": null,
   "metadata": {
    "collapsed": false
   },
   "outputs": [],
   "source": [
    "r = tc.bookmark_list()\n",
    "for b in r:\n",
    "    print (b.data['name'], b.data['path'], b.data['id'])"
   ]
  },
  {
   "cell_type": "markdown",
   "metadata": {},
   "source": [
    "## Update a bookmark\n"
   ]
  },
  {
   "cell_type": "code",
   "execution_count": null,
   "metadata": {
    "collapsed": false
   },
   "outputs": [],
   "source": [
    "bookmark_data = {\n",
    "    'name': 'My Updated Tutorial Bookmark'\n",
    "}\n",
    "r = tc.update_bookmark(bookmark_id, bookmark_data)\n",
    "print (r)"
   ]
  },
  {
   "cell_type": "markdown",
   "metadata": {},
   "source": [
    "## Delete a Bookmark"
   ]
  },
  {
   "cell_type": "code",
   "execution_count": null,
   "metadata": {
    "collapsed": false
   },
   "outputs": [],
   "source": [
    "r = tc.delete_bookmark(bookmark_id)\n",
    "print (r)"
   ]
  },
  {
   "cell_type": "markdown",
   "metadata": {},
   "source": [
    "# Shared endpoints"
   ]
  },
  {
   "cell_type": "markdown",
   "metadata": {},
   "source": [
    "## Create a shared endpoint"
   ]
  },
  {
   "cell_type": "code",
   "execution_count": null,
   "metadata": {
    "collapsed": false
   },
   "outputs": [],
   "source": [
    "# create a dir to share\n",
    "endpoint_id = tutorial_endpoint_1\n",
    "endpoint_path = '/~/shared_dir2'\n",
    "r = tc.operation_mkdir(endpoint_id,path=endpoint_path)\n",
    "\n",
    "# define the shared endpoint \n",
    "shared_ep = {\"DATA_TYPE\":\"endpoint\",\n",
    "             \"host_endpoint\":  tutorial_endpoint_1,\n",
    "             \"host_path\":endpoint_path,\n",
    "             \"display_name\":\"My Tutorial Shared Endpoint2\",\n",
    "             \"description\":\"\",\n",
    "             \"keywords\":\"\",\n",
    "             \"contact_email\":None,\n",
    "             \"info_link\":None,\n",
    "             \"force_encryption\":False}\n",
    "\n",
    "r = tc.post(\"shared_endpoint\", shared_ep)\n",
    "shared_endpoint_id = r.data['id']\n",
    "print (r)\n"
   ]
  },
  {
   "cell_type": "markdown",
   "metadata": {},
   "source": [
    "## Get endpoint information"
   ]
  },
  {
   "cell_type": "code",
   "execution_count": null,
   "metadata": {
    "collapsed": false
   },
   "outputs": [],
   "source": [
    "r = tc.get_endpoint(shared_endpoint_id)\n",
    "print(\"Display name: %s\" % r.data[\"display_name\"])\n",
    "print(\"Owner: %s\" % r.data[\"owner_string\"])\n",
    "print(\"Host Endpoint ID: %s\" % r.data[\"host_endpoint_id\"])"
   ]
  },
  {
   "cell_type": "markdown",
   "metadata": {},
   "source": [
    "## Get a list of shared endpoints"
   ]
  },
  {
   "cell_type": "code",
   "execution_count": null,
   "metadata": {
    "collapsed": false,
    "scrolled": true
   },
   "outputs": [],
   "source": [
    "endpoints = tc.endpoint_search(filter_scope=\"shared-by-me\")\n",
    "print(\"==== Displaying shared endpoints ===\")\n",
    "for r in endpoints:\n",
    "    print(\"%s (%s)\"%(r.data[\"display_name\"], r.data[\"id\"]))\n"
   ]
  },
  {
   "cell_type": "markdown",
   "metadata": {},
   "source": [
    "## Access_manager role"
   ]
  },
  {
   "cell_type": "code",
   "execution_count": null,
   "metadata": {
    "collapsed": true
   },
   "outputs": [],
   "source": []
  },
  {
   "cell_type": "markdown",
   "metadata": {},
   "source": [
    "## Add a new access control rule\n",
    "\n",
    "You can share access to different paths within your shared endpoint with users, groups, or publically. Here is an example of sharing with the tutorial users group. "
   ]
  },
  {
   "cell_type": "code",
   "execution_count": null,
   "metadata": {
    "collapsed": false
   },
   "outputs": [],
   "source": [
    "rule_data = {\n",
    "    'DATA_TYPE': 'access',\n",
    "    'permissions': 'rw',\n",
    "    'principal' : tutorial_users_group,\n",
    "    'principal_type' : 'group',\n",
    "    #'principal': 'IDENTITY_ID',\n",
    "    #'principal_type': 'identity',\n",
    "    'path': '/'\n",
    "}\n",
    "\n",
    "r= tc.add_endpoint_acl_rule(shared_endpoint_id, rule_data)\n",
    "access_rule_id = r.data['access_id']\n",
    "print (r)"
   ]
  },
  {
   "cell_type": "markdown",
   "metadata": {},
   "source": [
    "## Get list off access rules"
   ]
  },
  {
   "cell_type": "code",
   "execution_count": null,
   "metadata": {
    "collapsed": false
   },
   "outputs": [],
   "source": [
    "r = tc.endpoint_acl_list(shared_endpoint_id)\n",
    "for a in r:\n",
    "    print (a.data['id'], a.data['principal_type'], a.data['principal'], a.data['permissions'], a.data['path'])"
   ]
  },
  {
   "cell_type": "markdown",
   "metadata": {},
   "source": [
    "## Get access rule by id"
   ]
  },
  {
   "cell_type": "code",
   "execution_count": null,
   "metadata": {
    "collapsed": false
   },
   "outputs": [],
   "source": [
    "r = tc.get_endpoint_acl_rule(shared_endpoint_id, access_rule_id)\n",
    "print (r)\n"
   ]
  },
  {
   "cell_type": "markdown",
   "metadata": {},
   "source": [
    "## Update access rule"
   ]
  },
  {
   "cell_type": "code",
   "execution_count": null,
   "metadata": {
    "collapsed": false
   },
   "outputs": [],
   "source": [
    "rule_data = {\n",
    "    'DATA_TYPE': 'access',\n",
    "    'permissions': 'r',\n",
    "    'principal' : tutorial_users_group,\n",
    "    'principal_type' : 'group',\n",
    "    'path': '/'\n",
    "}\n",
    "r = tc.update_endpoint_acl_rule(shared_endpoint_id, access_rule_id, rule_data)\n",
    "print (r)"
   ]
  },
  {
   "cell_type": "markdown",
   "metadata": {},
   "source": [
    "## Delete access rule"
   ]
  },
  {
   "cell_type": "code",
   "execution_count": null,
   "metadata": {
    "collapsed": false
   },
   "outputs": [],
   "source": [
    "r = tc.delete_endpoint_acl_rule(shared_endpoint_id, access_rule_id)\n",
    "print (r)"
   ]
  },
  {
   "cell_type": "markdown",
   "metadata": {},
   "source": [
    "## Draw a map of endpoints\n",
    "\n",
    "Note: to run this demo you will need to install folium. "
   ]
  },
  {
   "cell_type": "code",
   "execution_count": 38,
   "metadata": {
    "collapsed": false
   },
   "outputs": [
    {
     "data": {
      "text/html": [
       "<div style=\"width:100%;\"><div style=\"position:relative;width:100%;height:0;padding-bottom:60%;\"><iframe src=\"data:text/html;base64,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\" style=\"position:absolute;width:100%;height:100%;left:0;top:0;\"></iframe></div></div>"
      ],
      "text/plain": [
       "<folium.folium.Map at 0x7fedc9b4e150>"
      ]
     },
     "execution_count": 38,
     "metadata": {},
     "output_type": "execute_result"
    }
   ],
   "source": [
    "import folium\n",
    "\n",
    "# Public endpoints with location specified\n",
    "endpoints = ['9ff55858-c8fa-11e5-9a3f-22000b96db58', '1128704a-b547-11e5-9a03-22000b96db58', \n",
    " '2f3bae00-fd2a-11e5-a704-22000bf2d559', 'e4c16ea6-6d04-11e5-ba46-22000b92c6ec', \n",
    " 'd33b36ba-6d04-11e5-ba46-22000b92c6ec', 'ae399168-dbc9-11e5-9774-22000b9da45e', \n",
    " 'dabdcddb-6d04-11e5-ba46-22000b92c6ec', 'bb0449b2-e3ec-11e5-9798-22000b9da45e' ]\n",
    "\n",
    "# create the base map\n",
    "width, height = 900, 500\n",
    "ep_map = folium.Map(location=[37.372, -95.6972], zoom_start=1,\n",
    "                    tiles='OpenStreetMap', width=width, height=height)\n",
    "\n",
    "# add each endpoint to the map\n",
    "for e in endpoints: \n",
    "    r = tc.get_endpoint(e)\n",
    "    folium.Marker([r.data['location']], popup=r.data['display_name']).add_to(ep_map)\n",
    "\n",
    "ep_map"
   ]
  },
  {
   "cell_type": "code",
   "execution_count": null,
   "metadata": {
    "collapsed": true
   },
   "outputs": [],
   "source": []
  }
 ],
 "metadata": {
  "kernelspec": {
   "display_name": "Python 2",
   "language": "python",
   "name": "python2"
  },
  "language_info": {
   "codemirror_mode": {
    "name": "ipython",
    "version": 2
   },
   "file_extension": ".py",
   "mimetype": "text/x-python",
   "name": "python",
   "nbconvert_exporter": "python",
   "pygments_lexer": "ipython2",
   "version": "2.7.6"
  }
 },
 "nbformat": 4,
 "nbformat_minor": 0
}
