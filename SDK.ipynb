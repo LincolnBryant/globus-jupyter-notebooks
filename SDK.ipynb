{
 "cells": [
  {
   "cell_type": "markdown",
   "metadata": {},
   "source": [
    "<img src=\"./img/header.png\">\n",
    "# Globus SDK\n",
    "https://github.com/globus/globus-sdk-python\n",
    "\n",
    "\n",
    "# Globus SDK Docs\n",
    "http://globus.github.io/globus-sdk-python/\n",
    "\n",
    "\n",
    "# Requirements\n",
    "- You need to be in the tutorial users group for sharing: https://www.globus.org/app/groups/50b6a29c-63ac-11e4-8062-22000ab68755\n",
    "- Installed Globus Python SDK"
   ]
  },
  {
   "cell_type": "code",
   "execution_count": null,
   "metadata": {
    "collapsed": false
   },
   "outputs": [],
   "source": [
    "from __future__ import print_function # for python 2\n",
    "tutorial_endpoint_1 = \"ddb59aef-6d04-11e5-ba46-22000b92c6ec\"      # endpoint \"Globus Tutorial Endpoint 1\"\n",
    "tutorial_endpoint_2 = \"ddb59af0-6d04-11e5-ba46-22000b92c6ec\"      # endpoint \"Globus Tutorial Endpoint 2\"\n",
    "tutorial_users_group = \"50b6a29c-63ac-11e4-8062-22000ab68755\"     # group \"Tutorial Users\""
   ]
  },
  {
   "cell_type": "markdown",
   "metadata": {},
   "source": [
    "# Configuration\n",
    "\n",
    "First you will need to configure the client with an OAuth2 access token. For the purpose of this tutorial, you can obtain access tokens via the tokens.globus.org website. Click the \"Jupyter Notebook\" option and copy the resulting text below, or click on \"Globus CLI\" and copy the resulting text into ~/.globus.cfg."
   ]
  },
  {
   "cell_type": "code",
   "execution_count": null,
   "metadata": {
    "collapsed": true
   },
   "outputs": [],
   "source": [
    "transfer_token = None # if None, tries to get token from ~/.globus.cfg file"
   ]
  },
  {
   "cell_type": "markdown",
   "metadata": {},
   "source": [
    "# Transfer Client\n",
    "\n",
    "The Globus Python SDK makes transfer functionality avaialable via a TransferClient class. "
   ]
  },
  {
   "cell_type": "markdown",
   "metadata": {},
   "source": [
    "## Instantiate Transfer Client\n",
    "\n",
    "The TransferClient can be instantiated by passing in a token or by using the token configured in your home directory (~/.globus.cfg). Tokens can be obtained via the tokens.globus.org site. "
   ]
  },
  {
   "cell_type": "code",
   "execution_count": null,
   "metadata": {
    "collapsed": false
   },
   "outputs": [],
   "source": [
    "import globus_sdk\n",
    "\n",
    "tc = globus_sdk.TransferClient(token=transfer_token)"
   ]
  },
  {
   "cell_type": "markdown",
   "metadata": {},
   "source": [
    "## Help\n",
    "\n",
    "Get help on any method."
   ]
  },
  {
   "cell_type": "code",
   "execution_count": null,
   "metadata": {
    "collapsed": false
   },
   "outputs": [],
   "source": [
    "help(tc.get_endpoint)"
   ]
  },
  {
   "cell_type": "markdown",
   "metadata": {},
   "source": [
    "## Using the client\n",
    "\n",
    "The transfer client makes REST resources avaialble via easy to use methods. \n",
    "\n",
    "The response from these methods wraps the HTTP response status, content type, text and JSON response body. "
   ]
  },
  {
   "cell_type": "code",
   "execution_count": null,
   "metadata": {
    "collapsed": false
   },
   "outputs": [],
   "source": [
    "r = tc.get_endpoint(tutorial_endpoint_1)\n",
    "print(\"HTTP Status Code:\", r.http_status)\n",
    "print(\"Content Type:\", r.content_type)\n",
    "print(\"Data:\", r)\n",
    "print(\"Endpoint Display Name:\", r[\"display_name\"]) # shortcut for r.data[\"display_name\"]"
   ]
  },
  {
   "cell_type": "markdown",
   "metadata": {},
   "source": [
    "Helper methods for APIs that returns lists have iterable responses, and automatically take care of paging where required:"
   ]
  },
  {
   "cell_type": "code",
   "execution_count": null,
   "metadata": {
    "collapsed": false
   },
   "outputs": [],
   "source": [
    "r = tc.endpoint_search(filter_scope=\"my-endpoints\")\n",
    "for ep in r:\n",
    "    print(\"{} ({})\".format(ep[\"display_name\"] or ep[\"canonical_name\"], ep[\"id\"]))"
   ]
  },
  {
   "cell_type": "markdown",
   "metadata": {},
   "source": [
    "If a helper method is not yet available for the desired API call, or for more low level control, the low-level interface can be used. Note that the low level interface does not do automatic paging:"
   ]
  },
  {
   "cell_type": "code",
   "execution_count": null,
   "metadata": {
    "collapsed": false
   },
   "outputs": [],
   "source": [
    "r = tc.get(\"/endpoint_search\", params=dict(filter_fulltext=\"Globus Tutorial Endpoint 1\", limit=1))\n",
    "if len(r[\"DATA\"]):\n",
    "    print(\"Endpoint id:\", r[\"DATA\"][0][\"id\"])\n",
    "    print(\"More matches?\", r[\"has_next_page\"])\n",
    "else:\n",
    "    print(\"No results\")"
   ]
  },
  {
   "cell_type": "markdown",
   "metadata": {},
   "source": [
    "## Handling errors\n",
    "\n",
    "If the API returns an error response (HTTP status code 4xx or 5xx), it will be translated to a Python exception and raised:"
   ]
  },
  {
   "cell_type": "code",
   "execution_count": null,
   "metadata": {
    "collapsed": false
   },
   "outputs": [],
   "source": [
    "try:\n",
    "    r = tc.get_endpoint(\"dcb2e10e-de27-4b99-8722-1a69aa3fc467\")\n",
    "except globus_sdk.GlobusAPIError as ex:\n",
    "    print(\"HTTP Status Code:\", ex.http_status)\n",
    "    print(\"Error Code      :\", ex.code)\n",
    "    print(\"Error Message   :\", ex.message)"
   ]
  },
  {
   "cell_type": "markdown",
   "metadata": {},
   "source": [
    "There are five basic classes of errors:\n",
    "\n",
    "1. Bad request - there is something wrong with the request from the client, like a mispelled parameter name or missing required data. These errors have a code that starts with ``BadRequest`` or ``ClientError.BadRequest``.\n",
    "2. State conflict - this is a very broad category, and covers all the errors that can happen during normal operation, and neither the client nor the server could have anticipated and avoided the error. Examples: local filesystem permissions not allowing the requested path on a remote GridFTP endpoint, endpoint not found (could have been deleted concurrently by another client). This also includes network errors communicating with GridFTP endpoints and other external services. These errors typically have a code containing ``PermissionDenied``, ``Conflict``, or ``ExternalError``.\n",
    "3. Network error - network failure between the REST client and the REST API server. These errors will result in a ``globus_sdk.NetworkError`` being raised by the SDK.\n",
    "4. Planned downtime - code ``ServiceUnavailable``.\n",
    "5. Server error - caused by a bug in the REST API server (code ``ServerError.InternalError``). We log such errors and incorperate fixes into our next release, but developers are still encouraged to submit details to the mailing list when they encounter these errors. Note that sometimes these errors are actually a sign of a bad request type error, i.e. the bug in the server is that it's not anticipating the exact type of bad data, so it's not reporting the correct error code, but the problem can still be resolved by a change to the client."
   ]
  },
  {
   "cell_type": "markdown",
   "metadata": {},
   "source": [
    "# Endpoint management"
   ]
  },
  {
   "cell_type": "markdown",
   "metadata": {},
   "source": [
    "## Endpoint search\n",
    "\n",
    "Globus has over 8000 registered endpoints. To find endpoints of interest you can access powerful search capabilities via the SDK. For example, to search for a given string across the descriptive fields of endpoints (names, description, keywords):"
   ]
  },
  {
   "cell_type": "code",
   "execution_count": null,
   "metadata": {
    "collapsed": false,
    "scrolled": true
   },
   "outputs": [],
   "source": [
    "search_str = None\n",
    "endpoints = tc.endpoint_search(search_str)\n",
    "print(\"==== Displaying endpoint matches for search: '{}' ===\".format(search_str))\n",
    "for ep in endpoints:\n",
    "    print(\"{} ({})\".format(ep[\"display_name\"], ep[\"id\"]))"
   ]
  },
  {
   "cell_type": "markdown",
   "metadata": {},
   "source": [
    "## Restricting search scope with filters\n",
    "\n",
    "There are also a number of default filters to restrict the search for 'my-endpoints', 'my-gcp-endpoints',     'recently-used', 'in-use', 'shared-by-me','shared-with-me') "
   ]
  },
  {
   "cell_type": "code",
   "execution_count": null,
   "metadata": {
    "collapsed": false
   },
   "outputs": [],
   "source": [
    "endpoints = tc.endpoint_search(\n",
    "        filter_fulltext=search_str, filter_scope=\"recently-used\")\n",
    "for ep in endpoints:\n",
    "    print(\"{} ({})\".format(ep[\"display_name\"], ep[\"id\"]))"
   ]
  },
  {
   "cell_type": "markdown",
   "metadata": {},
   "source": [
    "## Endpoint details\n",
    "\n",
    "You can also retrieve complete information about an endpoint, including name, owner, location, and server configurations. "
   ]
  },
  {
   "cell_type": "code",
   "execution_count": null,
   "metadata": {
    "collapsed": false
   },
   "outputs": [],
   "source": [
    "endpoint = tc.get_endpoint(tutorial_endpoint_1)\n",
    "print(\"Display name:\", endpoint[\"display_name\"])\n",
    "print(\"Owner:\", endpoint[\"owner_string\"])\n",
    "print(\"ID:\", endpoint[\"id\"])"
   ]
  },
  {
   "cell_type": "markdown",
   "metadata": {},
   "source": [
    "# File operations"
   ]
  },
  {
   "cell_type": "markdown",
   "metadata": {},
   "source": [
    "## Path encoding & UTF gotchas"
   ]
  },
  {
   "cell_type": "code",
   "execution_count": null,
   "metadata": {
    "collapsed": true
   },
   "outputs": [],
   "source": []
  },
  {
   "cell_type": "markdown",
   "metadata": {},
   "source": [
    "## Autoactivate Endpoints\n",
    "Globus endpoints must be \"activated\" before they can be used, which means associating an a credential with the endpoint that is used for login to that endpoint. Before performing operations against an endpoint, you should \"autoactivate\" the endpoint. On Globus Connect Personal and Shared endpoints, autoactivation will automatically create the necessary credentials to access the endpoint. For endpoints that require activation (e.g., those with a MyProxy or MyProxy OAuth identity provider) you can activate those endpoints via the Globus website. Here we autoactivate the Globus tutorial endpoints using their endpoint_ids."
   ]
  },
  {
   "cell_type": "code",
   "execution_count": null,
   "metadata": {
    "collapsed": false
   },
   "outputs": [],
   "source": [
    "#help(tc.endpoint_activate)\n",
    "ep1result = tc.endpoint_autoactivate(tutorial_endpoint_1)\n",
    "ep2result = tc.endpoint_autoactivate(tutorial_endpoint_2)\n",
    "print(\"Response code:\", ep1result[\"code\"])\n",
    "print(\"Response message:\", ep1result[\"message\"])"
   ]
  },
  {
   "cell_type": "markdown",
   "metadata": {},
   "source": [
    "## Get a directory listing\n",
    "\n",
    "Having activated an endpoint, you can now perform operations on it. For example, performing an ls command to retrieve directory contents. "
   ]
  },
  {
   "cell_type": "code",
   "execution_count": null,
   "metadata": {
    "collapsed": false
   },
   "outputs": [],
   "source": [
    "# help(tc.operation_ls)\n",
    "endpoint_id = tutorial_endpoint_1\n",
    "endpoint_path = \"/share/godata/\"\n",
    "r = tc.operation_ls(endpoint_id, path=endpoint_path)\n",
    "print(\"==== Endpoint_ls for endpoint {} {} ====\".format(endpoint_id, endpoint_path))\n",
    "for item in r:\n",
    "    print(\"{}: {} [{}]\".format(item[\"type\"], item[\"name\"], item[\"size\"]))"
   ]
  },
  {
   "cell_type": "markdown",
   "metadata": {},
   "source": [
    "## Make directory\n",
    "\n",
    "You can create a new directory."
   ]
  },
  {
   "cell_type": "code",
   "execution_count": null,
   "metadata": {
    "collapsed": false
   },
   "outputs": [],
   "source": [
    "#help(tc.operation_mkdir)\n",
    "try:\n",
    "    endpoint_id = tutorial_endpoint_1\n",
    "    endpoint_path = \"/~/tutorial_dir\"\n",
    "    mkdir_result = tc.operation_mkdir(endpoint_id, path=endpoint_path)\n",
    "    print(mkdir_result[\"message\"])\n",
    "except globus_sdk.GlobusAPIError as ex:\n",
    "    print(\"Error code:\", ex.code)\n",
    "    print(\"Error message:\", ex.message)"
   ]
  },
  {
   "cell_type": "markdown",
   "metadata": {},
   "source": [
    "## Rename\n",
    "\n",
    "You can rename files and directories on your endpoints. "
   ]
  },
  {
   "cell_type": "code",
   "execution_count": null,
   "metadata": {
    "collapsed": false
   },
   "outputs": [],
   "source": [
    "#help(tc.operation_rename)\n",
    "try:\n",
    "    endpoint_id = tutorial_endpoint_1\n",
    "    r = tc.operation_rename(endpoint_id, oldpath=\"/~/tutorial_dir\",\n",
    "                            newpath=\"/~/tutorial_dir_renamed\")\n",
    "    print(r[\"message\"])\n",
    "except globus_sdk.GlobusAPIError as ex:\n",
    "    print(\"Error code:\", ex.code)\n",
    "    print(\"Error message:\", ex.message)"
   ]
  },
  {
   "cell_type": "markdown",
   "metadata": {},
   "source": [
    "# Task submission and management\n",
    "\n",
    "The Globus task interface allows you to create and manage asynchronous file transfer and deletion tasks. "
   ]
  },
  {
   "cell_type": "markdown",
   "metadata": {},
   "source": [
    "## Transfer\n",
    "\n",
    "Creating a transfer is a two stage process. First you must create a description of the data you want to transfer (which also creates a unique submission_id), and then you can submit the request to Globus to transfer that data. \n",
    "\n",
    "If the submit_transfer fails, you can safely resubmit the same transfer_data again. The submission_id will ensure that this transfer request will be submitted once and only once."
   ]
  },
  {
   "cell_type": "code",
   "execution_count": null,
   "metadata": {
    "collapsed": false
   },
   "outputs": [],
   "source": [
    "# help(tc.submit_transfer)\n",
    "source_endpoint_id = tutorial_endpoint_1\n",
    "source_path = \"/share/godata/\"\n",
    "\n",
    "dest_endpoint_id = tutorial_endpoint_2\n",
    "dest_path = \"/~/\"\n",
    "\n",
    "label = \"My tutorial transfer\"\n",
    "\n",
    "# TransferData() automatically gets a submission_id for once-and-only-once submission\n",
    "tdata = globus_sdk.TransferData(tc, source_endpoint_id,\n",
    "                                dest_endpoint_id,\n",
    "                                label=label)\n",
    "\n",
    "## Recursively transfer source path contents\n",
    "tdata.add_item(source_path, dest_path, recursive=True)\n",
    "\n",
    "## Alternatively, transfer a specific file\n",
    "# tdata.add_item(\"/source/path/file.txt\",\n",
    "#                \"/dest/path/file.txt\"))\n",
    "\n",
    "# Ensure endpoints are activated\n",
    "tc.endpoint_autoactivate(source_endpoint_id)\n",
    "tc.endpoint_autoactivate(dest_endpoint_id)\n",
    "\n",
    "submit_result = tc.submit_transfer(tdata)\n",
    "print(\"Task ID:\", submit_result[\"task_id\"])"
   ]
  },
  {
   "cell_type": "markdown",
   "metadata": {},
   "source": [
    "## Get Task By ID\n",
    "\n",
    "While the task is running, or after completion, you can get information that describes the transfer task. "
   ]
  },
  {
   "cell_type": "code",
   "execution_count": null,
   "metadata": {
    "collapsed": false
   },
   "outputs": [],
   "source": [
    "r = tc.get_task(submit_result['task_id'])\n",
    "print (\"Label:\", r[\"label\"])\n",
    "print (\"Status:\", r[\"status\"])\n",
    "print (\"Transfer: {} -> {}\".format(r[\"source_endpoint_display_name\"],\n",
    "                                   r[\"destination_endpoint_display_name\"]))\n",
    "    \n",
    "if r.data[\"status\"] == \"SUCCEEDED\":\n",
    "    print (\"Bytes transferred:\", r[\"bytes_transferred\"])\n",
    "    print (\"Files transferred:\", r[\"files_transferred\"])\n",
    "    print (\"Transfer rate:\", r[\"effective_bytes_per_second\"], \"bps\")"
   ]
  },
  {
   "cell_type": "markdown",
   "metadata": {},
   "source": [
    "## Check destination endpoint\n",
    "\n",
    "After the transfer has finished you can list the contents of the destination endpoint"
   ]
  },
  {
   "cell_type": "code",
   "execution_count": null,
   "metadata": {
    "collapsed": false
   },
   "outputs": [],
   "source": [
    "ls_iter = tc.operation_ls(dest_endpoint_id, path=dest_path)\n",
    "print(\"==== Endpoint_ls for endpoint {} {} ====\".format(dest_endpoint_id, dest_path))\n",
    "for item in ls_iter:\n",
    "    print(\"{}: {} [{}]\".format(item[\"type\"], item[\"name\"], item[\"size\"]))"
   ]
  },
  {
   "cell_type": "markdown",
   "metadata": {},
   "source": [
    "## Get task list\n",
    "\n",
    "You can get a list of past or current tasks with the following call. Note that by default, only `TRANSFER` tasks are returned by default - the type filter is necessary to get `DELETE` tasks as well. This is a remnant of a legacy backward compatibility concern, and will likely be changed in the future so both are included by default."
   ]
  },
  {
   "cell_type": "code",
   "execution_count": null,
   "metadata": {
    "collapsed": false
   },
   "outputs": [],
   "source": [
    "# help(tc.task_list)\n",
    "r = tc.task_list(num_results=10, filter=\"type:TRANSFER,DELETE\")\n",
    "for i, item in enumerate(r):\n",
    "    print(item.data['status'],\n",
    "          item.data['task_id'], \n",
    "          item.data['type'],\n",
    "          item.data['source_endpoint_display_name'],\n",
    "          item.data['destination_endpoint_display_name'],\n",
    "          item.data['label'])"
   ]
  },
  {
   "cell_type": "markdown",
   "metadata": {},
   "source": [
    "## Filter task list\n",
    "\n",
    "Retrieve only active tasks:"
   ]
  },
  {
   "cell_type": "code",
   "execution_count": null,
   "metadata": {
    "collapsed": false
   },
   "outputs": [],
   "source": [
    "r = tc.task_list(num_results=10, filter=\"type:TRANSFER,DELETE/status:ACTIVE\")\n",
    "for i, item in enumerate(r):\n",
    "    print(item.data['status'],\n",
    "          item.data['task_id'], \n",
    "          item.data['type'],\n",
    "          item.data['source_endpoint_display_name'],\n",
    "          item.data['destination_endpoint_display_name'],\n",
    "          item.data['label'])"
   ]
  },
  {
   "cell_type": "markdown",
   "metadata": {},
   "source": [
    "See [Common Query Paraters](https://docs.globus.org/api/transfer/task/#common_query_parameters) for a description of the `filter` parameter, and [Task List filters](https://docs.globus.org/api/transfer/task/#filter_and_order_by_options) for details of what is supported by task list."
   ]
  },
  {
   "cell_type": "markdown",
   "metadata": {},
   "source": [
    "## Cancel task\n",
    "\n",
    "You can also cancel a running task. "
   ]
  },
  {
   "cell_type": "code",
   "execution_count": null,
   "metadata": {
    "collapsed": false
   },
   "outputs": [],
   "source": [
    "#help(tc.cancel_task)\n",
    "r = tc.cancel_task(submit_result[\"task_id\"])\n",
    "print (\"{}: {}\".format(r[\"code\"], r[\"message\"]))"
   ]
  },
  {
   "cell_type": "markdown",
   "metadata": {},
   "source": [
    "## Get event list for task\n",
    "\n",
    "Every task stores periodic event markers (e.g., errors, performance markers, etc.). You can retrieve and filter this list as follows. "
   ]
  },
  {
   "cell_type": "code",
   "execution_count": null,
   "metadata": {
    "collapsed": false
   },
   "outputs": [],
   "source": [
    "#help(tc.task_event_list)\n",
    "r = tc.task_event_list(task_id, num_results=10)\n",
    "for event in r:\n",
    "    print (event[\"time\"], event[\"code\"], event[\"is_error\"], event[\"details\"])\n"
   ]
  },
  {
   "cell_type": "markdown",
   "metadata": {},
   "source": [
    "## Delete files task\n",
    "\n",
    "File deletion is also an asynchronous task, that is submitted and monitored similar to a transfer task."
   ]
  },
  {
   "cell_type": "code",
   "execution_count": null,
   "metadata": {
    "collapsed": false
   },
   "outputs": [],
   "source": [
    "#help(tc.submit_delete)\n",
    "#create a folder, delete it, wait for completion\n",
    "endpoint_id = tutorial_endpoint_1\n",
    "path = \"/~/gw16_tutorial_delete_example\"\n",
    "try:\n",
    "    tc.operation_mkdir(endpoint_id, path=path)\n",
    "except globus_sdk.GlobusAPIError as ex:\n",
    "    if \"Exists\" in ex.code:\n",
    "        print(\"directory already exists, ignoring error\")\n",
    "    else:\n",
    "        raise\n",
    "\n",
    "label = \"My tutorial delete\"\n",
    "\n",
    "# DeleteData() automatically gets a submission_id for once-and-only-once submission\n",
    "# Note that recursive is a top level option for delete, not a per-path option like\n",
    "# it is for transfers.\n",
    "ddata = globus_sdk.DeleteData(tc, endpoint_id, label=label,\n",
    "                              recursive=True)\n",
    "\n",
    "## Recursively delete path contents (because of recursive flag set above)\n",
    "ddata.add_item(path)\n",
    "\n",
    "# Ensure endpoint is activated\n",
    "tc.endpoint_autoactivate(endpoint_id)\n",
    "\n",
    "submit_result = tc.submit_delete(ddata)\n",
    "print(\"Task ID:\", submit_result[\"task_id\"])"
   ]
  },
  {
   "cell_type": "markdown",
   "metadata": {},
   "source": [
    "## Wait for task to complete\n",
    "\n",
    "Transfer and delete tasks are asynchronous operations, and dependong on their size may take a long time to complete. However sometime for small tasks it makes sense to wait for them to complete before performing another operation in your code. This can be done by polling the status of the task every 15 or so seconds:"
   ]
  },
  {
   "cell_type": "code",
   "execution_count": null,
   "metadata": {
    "collapsed": false
   },
   "outputs": [],
   "source": [
    "# wait until transfer is complete, by polling every 15 seconds\n",
    "import time\n",
    "# Use the fields query parameter to get only the field we care about. This\n",
    "# decreases the size of the response, and is supported by most API resources.\n",
    "status = tc.get_task(submit_result[\"task_id\"], fields=\"status\")[\"status\"]\n",
    "poll_interval = 15 # in seconds\n",
    "max_wait = 60\n",
    "wait_time = 0\n",
    "while status not in (\"SUCCEEDED\", \"FAILED\") and wait_time < max_wait:\n",
    "    print(\"Task not yet complete (status {}), sleeping for {} seconds...\".format(\n",
    "            status, poll_interval))\n",
    "    time.sleep(poll_interval)\n",
    "    wait_time += poll_interval\n",
    "    status = tc.get_task(submit_result[\"task_id\"], fields=\"status\")[\"status\"]\n",
    "print(\"Delete task completed with status\", status)"
   ]
  },
  {
   "cell_type": "markdown",
   "metadata": {},
   "source": [
    "# Bookmarks\n",
    "\n",
    "Bookmarks allow you to keep a list of frequently used endpoints and paths. Full management capabilities (create, retrieve, update, delete) are supported on bookmarks. Note that the REST API itself does not directly support bookmarks when performing operations. It is the responsibility of the client to allow the users to choose bookmarks, and then translate them to endpoint ids to perform ls operations and submit transfers. In particular, the www.globus.org website has full support for bookmarks."
   ]
  },
  {
   "cell_type": "markdown",
   "metadata": {},
   "source": [
    "## Create a Bookmark"
   ]
  },
  {
   "cell_type": "code",
   "execution_count": null,
   "metadata": {
    "collapsed": false
   },
   "outputs": [],
   "source": [
    "bookmark_name = \"My Tutorial Bookmark\"\n",
    "endpoint_id = tutorial_endpoint_1\n",
    "endpoint_path = \"/share/godata/\"\n",
    "r = tc.create_bookmark({\"endpoint_id\":endpoint_id, \"path\":endpoint_path,\"name\":bookmark_name})\n",
    "bookmark_id = r.data['id']\n",
    "print(r)"
   ]
  },
  {
   "cell_type": "markdown",
   "metadata": {},
   "source": [
    "## Get a list of bookmarks"
   ]
  },
  {
   "cell_type": "code",
   "execution_count": null,
   "metadata": {
    "collapsed": false
   },
   "outputs": [],
   "source": [
    "r = tc.bookmark_list()\n",
    "for b in r:\n",
    "    print (b.data['name'], b.data['path'], b.data['id'])"
   ]
  },
  {
   "cell_type": "markdown",
   "metadata": {},
   "source": [
    "## Update a bookmark\n"
   ]
  },
  {
   "cell_type": "code",
   "execution_count": null,
   "metadata": {
    "collapsed": false
   },
   "outputs": [],
   "source": [
    "bookmark_data = {\n",
    "    'name': 'My Updated Tutorial Bookmark'\n",
    "}\n",
    "r = tc.update_bookmark(bookmark_id, bookmark_data)\n",
    "print (r)"
   ]
  },
  {
   "cell_type": "markdown",
   "metadata": {},
   "source": [
    "## Delete a Bookmark"
   ]
  },
  {
   "cell_type": "code",
   "execution_count": null,
   "metadata": {
    "collapsed": false
   },
   "outputs": [],
   "source": [
    "r = tc.delete_bookmark(bookmark_id)\n",
    "print (r)"
   ]
  },
  {
   "cell_type": "markdown",
   "metadata": {},
   "source": [
    "# Shared endpoints\n",
    "\n",
    "Shared endpoints are virtual endpoints that refer to a particular \"host endpoint\" and path, and that allow Globus to manage access control that shared endpoint. Folders on the shared endpoint can be easily shared with other Globus users and groups via access control rules."
   ]
  },
  {
   "cell_type": "markdown",
   "metadata": {},
   "source": [
    "## Create a shared endpoint"
   ]
  },
  {
   "cell_type": "code",
   "execution_count": null,
   "metadata": {
    "collapsed": false
   },
   "outputs": [],
   "source": [
    "# create a dir to share\n",
    "host_endpoint_id = tutorial_endpoint_1\n",
    "host_endpoint_path = \"/~/shared_dir2\"\n",
    "try:\n",
    "    r = tc.operation_mkdir(host_endpoint_id, path=host_endpoint_path)\n",
    "except globus_sdk.GlobusAPIError as e:\n",
    "    # ignore the error if the directory already exists, otherwise raise\n",
    "    if \"Exists\" not in e.code:\n",
    "        raise\n",
    "\n",
    "# define the shared endpoint \n",
    "shared_ep = {\"DATA_TYPE\": \"shared_endpoint\",\n",
    "             \"host_endpoint\": host_endpoint_id,\n",
    "             \"host_path\": host_endpoint_path,\n",
    "             \"display_name\":\"My Tutorial Shared Endpoint2\",\n",
    "             # optionally specify additional endpoint fields\n",
    "             \"description\": \"Test creating a share from globus-jupyter-notebook\"\n",
    "             }\n",
    "\n",
    "r = tc.create_shared_endpoint(shared_ep)\n",
    "print(\"{}: {}\".format(r[\"code\"], r[\"message\"]))\n",
    "print(\"Endpoin ID\", r[\"id\"])\n",
    "shared_endpoint_id = r[\"id\"]"
   ]
  },
  {
   "cell_type": "markdown",
   "metadata": {},
   "source": [
    "## Get endpoint information"
   ]
  },
  {
   "cell_type": "code",
   "execution_count": null,
   "metadata": {
    "collapsed": false
   },
   "outputs": [],
   "source": [
    "r = tc.get_endpoint(shared_endpoint_id)\n",
    "print(\"Display name:\", r[\"display_name\"])\n",
    "print(\"Owner:\", r[\"owner_string\"])\n",
    "print(\"Host Endpoint ID:\", r[\"host_endpoint_id\"])"
   ]
  },
  {
   "cell_type": "markdown",
   "metadata": {},
   "source": [
    "## Get a list of shared endpoints"
   ]
  },
  {
   "cell_type": "code",
   "execution_count": null,
   "metadata": {
    "collapsed": false,
    "scrolled": true
   },
   "outputs": [],
   "source": [
    "endpoints = tc.endpoint_search(filter_scope=\"shared-by-me\")\n",
    "print(\"==== Displaying shared endpoints ===\")\n",
    "for r in endpoints:\n",
    "    print(\"{} ({})\".format(r[\"display_name\"], r[\"id\"]))\n"
   ]
  },
  {
   "cell_type": "markdown",
   "metadata": {},
   "source": [
    "## Add a new access control rule\n",
    "\n",
    "You can share access to different paths within your shared endpoint with users, groups, or publically. The principal_type can be one of 'identity', 'group, or 'all_authenticated_users', or 'anonymous'.  Each access rule is given a unique access_rule_id, which can be used to manage that access rule.\n",
    "\n",
    "Here is an example of sharing with the tutorial users group. "
   ]
  },
  {
   "cell_type": "code",
   "execution_count": null,
   "metadata": {
    "collapsed": false
   },
   "outputs": [],
   "source": [
    "rule_data = {\n",
    "    'DATA_TYPE': 'access',\n",
    "    'permissions': 'rw',\n",
    "    'principal' : tutorial_users_group,\n",
    "    'principal_type' : 'group',\n",
    "    #'principal': 'IDENTITY_ID',\n",
    "    #'principal_type': 'identity',\n",
    "    'path': '/'\n",
    "}\n",
    "\n",
    "r= tc.add_endpoint_acl_rule(shared_endpoint_id, rule_data)\n",
    "access_rule_id = r.data['access_id']\n",
    "print (r)"
   ]
  },
  {
   "cell_type": "markdown",
   "metadata": {},
   "source": [
    "## Get list of access rules"
   ]
  },
  {
   "cell_type": "code",
   "execution_count": null,
   "metadata": {
    "collapsed": false
   },
   "outputs": [],
   "source": [
    "r = tc.endpoint_acl_list(shared_endpoint_id)\n",
    "for a in r:\n",
    "    print (a.data['id'], a.data['principal_type'], a.data['principal'], a.data['permissions'], a.data['path'])"
   ]
  },
  {
   "cell_type": "markdown",
   "metadata": {},
   "source": [
    "## Get access rule by id\n",
    "\n",
    "Get the access rule details using its access_rule_id"
   ]
  },
  {
   "cell_type": "code",
   "execution_count": null,
   "metadata": {
    "collapsed": false
   },
   "outputs": [],
   "source": [
    "r = tc.get_endpoint_acl_rule(shared_endpoint_id, access_rule_id)\n",
    "print (r)\n"
   ]
  },
  {
   "cell_type": "markdown",
   "metadata": {},
   "source": [
    "## Update access rule\n",
    "\n",
    "Update an access rule using its access_rule_id."
   ]
  },
  {
   "cell_type": "code",
   "execution_count": null,
   "metadata": {
    "collapsed": false
   },
   "outputs": [],
   "source": [
    "rule_data = {\n",
    "    'DATA_TYPE': 'access',\n",
    "    'permissions': 'r',\n",
    "    'principal' : tutorial_users_group,\n",
    "    'principal_type' : 'group',\n",
    "    'path': '/'\n",
    "}\n",
    "r = tc.update_endpoint_acl_rule(shared_endpoint_id, access_rule_id, rule_data)\n",
    "print (r)"
   ]
  },
  {
   "cell_type": "markdown",
   "metadata": {},
   "source": [
    "## Delete access rule\n",
    "\n",
    "Delete an access rule using its access_rule_id."
   ]
  },
  {
   "cell_type": "code",
   "execution_count": null,
   "metadata": {
    "collapsed": false
   },
   "outputs": [],
   "source": [
    "r = tc.delete_endpoint_acl_rule(shared_endpoint_id, access_rule_id)\n",
    "print (r)"
   ]
  },
  {
   "cell_type": "markdown",
   "metadata": {},
   "source": [
    "# Low-level SDK interface\n",
    "\n",
    "The helper methods are all built on top of the low level interface. If a helper method is not yet available for the API resource you wish to use, the low level interface can be used directly.\n",
    "\n",
    "Note that the examples in this section use the endpoint management API resources, which DO have helper methods, but they still serve as good examples for how to use the low level interface."
   ]
  },
  {
   "cell_type": "markdown",
   "metadata": {},
   "source": [
    "## POST request\n",
    "\n",
    "Create an endpoint using the low level API:"
   ]
  },
  {
   "cell_type": "code",
   "execution_count": null,
   "metadata": {
    "collapsed": false
   },
   "outputs": [],
   "source": [
    "epdata = {\n",
    "    \"DATA_TYPE\": \"endpoint\",\n",
    "    \"display_name\": \"GW16 Tutorial Create Example\",\n",
    "    \"public\": False,\n",
    "    \"DATA\": [\n",
    "        {\n",
    "            \"DATA_TYPE\": \"server\",\n",
    "            \"hostname\": \"girdftp.example.org\",\n",
    "        }\n",
    "    ]\n",
    "}\n",
    "r = tc.post(\"/endpoint\", json_body=epdata)\n",
    "endpoint_id = r[\"id\"]\n",
    "print(r)"
   ]
  },
  {
   "cell_type": "markdown",
   "metadata": {},
   "source": [
    "## GET request\n",
    "\n",
    "Do a GET on the newly create endpoint:"
   ]
  },
  {
   "cell_type": "code",
   "execution_count": null,
   "metadata": {
    "collapsed": false
   },
   "outputs": [],
   "source": [
    "r = tc.get(\"/endpoint/{}\".format(endpoint_id),\n",
    "           params=dict(fields=\"id,display_name,description\"))\n",
    "print(r)"
   ]
  },
  {
   "cell_type": "markdown",
   "metadata": {},
   "source": [
    "## PUT request\n",
    "\n",
    "Update the description on the newly created endpoint:"
   ]
  },
  {
   "cell_type": "code",
   "execution_count": null,
   "metadata": {
    "collapsed": false
   },
   "outputs": [],
   "source": [
    "epupdate = {\n",
    "    \"description\": \"Test updating description using low level API\"\n",
    "}\n",
    "r = tc.put(\"/endpoint/{}\".format(endpoint_id), json_body=epupdate)\n",
    "print(r)"
   ]
  },
  {
   "cell_type": "markdown",
   "metadata": {},
   "source": [
    "## DELETE request\n",
    "\n",
    "Now delete the endpoint:"
   ]
  },
  {
   "cell_type": "code",
   "execution_count": null,
   "metadata": {
    "collapsed": false
   },
   "outputs": [],
   "source": [
    "r = tc.delete(\"/endpoint/{}\".format(endpoint_id))\n",
    "print(r)"
   ]
  },
  {
   "cell_type": "code",
   "execution_count": null,
   "metadata": {
    "collapsed": true
   },
   "outputs": [],
   "source": []
  }
 ],
 "metadata": {
  "kernelspec": {
   "display_name": "Python 3",
   "language": "python",
   "name": "python3"
  },
  "language_info": {
   "codemirror_mode": {
    "name": "ipython",
    "version": 3
   },
   "file_extension": ".py",
   "mimetype": "text/x-python",
   "name": "python",
   "nbconvert_exporter": "python",
   "pygments_lexer": "ipython3",
   "version": "3.5.1"
  }
 },
 "nbformat": 4,
 "nbformat_minor": 0
}
