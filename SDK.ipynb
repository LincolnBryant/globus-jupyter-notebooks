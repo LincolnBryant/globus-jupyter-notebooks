{
 "cells": [
  {
   "cell_type": "markdown",
   "metadata": {},
   "source": [
    "<img src=\"./img/header.png\">\n",
    "# Globus SDK\n",
    "https://github.com/globusonline/globus-sdk-python\n",
    "\n",
    "\n",
    "# Globus SDK Docs\n",
    "http://globusonline.github.io/globus-sdk-python/\n",
    "\n",
    "\n",
    "# Globus CLI\n",
    "https://github.com/globusonline/globus-cli\n",
    "\n",
    "### Some endpoints and associated endpoint IDs for the tutorial\n",
    "go#ep1: ddb59aef-6d04-11e5-ba46-22000b92c6ec <br>\n",
    "go#ep2: ddb59af0-6d04-11e5-ba46-22000b92c6ec\n"
   ]
  },
  {
   "cell_type": "code",
   "execution_count": 1,
   "metadata": {
    "collapsed": true
   },
   "outputs": [],
   "source": [
    "from __future__ import print_function # for python 2\n",
    "from globus_sdk import TransferClient\n",
    "\n",
    "tutorial_endpoints = {\"go#ep1\":\"ddb59aef-6d04-11e5-ba46-22000b92c6ec\",\n",
    "                       \"go#ep2\":\"ddb59af0-6d04-11e5-ba46-22000b92c6ec\"}"
   ]
  },
  {
   "cell_type": "markdown",
   "metadata": {},
   "source": [
    "# Transfer Client"
   ]
  },
  {
   "cell_type": "markdown",
   "metadata": {},
   "source": [
    "## Instantiate Transfer Client"
   ]
  },
  {
   "cell_type": "code",
   "execution_count": 2,
   "metadata": {
    "collapsed": true
   },
   "outputs": [],
   "source": [
    "tc = TransferClient() # uses transfer_token from the config file"
   ]
  },
  {
   "cell_type": "markdown",
   "metadata": {},
   "source": [
    "## Low-level Interface"
   ]
  },
  {
   "cell_type": "code",
   "execution_count": 3,
   "metadata": {
    "collapsed": false
   },
   "outputs": [
    {
     "name": "stdout",
     "output_type": "stream",
     "text": [
      "==== My Endpoints ====\n",
      "Display Name:air\n",
      "ID:6f67020c-f22d-11e5-9839-22000b9da45e\n",
      "\n",
      "Display Name:ben_test\n",
      "ID:07e41dd4-a5ae-11e5-99c1-22000b96db58\n",
      "\n",
      "Display Name:blaiszik-share\n",
      "ID:07256404-d9aa-11e5-976c-22000b9da45e\n",
      "\n",
      "Display Name:None\n",
      "ID:cabace53-6d04-11e5-ba46-22000b92c6ec\n",
      "\n",
      "Display Name:None\n",
      "ID:c12cf6f0-6d04-11e5-ba46-22000b92c6ec\n",
      "\n",
      "Display Name:None\n",
      "ID:db57dce6-6d04-11e5-ba46-22000b92c6ec\n",
      "\n",
      "Display Name:None\n",
      "ID:c8ee7e5c-6d04-11e5-ba46-22000b92c6ec\n",
      "\n",
      "Display Name:None\n",
      "ID:a1caca84-7745-11e5-9924-22000b96db58\n",
      "\n",
      "Display Name:None\n",
      "ID:5bc71728-9ad0-11e5-9997-22000b96db58\n",
      "\n",
      "Display Name:None\n",
      "ID:da434408-be18-11e5-9a0e-22000b96db58\n",
      "\n"
     ]
    }
   ],
   "source": [
    "print(\"==== My Endpoints ====\")\n",
    "r = tc.get(\"/endpoint_search?filter_scope=my-endpoints\")\n",
    "for epdict in r.data[\"DATA\"]:\n",
    "    print(\"Display Name:%s\\nID:%s\\n\"%(epdict[\"display_name\"], epdict[\"id\"]))"
   ]
  },
  {
   "cell_type": "markdown",
   "metadata": {},
   "source": [
    "## High-level Interface\n",
    "provides iterators for list responses"
   ]
  },
  {
   "cell_type": "code",
   "execution_count": 4,
   "metadata": {
    "collapsed": false
   },
   "outputs": [
    {
     "name": "stdout",
     "output_type": "stream",
     "text": [
      "==== My Endpoints ====\n",
      "Display Name:air\n",
      "ID:6f67020c-f22d-11e5-9839-22000b9da45e\n",
      "\n",
      "Display Name:ben_test\n",
      "ID:07e41dd4-a5ae-11e5-99c1-22000b96db58\n",
      "\n",
      "Display Name:blaiszik-share\n",
      "ID:07256404-d9aa-11e5-976c-22000b9da45e\n",
      "\n",
      "Display Name:None\n",
      "ID:cabace53-6d04-11e5-ba46-22000b92c6ec\n",
      "\n",
      "Display Name:None\n",
      "ID:c12cf6f0-6d04-11e5-ba46-22000b92c6ec\n",
      "\n",
      "Display Name:None\n",
      "ID:db57dce6-6d04-11e5-ba46-22000b92c6ec\n",
      "\n",
      "Display Name:None\n",
      "ID:c8ee7e5c-6d04-11e5-ba46-22000b92c6ec\n",
      "\n",
      "Display Name:None\n",
      "ID:a1caca84-7745-11e5-9924-22000b96db58\n",
      "\n",
      "Display Name:None\n",
      "ID:5bc71728-9ad0-11e5-9997-22000b96db58\n",
      "\n",
      "Display Name:None\n",
      "ID:da434408-be18-11e5-9a0e-22000b96db58\n",
      "\n"
     ]
    }
   ],
   "source": [
    "print(\"==== My Endpoints ====\")\n",
    "for r in tc.endpoint_search(filter_scope='my-endpoints'):\n",
    "    print(\"Display Name:%s\\nID:%s\\n\"%(r.data[\"display_name\"], r.data[\"id\"]))"
   ]
  },
  {
   "cell_type": "markdown",
   "metadata": {},
   "source": [
    "## Endpoint search by name"
   ]
  },
  {
   "cell_type": "code",
   "execution_count": 5,
   "metadata": {
    "collapsed": false
   },
   "outputs": [
    {
     "name": "stdout",
     "output_type": "stream",
     "text": [
      "==== Displaying endpoint matches for search: 'go#ep2' ====\n",
      "Display Name:Globus Tutorial Endpoint 2\n",
      "ID:ddb59af0-6d04-11e5-ba46-22000b92c6ec\n",
      "\n"
     ]
    }
   ],
   "source": [
    "search_str = \"go#ep2\"\n",
    "print(\"==== Displaying endpoint matches for search: '%s' ====\"%search_str)\n",
    "for r in tc.endpoint_search(search_str):\n",
    "    print(\"Display Name:%s\\nID:%s\\n\"%(r.data[\"display_name\"], r.data[\"id\"]))"
   ]
  },
  {
   "cell_type": "markdown",
   "metadata": {},
   "source": [
    "# File operations"
   ]
  },
  {
   "cell_type": "markdown",
   "metadata": {},
   "source": [
    "### Path encoding & UTF gotchas"
   ]
  },
  {
   "cell_type": "code",
   "execution_count": null,
   "metadata": {
    "collapsed": true
   },
   "outputs": [],
   "source": []
  },
  {
   "cell_type": "markdown",
   "metadata": {},
   "source": [
    "### Autoactivate Endpoints\n",
    "Here we activate the tutorial endpoints go#ep1 and go#ep2 using their endpoint_ids"
   ]
  },
  {
   "cell_type": "code",
   "execution_count": 6,
   "metadata": {
    "collapsed": false
   },
   "outputs": [],
   "source": [
    "#help(tc.endpoint_activate)\n",
    "r_go1 = tc.endpoint_autoactivate(tutorial_endpoints['go#ep1'])\n",
    "r_go2 = tc.endpoint_autoactivate(tutorial_endpoints['go#ep2'])"
   ]
  },
  {
   "cell_type": "markdown",
   "metadata": {},
   "source": [
    "### Get a directory listing"
   ]
  },
  {
   "cell_type": "code",
   "execution_count": 7,
   "metadata": {
    "collapsed": false
   },
   "outputs": [
    {
     "name": "stdout",
     "output_type": "stream",
     "text": [
      "==== Endpoint_ls for endpoint ddb59aef-6d04-11e5-ba46-22000b92c6ec /~/shared_dir/ ====\n",
      "dir: new_dir [4096]\n",
      "file: Ag-microparticles.TIF [1384141]\n",
      "file: ConductivityRestoration.png [4499617]\n",
      "file: CuSn_battery_electrode-before.mov [3702784]\n"
     ]
    }
   ],
   "source": [
    "# help(tc.operation_ls)\n",
    "endpoint_id = tutorial_endpoints['go#ep1'] \n",
    "endpoint_path = '/~/shared_dir/'\n",
    "r = tc.operation_ls(endpoint_id,path=endpoint_path)\n",
    "print(\"==== Endpoint_ls for endpoint %s %s ====\"%(endpoint_id,endpoint_path))\n",
    "for item in r.data['DATA']:\n",
    "    print(\"%s: %s [%s]\"%(item['type'],item['name'],item['size']))"
   ]
  },
  {
   "cell_type": "markdown",
   "metadata": {},
   "source": [
    "### Make directory"
   ]
  },
  {
   "cell_type": "code",
   "execution_count": null,
   "metadata": {
    "collapsed": false
   },
   "outputs": [],
   "source": [
    "#help(tc.operation_mkdir)\n",
    "endpoint_id = tutorial_endpoints['go#ep1'] \n",
    "endpoint_path = '/~/shared_dir/new_dir'\n",
    "r = tc.operation_mkdir(endpoint_id,path=endpoint_path)"
   ]
  },
  {
   "cell_type": "markdown",
   "metadata": {},
   "source": [
    "### Rename"
   ]
  },
  {
   "cell_type": "code",
   "execution_count": 9,
   "metadata": {
    "collapsed": false
   },
   "outputs": [
    {
     "ename": "TransferAPIError",
     "evalue": "(404, u'NotFound', u\"Path not found, Error: The source path '~/file1.txt' does not exist\\n\", u'9iFv4d2jb')",
     "output_type": "error",
     "traceback": [
      "\u001b[0;31m---------------------------------------------------------------------------\u001b[0m",
      "\u001b[0;31mTransferAPIError\u001b[0m                          Traceback (most recent call last)",
      "\u001b[0;32m<ipython-input-9-36d9eae7080f>\u001b[0m in \u001b[0;36m<module>\u001b[0;34m()\u001b[0m\n\u001b[1;32m      3\u001b[0m \u001b[0mendpoint_path\u001b[0m \u001b[0;34m=\u001b[0m \u001b[0;34m'/~/shared_dir/'\u001b[0m\u001b[0;34m\u001b[0m\u001b[0m\n\u001b[1;32m      4\u001b[0m tc.operation_rename(endpoint_id, oldpath=\"/~/file1.txt\",\n\u001b[0;32m----> 5\u001b[0;31m                     newpath=\"/~/project1data.txt\")\n\u001b[0m",
      "\u001b[0;32m/usr/local/lib/python2.7/site-packages/globus_sdk-0.1-py2.7.egg/globus_sdk/transfer/client.pyc\u001b[0m in \u001b[0;36moperation_rename\u001b[0;34m(self, endpoint_id, oldpath, newpath, **params)\u001b[0m\n\u001b[1;32m    434\u001b[0m             \u001b[0;34m'new_path'\u001b[0m\u001b[0;34m:\u001b[0m \u001b[0mnewpath\u001b[0m\u001b[0;34m\u001b[0m\u001b[0m\n\u001b[1;32m    435\u001b[0m         }\n\u001b[0;32m--> 436\u001b[0;31m         \u001b[0;32mreturn\u001b[0m \u001b[0mself\u001b[0m\u001b[0;34m.\u001b[0m\u001b[0mpost\u001b[0m\u001b[0;34m(\u001b[0m\u001b[0mresource_path\u001b[0m\u001b[0;34m,\u001b[0m \u001b[0mjson_body\u001b[0m\u001b[0;34m=\u001b[0m\u001b[0mjson_body\u001b[0m\u001b[0;34m,\u001b[0m \u001b[0mparams\u001b[0m\u001b[0;34m=\u001b[0m\u001b[0mparams\u001b[0m\u001b[0;34m)\u001b[0m\u001b[0;34m\u001b[0m\u001b[0m\n\u001b[0m\u001b[1;32m    437\u001b[0m \u001b[0;34m\u001b[0m\u001b[0m\n\u001b[1;32m    438\u001b[0m     \u001b[0;31m#\u001b[0m\u001b[0;34m\u001b[0m\u001b[0;34m\u001b[0m\u001b[0m\n",
      "\u001b[0;32m/usr/local/lib/python2.7/site-packages/globus_sdk-0.1-py2.7.egg/globus_sdk/base.pyc\u001b[0m in \u001b[0;36mpost\u001b[0;34m(self, path, json_body, params, headers, text_body, auth)\u001b[0m\n\u001b[1;32m     82\u001b[0m         \"\"\"\n\u001b[1;32m     83\u001b[0m         return self._request(\"POST\", path, json_body=json_body, params=params,\n\u001b[0;32m---> 84\u001b[0;31m                              headers=headers, text_body=text_body, auth=auth)\n\u001b[0m\u001b[1;32m     85\u001b[0m \u001b[0;34m\u001b[0m\u001b[0m\n\u001b[1;32m     86\u001b[0m     \u001b[0;32mdef\u001b[0m \u001b[0mdelete\u001b[0m\u001b[0;34m(\u001b[0m\u001b[0mself\u001b[0m\u001b[0;34m,\u001b[0m \u001b[0mpath\u001b[0m\u001b[0;34m,\u001b[0m \u001b[0mparams\u001b[0m\u001b[0;34m=\u001b[0m\u001b[0mNone\u001b[0m\u001b[0;34m,\u001b[0m \u001b[0mheaders\u001b[0m\u001b[0;34m=\u001b[0m\u001b[0mNone\u001b[0m\u001b[0;34m,\u001b[0m \u001b[0mauth\u001b[0m\u001b[0;34m=\u001b[0m\u001b[0mNone\u001b[0m\u001b[0;34m)\u001b[0m\u001b[0;34m:\u001b[0m\u001b[0;34m\u001b[0m\u001b[0m\n",
      "\u001b[0;32m/usr/local/lib/python2.7/site-packages/globus_sdk-0.1-py2.7.egg/globus_sdk/base.pyc\u001b[0m in \u001b[0;36m_request\u001b[0;34m(self, method, path, params, headers, json_body, text_body, auth)\u001b[0m\n\u001b[1;32m    132\u001b[0m         \u001b[0;32mif\u001b[0m \u001b[0;36m200\u001b[0m \u001b[0;34m<=\u001b[0m \u001b[0mr\u001b[0m\u001b[0;34m.\u001b[0m\u001b[0mstatus_code\u001b[0m \u001b[0;34m<\u001b[0m \u001b[0;36m400\u001b[0m\u001b[0;34m:\u001b[0m\u001b[0;34m\u001b[0m\u001b[0m\n\u001b[1;32m    133\u001b[0m             \u001b[0;32mreturn\u001b[0m \u001b[0mself\u001b[0m\u001b[0;34m.\u001b[0m\u001b[0mresponse_class\u001b[0m\u001b[0;34m(\u001b[0m\u001b[0mr\u001b[0m\u001b[0;34m)\u001b[0m\u001b[0;34m\u001b[0m\u001b[0m\n\u001b[0;32m--> 134\u001b[0;31m         \u001b[0;32mraise\u001b[0m \u001b[0mself\u001b[0m\u001b[0;34m.\u001b[0m\u001b[0merror_class\u001b[0m\u001b[0;34m(\u001b[0m\u001b[0mr\u001b[0m\u001b[0;34m)\u001b[0m\u001b[0;34m\u001b[0m\u001b[0m\n\u001b[0m\u001b[1;32m    135\u001b[0m \u001b[0;34m\u001b[0m\u001b[0m\n\u001b[1;32m    136\u001b[0m \u001b[0;34m\u001b[0m\u001b[0m\n",
      "\u001b[0;31mTransferAPIError\u001b[0m: (404, u'NotFound', u\"Path not found, Error: The source path '~/file1.txt' does not exist\\n\", u'9iFv4d2jb')"
     ]
    }
   ],
   "source": [
    "#help(tc.operation_rename)\n",
    "endpoint_id = tutorial_endpoints['go#ep1'] \n",
    "endpoint_path = '/~/shared_dir/'\n",
    "tc.operation_rename(endpoint_id, oldpath=\"/~/file1.txt\",\n",
    "                    newpath=\"/~/project1data.txt\")"
   ]
  },
  {
   "cell_type": "markdown",
   "metadata": {},
   "source": [
    "# Task submission"
   ]
  },
  {
   "cell_type": "markdown",
   "metadata": {},
   "source": [
    "### Transfer w/o sync\n"
   ]
  },
  {
   "cell_type": "code",
   "execution_count": 19,
   "metadata": {
    "collapsed": false
   },
   "outputs": [
    {
     "name": "stdout",
     "output_type": "stream",
     "text": [
      "task_id =  1a09c8a8-001a-11e6-a717-22000bf2d559\n"
     ]
    }
   ],
   "source": [
    "# help(tc.submit_transfer)\n",
    "source_endpoint_id = tutorial_endpoints['go#ep1']\n",
    "source_path = '/~/shared_dir/'\n",
    "\n",
    "dest_endpoint_id = tutorial_endpoints['go#ep2']\n",
    "dest_path = '/~/'\n",
    "\n",
    "label = \"My tutorial transfer\"\n",
    "\n",
    "transfer_items = []\n",
    "\n",
    "## Recursively transfer source path contents\n",
    "transfer_items.append(\n",
    "    tc.make_submit_transfer_item(source_path,\n",
    "                                 dest_path,\n",
    "                                 recursive=True))\n",
    "## Alternatively, transfer a specific file\n",
    "# transfer_items.append(\n",
    "#     tc.make_submit_transfer_item(\"/source/path/file.txt\",\n",
    "#                                  \"/dest/path/file.txt\"))\n",
    "\n",
    "transfer_data = tc.make_submit_transfer_data(\n",
    "    source_endpoint_id,\n",
    "    dest_endpoint_id,\n",
    "    transfer_items, label=label)\n",
    "transfer_result = tc.submit_transfer(transfer_data)\n",
    "print(\"task_id = \", transfer_result.data[\"task_id\"])"
   ]
  },
  {
   "cell_type": "markdown",
   "metadata": {},
   "source": [
    "# Task management"
   ]
  },
  {
   "cell_type": "markdown",
   "metadata": {},
   "source": [
    "### Get Task By ID"
   ]
  },
  {
   "cell_type": "code",
   "execution_count": null,
   "metadata": {
    "collapsed": true
   },
   "outputs": [],
   "source": [
    "r = tc.get_task(transfer_result.data['task_id'])\n",
    "r.data"
   ]
  },
  {
   "cell_type": "markdown",
   "metadata": {},
   "source": [
    "### Get task_list"
   ]
  },
  {
   "cell_type": "code",
   "execution_count": 36,
   "metadata": {
    "collapsed": false
   },
   "outputs": [
    {
     "name": "stdout",
     "output_type": "stream",
     "text": [
      "{u'files': 3, u'bytes_transferred': 9586542, u'DATA_TYPE': u'task', u'sync_level': None, u'completion_time': u'2016-04-11 19:18:02+00:00', u'canceled_by_admin_message': None, u'deadline': u'2016-04-12 19:18:00+00:00', u'destination_endpoint': u'go#ep2', u'bytes_checksummed': 0, u'delete_destination_extra': False, u'nice_status_details': None, u'source_endpoint_id': u'ddb59aef-6d04-11e5-ba46-22000b92c6ec', u'request_time': u'2016-04-11 19:18:00+00:00', u'nice_status': None, u'subtasks_expired': 0, u'subtasks_canceled': 0, u'label': u'My tutorial transfer', u'faults': 0, u'destination_endpoint_display_name': u'Globus Tutorial Endpoint 2', u'subtasks_total': 6, u'source_endpoint_display_name': u'Globus Tutorial Endpoint 1', u'command': u'API 0.10', u'nice_status_expires_in': None, u'subtask_link': {u'href': u'task/1a09c8a8-001a-11e6-a717-22000bf2d559/subtask_list?format=json', u'resource': u'subtask list', u'rel': u'child', u'DATA_TYPE': u'link', u'title': u'child subtask list'}, u'owner_id': u'c8741264-d274-11e5-bee7-f30dff9f1ea8', u'username': u'blaiszik', u'subtasks_retrying': 0, u'effective_bytes_per_second': 5599030, u'subtasks_failed': 0, u'history_deleted': False, u'files_skipped': 0, u'is_paused': False, u'nice_status_short_description': None, u'preserve_timestamp': False, u'task_id': u'1a09c8a8-001a-11e6-a717-22000bf2d559', u'files_transferred': 3, u'type': u'TRANSFER', u'encrypt_data': False, u'source_endpoint': u'go#ep1', u'subtasks_succeeded': 6, u'status': u'SUCCEEDED', u'event_link': {u'href': u'task/1a09c8a8-001a-11e6-a717-22000bf2d559/event_list?format=json', u'resource': u'event list', u'rel': u'child', u'DATA_TYPE': u'link', u'title': u'child event list'}, u'subtasks_pending': 0, u'canceled_by_admin': None, u'destination_endpoint_id': u'ddb59af0-6d04-11e5-ba46-22000b92c6ec', u'verify_checksum': False, u'directories': 2}\n"
     ]
    }
   ],
   "source": [
    "# help(tc.task_list)\n",
    "r = tc.task_list()\n",
    "for i,item in enumerate(r):\n",
    "    print(item.data)\n",
    "    if r > 10:\n",
    "        break"
   ]
  },
  {
   "cell_type": "markdown",
   "metadata": {},
   "source": [
    "### Update task by id (label, deadline)"
   ]
  },
  {
   "cell_type": "code",
   "execution_count": null,
   "metadata": {
    "collapsed": true
   },
   "outputs": [],
   "source": [
    "help(tc.update_task)"
   ]
  },
  {
   "cell_type": "markdown",
   "metadata": {},
   "source": [
    "### Cancel task by id"
   ]
  },
  {
   "cell_type": "code",
   "execution_count": null,
   "metadata": {
    "collapsed": false
   },
   "outputs": [],
   "source": [
    "help(tc.cancel_task)"
   ]
  },
  {
   "cell_type": "markdown",
   "metadata": {},
   "source": [
    "### Get event list for task"
   ]
  },
  {
   "cell_type": "code",
   "execution_count": null,
   "metadata": {
    "collapsed": true
   },
   "outputs": [],
   "source": []
  },
  {
   "cell_type": "markdown",
   "metadata": {},
   "source": [
    "### Get task pause info"
   ]
  },
  {
   "cell_type": "code",
   "execution_count": null,
   "metadata": {
    "collapsed": true
   },
   "outputs": [],
   "source": []
  },
  {
   "cell_type": "markdown",
   "metadata": {},
   "source": [
    "# Bookmarks"
   ]
  },
  {
   "cell_type": "markdown",
   "metadata": {},
   "source": [
    "# Create a Bookmark"
   ]
  },
  {
   "cell_type": "code",
   "execution_count": null,
   "metadata": {
    "collapsed": false
   },
   "outputs": [],
   "source": [
    "bookmark_name = \"My Tutorial Bookmark\"\n",
    "endpoint_id = tutorial_endpoints['go#ep1']\n",
    "endpoint_path = '/'\n",
    "r = tc.create_bookmark({\"endpoint_id\":endpoint_id, \"path\":endpoint_path,\"name\":bookmark_name})\n",
    "r"
   ]
  },
  {
   "cell_type": "markdown",
   "metadata": {},
   "source": [
    "# Delete a Bookmark"
   ]
  },
  {
   "cell_type": "code",
   "execution_count": null,
   "metadata": {
    "collapsed": false
   },
   "outputs": [],
   "source": [
    "tc.delete_bookmark(r.data['id'])"
   ]
  },
  {
   "cell_type": "markdown",
   "metadata": {},
   "source": [
    "### CRUD + list"
   ]
  },
  {
   "cell_type": "code",
   "execution_count": null,
   "metadata": {
    "collapsed": true
   },
   "outputs": [],
   "source": []
  },
  {
   "cell_type": "markdown",
   "metadata": {},
   "source": [
    "# Shared endpoints"
   ]
  },
  {
   "cell_type": "markdown",
   "metadata": {},
   "source": [
    "### Access_manager role"
   ]
  },
  {
   "cell_type": "code",
   "execution_count": null,
   "metadata": {
    "collapsed": true
   },
   "outputs": [],
   "source": []
  },
  {
   "cell_type": "markdown",
   "metadata": {},
   "source": [
    "### Get list off access rules"
   ]
  },
  {
   "cell_type": "code",
   "execution_count": null,
   "metadata": {
    "collapsed": true
   },
   "outputs": [],
   "source": []
  },
  {
   "cell_type": "markdown",
   "metadata": {},
   "source": [
    "### Get access rule by id"
   ]
  },
  {
   "cell_type": "code",
   "execution_count": null,
   "metadata": {
    "collapsed": true
   },
   "outputs": [],
   "source": []
  },
  {
   "cell_type": "markdown",
   "metadata": {},
   "source": [
    "### Create access rule"
   ]
  },
  {
   "cell_type": "code",
   "execution_count": null,
   "metadata": {
    "collapsed": true
   },
   "outputs": [],
   "source": []
  },
  {
   "cell_type": "markdown",
   "metadata": {},
   "source": [
    "### Update access rule"
   ]
  },
  {
   "cell_type": "code",
   "execution_count": null,
   "metadata": {
    "collapsed": true
   },
   "outputs": [],
   "source": []
  },
  {
   "cell_type": "markdown",
   "metadata": {},
   "source": [
    "### Delete access rule"
   ]
  },
  {
   "cell_type": "code",
   "execution_count": null,
   "metadata": {
    "collapsed": true
   },
   "outputs": [],
   "source": []
  }
 ],
 "metadata": {
  "kernelspec": {
   "display_name": "Python 2",
   "language": "python",
   "name": "python2"
  },
  "language_info": {
   "codemirror_mode": {
    "name": "ipython",
    "version": 2
   },
   "file_extension": ".py",
   "mimetype": "text/x-python",
   "name": "python",
   "nbconvert_exporter": "python",
   "pygments_lexer": "ipython2",
   "version": "2.7.10"
  }
 },
 "nbformat": 4,
 "nbformat_minor": 0
}
