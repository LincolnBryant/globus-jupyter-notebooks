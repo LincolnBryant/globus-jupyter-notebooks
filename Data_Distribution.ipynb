{
 "cells": [
  {
   "attachments": {},
   "cell_type": "markdown",
   "metadata": {},
   "source": [
    "# Data Distribution\n",
    "\n",
    "This tutorial demonstrates how to implements a simple data disitrubtion flow. The general use case is as follows:\n",
    "\n",
    "1. A user has logged into the scinece gateway and wishes to access a dataset\n",
    "1. Once the user selects the dataset, the science gateway will stage the data in a temporary directory, and grant the user read-only access to the directory\n",
    "1. Once the user has successfully downloaded the data, the directory is removed (this can also be done based on a timeframe, after which the user's permission is revoked).\n",
    "\n",
    "Note: You launched this notebook using the Globus-enabled JupyterHub environment, so the following have already happened:\n",
    "1. You have established your identity by authenticating, with an institutional credential, ORCID, or similar\n",
    "1. You have granted consent to the issuance of tokens with certain scopes\n",
    "1. A notebook has been created, with access to those tokens"
   ]
  },
  {
   "cell_type": "markdown",
   "metadata": {},
   "source": [
    "## Get tokens from the Jupyter environment\n",
    "\n",
    "The Globus-enabled JupyterHub passes the tokens into the notebook environment `base64` encoded as a pickled Python dictionary assigned to the `GLOBUS_DATA` variable. We'll grab the variable and unpack it. "
   ]
  },
  {
   "cell_type": "code",
   "execution_count": null,
   "metadata": {},
   "outputs": [],
   "source": [
    "# We will need a few utility packages\n",
    "import os, pickle, base64, json\n",
    "\n",
    "# Get Globus Auth token data\n",
    "globus_token_data = os.getenv('GLOBUS_DATA')\n",
    "\n",
    "# now extract the pickled tokens\n",
    "pickled_tokens = base64.b64decode(globus_token_data)\n",
    "\n",
    "# Unpickle and get the dictionary\n",
    "tokens = pickle.loads(pickled_tokens)\n",
    "\n",
    "# Minimal sanity check, did we get the data type we expected?\n",
    "if isinstance(tokens, dict):\n",
    "  print(json.dumps(tokens, indent=4))"
   ]
  },
  {
   "cell_type": "markdown",
   "metadata": {},
   "source": [
    "## Get the authenticated user's primary identity\n",
    "\n",
    "We will grant the user access to the data via their primary identity. This may be retrieved in a number of ways; here we just extract it from the tokens object."
   ]
  },
  {
   "cell_type": "code",
   "execution_count": null,
   "metadata": {},
   "outputs": [],
   "source": [
    "# Get the authenticated user's primary identity from the tokens dictionary\n",
    "identity_id = tokens['id_token']['sub']\n",
    "primary_identity = next(identity for identity in tokens['id_token']['identity_set'] if identity['sub'] == identity_id)\n",
    " \n",
    "print(f\"Setting permissions for user: {primary_identity['username']}\")\n",
    "print(f\"Notifications will be sent to: {primary_identity['email']}\")   "
   ]
  },
  {
   "cell_type": "markdown",
   "metadata": {},
   "source": [
    "## Create data distribution directory\n",
    "\n",
    "Using a Globus Transfer client, we create a directory on the shared endpoint that will contain the data we are distributing to the user. The shared endpoint must already exist (it cannot be created on the fly); the data distribution directory will be named using the identity ID of the user."
   ]
  },
  {
   "cell_type": "code",
   "execution_count": null,
   "metadata": {},
   "outputs": [],
   "source": [
    "# Shared endpoint - must already exist\n",
    "shared_endpoint_id = \"e56c36e4-1063-11e6-a747-22000bf2d559\"  # legacy name petrel#testbed\n",
    "\n",
    "# This is directory where we will place files for distribution\n",
    "data_distribution_root = \"/disthome/\"\n",
    "\n",
    "# Create a TransferClient object using the Transfer service token\n",
    "transfer_access_token = tokens['tokens']['transfer.api.globus.org']['access_token']\n",
    "transfer_authorizer = globus_sdk.AccessTokenAuthorizer(transfer_access_token)\n",
    "tc = globus_sdk.TransferClient(authorizer=transfer_authorizer)\n",
    "\n",
    "# Create a directory for the files we're distributing (name it using the user's identity ID)\n",
    "try:\n",
    "    user_path = data_distribution_root + identity_id + '/'\n",
    "    mkdir_result = tc.operation_mkdir(shared_endpoint_id, path=user_path)\n",
    "    print(mkdir_result['message'])\n",
    "except globus_sdk.GlobusAPIError as error:\n",
    "    print(f\"Error code: {error.code}\\nError message: {error.message}\")"
   ]
  },
  {
   "cell_type": "markdown",
   "metadata": {},
   "source": [
    "## Approach A: Add permissions to data distribution directory\n",
    "\n",
    "The most strightforward approach is to grant the user access directly. In order to do this we must add their identity to the access control list for the specified directory. We will grant the user read-only access."
   ]
  },
  {
   "cell_type": "code",
   "execution_count": null,
   "metadata": {},
   "outputs": [],
   "source": [
    "# Compose the permission rule\n",
    "rule_data = {\n",
    "    'DATA_TYPE': 'access',\n",
    "    'permissions': 'r',  # read-only access\n",
    "    'principal': identity_id,  # the user's identity ID\n",
    "    'principal_type': 'identity',\n",
    "    'path': user_path  # the directory to which we're granting access\n",
    "}\n",
    "\n",
    "try:\n",
    "    # Add the rule to the access control list for the shared endpoint\n",
    "    response = tc.add_endpoint_acl_rule(shared_endpoint_id, rule_data)\n",
    "    access_rule_id = response['access_id']\n",
    "    print (response)\n",
    "except globus_sdk.GlobusAPIError as error:\n",
    "    if \"Exists\" in error.code:\n",
    "        print(\"ACL already exists, ignoring error\")\n",
    "    else:\n",
    "        raise"
   ]
  },
  {
   "cell_type": "markdown",
   "metadata": {},
   "source": [
    "## Approach B: Sharing via Groups membership\n",
    "An alternative approach can be used when sharing data with a larger community. This entails using a Globus Group; the group is granted access to the data directory and then users can be granted access simply by adding them to that group."
   ]
  },
  {
   "cell_type": "code",
   "execution_count": null,
   "metadata": {},
   "outputs": [],
   "source": [
    "import requests  # we'll use this to make low-level calls to the Groups API\n",
    "\n",
    "# Prepare the authorization header; get access token for the Groups service\n",
    "headers = {'Authorization':'Bearer '+ tokens['tokens']['groups.api.globus.org']['access_token']}\n",
    "\n",
    "# This is the group (Directed Omics Translation) that already has access to the shared endpoint\n",
    "sharing_group_id = \"b4cada3a-af7c-11e3-8b90-1231391ccf32\"  \n",
    "\n",
    "# Assuming we have the username, we can get the user's identity ID via the Auth service\n",
    "username = \"globus.demodoc@gmail.com\"\n",
    "identities = ac.get_identities(usernames=username).data['identities']\n",
    "\n",
    "# Now we add that identity to the group\n",
    "group_add = requests.post(f\"https://groups.api.globus.org/v2/groups/{sharing_group_id}\", \n",
    "                            data=json.dumps({\"add\": [{\"identity_id\": identities[0]['id']},]}),\n",
    "                            headers=headers).json()\n",
    "if not group_add['add']:\n",
    "    print(f\"Failed to add user to sharing group: {group_add['errors']['add'][0]['detail']}\")\n",
    "else:\n",
    "    print(json.dumps(group_add, indent=4))"
   ]
  },
  {
   "cell_type": "markdown",
   "metadata": {},
   "source": [
    "## Revoke user permissions\n",
    "We assume here that the science gateway either (a) tracks file transfers from the data distribution directory and can tell when data are successfully downloaded, or (b) sets a time limit for the user to download their data. After either (a) or (b), the science gateway will revoke the user's permissions and remove the data distribution directory.\n",
    "\n",
    "We revoke permission by either (a) removing the rule from the ACL for the shared endpoint, or (b) removing the user from the sharing group."
   ]
  },
  {
   "cell_type": "markdown",
   "metadata": {},
   "source": [
    "### Remove rule from shared endpoint ACL"
   ]
  },
  {
   "cell_type": "code",
   "execution_count": null,
   "metadata": {},
   "outputs": [],
   "source": [
    "response = tc.delete_endpoint_acl_rule(shared_endpoint_id, access_rule_id)\n",
    "print (response)"
   ]
  },
  {
   "cell_type": "markdown",
   "metadata": {},
   "source": [
    "### Remove user from sharing group\n",
    "There is currently no public API for removing group members, but this can be easily done [via the Globus web app here](https://app.globus.org/groups/b4cada3a-af7c-11e3-8b90-1231391ccf32/members)."
   ]
  }
 ],
 "metadata": {
  "kernelspec": {
   "display_name": "Python 3",
   "language": "python",
   "name": "python3"
  },
  "language_info": {
   "codemirror_mode": {
    "name": "ipython",
    "version": 3
   },
   "file_extension": ".py",
   "mimetype": "text/x-python",
   "name": "python",
   "nbconvert_exporter": "python",
   "pygments_lexer": "ipython3",
   "version": "3.7.5"
  }
 },
 "nbformat": 4,
 "nbformat_minor": 2
}
